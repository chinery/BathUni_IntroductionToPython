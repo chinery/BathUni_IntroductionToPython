{
 "cells": [
  {
   "cell_type": "markdown",
   "metadata": {},
   "source": [
    "# Chapter 4 – Data Structures\n",
    "## 4.1 Sequences and Lists\n",
    "### Data From Data\n",
    "We have often mentioned the importance of *types* in programming. Python is more flexible than many languages about typing, but it's still really important that you can always work out what the expected types are in any given situation. Sometimes it's the only way to make the code work: `\"Number \" + 1` will give an error, but `\"Number \" + str(1)` produces the desired result. A line of code might do many different things depending on the exact types, so keeping track of what type you expect a variable to be can make debugging much easier.\n",
    "\n",
    "Many of the types we've used so far are what some languages might call *primitives*. While this is not a word used in the official Python documentation in this context, it is commonly used in other guides and tutorials. A *primitive* is an *atomic* data type – it is its own thing, you cannot break it down into smaller parts. In Python this includes integers, floats, strings, and Booleans.\n",
    "\n",
    "In another language programming language called Java, *characters* are a *primitive* data type, and strings are made up of multiple characters. This makes the string a *composite* data type in Java.\n",
    "\n",
    "A **data structure** is a composite data type where data is organised in a way that provides certain benefits – often speed or space efficiency. For some problems, a suitable choice of data structure can make the solution more efficient and easier to write.\n",
    "\n",
    "In Python, strings *can* be broken down into characters, but each character is just a single letter string. The *object* you get as a result of *indexing* the string is itself another string:"
   ]
  },
  {
   "cell_type": "code",
   "execution_count": 2,
   "metadata": {},
   "outputs": [
    {
     "data": {
      "text/plain": [
       "True"
      ]
     },
     "execution_count": 2,
     "metadata": {},
     "output_type": "execute_result"
    }
   ],
   "source": [
    "text = \"hello\"\n",
    "character = text[0]\n",
    "type(text) == type(character)"
   ]
  },
  {
   "cell_type": "markdown",
   "metadata": {},
   "source": [
    "Strings in Python are an example of a *sequence* data type. Sequences are collections which support certain operations like indexing, slicing (e.g. `text[3:5]`), and so on.\n",
    "\n",
    "Another sequence type you will use a lot is the list.\n",
    "\n",
    "### Lists\n",
    "A **list** is an ordered collection of objects. It is a sequence type data structure. Lists are written with square brackets, so we can write a list containing the numbers from `1` to `5`:"
   ]
  },
  {
   "cell_type": "code",
   "execution_count": 4,
   "metadata": {},
   "outputs": [
    {
     "data": {
      "text/plain": [
       "[1, 2, 3, 4, 5]"
      ]
     },
     "execution_count": 4,
     "metadata": {},
     "output_type": "execute_result"
    }
   ],
   "source": [
    "[1, 2, 3, 4, 5]"
   ]
  },
  {
   "cell_type": "markdown",
   "metadata": {},
   "source": [
    "Or a list containing just the number `31`:"
   ]
  },
  {
   "cell_type": "code",
   "execution_count": 29,
   "metadata": {},
   "outputs": [
    {
     "data": {
      "text/plain": [
       "[31]"
      ]
     },
     "execution_count": 29,
     "metadata": {},
     "output_type": "execute_result"
    }
   ],
   "source": [
    "[31]"
   ]
  },
  {
   "cell_type": "markdown",
   "metadata": {},
   "source": [
    "Or a list containing the string `\"Python\"`:"
   ]
  },
  {
   "cell_type": "code",
   "execution_count": 8,
   "metadata": {},
   "outputs": [
    {
     "data": {
      "text/plain": [
       "['Python']"
      ]
     },
     "execution_count": 8,
     "metadata": {},
     "output_type": "execute_result"
    }
   ],
   "source": [
    "[\"Python\"]"
   ]
  },
  {
   "cell_type": "markdown",
   "metadata": {},
   "source": [
    "Or a list containing nothing:"
   ]
  },
  {
   "cell_type": "code",
   "execution_count": 28,
   "metadata": {},
   "outputs": [
    {
     "data": {
      "text/plain": [
       "[]"
      ]
     },
     "execution_count": 28,
     "metadata": {},
     "output_type": "execute_result"
    }
   ],
   "source": [
    "[] "
   ]
  },
  {
   "cell_type": "markdown",
   "metadata": {},
   "source": [
    "Or a list containing the number 31, the string `\"Python\"`, and a list containing the numbers `1` to `5` (we can have lists inside lists):"
   ]
  },
  {
   "cell_type": "code",
   "execution_count": 10,
   "metadata": {
    "scrolled": true
   },
   "outputs": [
    {
     "data": {
      "text/plain": [
       "[31, 'Python', [1, 2, 3, 4, 5]]"
      ]
     },
     "execution_count": 10,
     "metadata": {},
     "output_type": "execute_result"
    }
   ],
   "source": [
    "[31, \"Python\", [1, 2, 3, 4, 5]]"
   ]
  },
  {
   "cell_type": "markdown",
   "metadata": {},
   "source": [
    "Lists support the exact same sequence operations that you have already learned from strings:"
   ]
  },
  {
   "cell_type": "code",
   "execution_count": 18,
   "metadata": {},
   "outputs": [
    {
     "name": "stdout",
     "output_type": "stream",
     "text": [
      "The length of my list is 3 and the first element is 31\n"
     ]
    }
   ],
   "source": [
    "my_list = [31, \"Python\", [1, 2, 3, 4, 5]]\n",
    "print(f\"The length of my list is {len(my_list)} and the first element is {my_list[0]}\")"
   ]
  },
  {
   "cell_type": "markdown",
   "metadata": {},
   "source": [
    "Unlike strings, lists are **mutable**, meaning that we can change them after they have been created. Specifically we can change their contents. We can always reassign a variable:"
   ]
  },
  {
   "cell_type": "code",
   "execution_count": 12,
   "metadata": {},
   "outputs": [
    {
     "name": "stdout",
     "output_type": "stream",
     "text": [
      "goodbye\n"
     ]
    }
   ],
   "source": [
    "text = \"hello\"\n",
    "text = \"goodbye\"\n",
    "print(text)"
   ]
  },
  {
   "cell_type": "markdown",
   "metadata": {},
   "source": [
    "But we could not change the values of the string itself:"
   ]
  },
  {
   "cell_type": "code",
   "execution_count": 14,
   "metadata": {},
   "outputs": [
    {
     "ename": "TypeError",
     "evalue": "'str' object does not support item assignment",
     "output_type": "error",
     "traceback": [
      "\u001b[0;31m------------------------------------------------------------------\u001b[0m",
      "\u001b[0;31mTypeError\u001b[0m                        Traceback (most recent call last)",
      "\u001b[0;32m<ipython-input-14-0fcc7bc9c1fa>\u001b[0m in \u001b[0;36m<module>\u001b[0;34m\u001b[0m\n\u001b[1;32m      1\u001b[0m \u001b[0mtext\u001b[0m \u001b[0;34m=\u001b[0m \u001b[0;34m\"hello\"\u001b[0m\u001b[0;34m\u001b[0m\u001b[0;34m\u001b[0m\u001b[0m\n\u001b[0;32m----> 2\u001b[0;31m \u001b[0mtext\u001b[0m\u001b[0;34m[\u001b[0m\u001b[0;36m0\u001b[0m\u001b[0;34m]\u001b[0m \u001b[0;34m=\u001b[0m \u001b[0;34m\"g\"\u001b[0m\u001b[0;34m\u001b[0m\u001b[0;34m\u001b[0m\u001b[0m\n\u001b[0m",
      "\u001b[0;31mTypeError\u001b[0m: 'str' object does not support item assignment"
     ]
    }
   ],
   "source": [
    "text = \"hello\"\n",
    "text[0] = \"g\""
   ]
  },
  {
   "cell_type": "markdown",
   "metadata": {},
   "source": [
    "However, with a list, this item assignment operation will work:"
   ]
  },
  {
   "cell_type": "code",
   "execution_count": 16,
   "metadata": {},
   "outputs": [
    {
     "name": "stdout",
     "output_type": "stream",
     "text": [
      "[5, 4, 3, 4, 5]\n"
     ]
    }
   ],
   "source": [
    "my_list = [1, 2, 3, 4, 5]\n",
    "my_list[0] = 5\n",
    "my_list[1] = 4\n",
    "print(my_list)"
   ]
  },
  {
   "cell_type": "markdown",
   "metadata": {},
   "source": [
    "### List Methods\n",
    "Lists, like strings, have many useful *methods*, subroutines that are called like this:"
   ]
  },
  {
   "cell_type": "code",
   "execution_count": 30,
   "metadata": {},
   "outputs": [
    {
     "data": {
      "text/plain": [
       "2"
      ]
     },
     "execution_count": 30,
     "metadata": {},
     "output_type": "execute_result"
    }
   ],
   "source": [
    "my_list = [1, 2, 3, 4, 5]\n",
    "my_list.index(3)"
   ]
  },
  {
   "cell_type": "markdown",
   "metadata": {},
   "source": [
    "`my_list.index(obj)` returns the index of the object `obj` in the list `my_list`. If the object is not found then this returns an error. This is in contrast to `text.find(ss)` which would return `-1` if the substring `ss` was not found in the string `text`. You can use `.index` with strings but you cannot use `.find` with lists.\n",
    "\n",
    "Do you remember the difference between a function and a procedure? (If not, go back to [Section 2.1](../Chapter%202/2.1.ipynb)!)\n",
    "\n",
    "We specifically pointed out the fact that string methods did *not* work like procedures – they return a new string, they do not modify the existing string:"
   ]
  },
  {
   "cell_type": "code",
   "execution_count": 21,
   "metadata": {},
   "outputs": [
    {
     "name": "stdout",
     "output_type": "stream",
     "text": [
      "hello\n"
     ]
    }
   ],
   "source": [
    "text = \"hello\"\n",
    "text.replace('e', 'u')\n",
    "print(text)"
   ]
  },
  {
   "cell_type": "markdown",
   "metadata": {},
   "source": [
    "But similar looking methods on lists ***do*** modify the object, they *are* procedures:"
   ]
  },
  {
   "cell_type": "code",
   "execution_count": 23,
   "metadata": {},
   "outputs": [
    {
     "name": "stdout",
     "output_type": "stream",
     "text": [
      "[5, 4, 3, 2, 1]\n"
     ]
    }
   ],
   "source": [
    "my_list = [1, 2, 3, 4, 5]\n",
    "my_list.reverse()\n",
    "print(my_list)"
   ]
  },
  {
   "cell_type": "markdown",
   "metadata": {},
   "source": [
    "And this can lead to some really confusing mistakes, because these procedures specifically *do not* return values:"
   ]
  },
  {
   "cell_type": "code",
   "execution_count": 27,
   "metadata": {
    "scrolled": true
   },
   "outputs": [
    {
     "name": "stdout",
     "output_type": "stream",
     "text": [
      "None\n"
     ]
    }
   ],
   "source": [
    "my_list = [1, 2, 3, 4, 5]\n",
    "new_list = my_list.reverse()\n",
    "print(new_list)"
   ]
  },
  {
   "cell_type": "markdown",
   "metadata": {},
   "source": [
    "But other methods of a list object ***are*** functions so they *do* return values:"
   ]
  },
  {
   "cell_type": "code",
   "execution_count": 26,
   "metadata": {},
   "outputs": [
    {
     "name": "stdout",
     "output_type": "stream",
     "text": [
      "[5, 4, 3, 2, 1]\n"
     ]
    }
   ],
   "source": [
    "my_list = [1, 2, 3, 4, 5]\n",
    "new_list = my_list.copy()\n",
    "print(new_list)"
   ]
  },
  {
   "cell_type": "markdown",
   "metadata": {},
   "source": [
    "Unfortunately this is something you simply have to get used to. Remember you can always consult the documentation for any function, either online or using built-in tools, which should explain how it works. Alternatively, if you are ever at all unsure, just try it out in a Jupyter cell or Python interpreter instance!"
   ]
  },
  {
   "cell_type": "code",
   "execution_count": 32,
   "metadata": {},
   "outputs": [
    {
     "name": "stdout",
     "output_type": "stream",
     "text": [
      "Help on built-in function copy:\n",
      "\n",
      "copy() method of builtins.list instance\n",
      "    Return a shallow copy of the list.\n",
      "\n"
     ]
    }
   ],
   "source": [
    "help(my_list.copy)"
   ]
  }
 ],
 "metadata": {
  "kernelspec": {
   "display_name": "Python 3",
   "language": "python",
   "name": "python3"
  },
  "language_info": {
   "codemirror_mode": {
    "name": "ipython",
    "version": 3
   },
   "file_extension": ".py",
   "mimetype": "text/x-python",
   "name": "python",
   "nbconvert_exporter": "python",
   "pygments_lexer": "ipython3",
   "version": "3.7.4"
  }
 },
 "nbformat": 4,
 "nbformat_minor": 2
}
