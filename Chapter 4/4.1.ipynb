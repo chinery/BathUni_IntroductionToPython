{
 "cells": [
  {
   "cell_type": "markdown",
   "metadata": {},
   "source": [
    "# Chapter 4 – Data Structures\n",
    "## 4.1 Sequences and Lists\n",
    "### Data From Data\n",
    "We have often mentioned the importance of *types* in programming. Python is more flexible than many languages about typing, but it's still really important that you can always work out what the expected types are in any given situation. Sometimes it's the only way to make the code work: `\"Number \" + 1` will give an error, but `\"Number \" + str(1)` produces the desired result. A line of code might do many different things depending on the exact types, so keeping track of what type you expect a variable to be can make debugging much easier.\n",
    "\n",
    "Many of the types we've used so far are what some languages might call *primitives*. While this is not a word used in the official Python documentation in this context, it is commonly used in other guides and tutorials. A *primitive* is an *atomic* data type – it is its own thing, you cannot break it down into smaller parts. In Python this includes integers, floats, strings, and Booleans.\n",
    "\n",
    "In another language programming language called Java, *characters* are a *primitive* data type, and strings are made up of multiple characters. This makes the string a *composite* data type in Java.\n",
    "\n",
    "A **data structure** is a composite data type where data is organised in a way that provides certain benefits – often speed or space efficiency. For some problems, a suitable choice of data structure can make the solution more efficient and easier to write.\n",
    "\n",
    "In Python, strings *can* be broken down into characters, but each character is just a single letter string. The *object* you get as a result of *indexing* the string is itself another string:"
   ]
  },
  {
   "cell_type": "code",
   "execution_count": 2,
   "metadata": {},
   "outputs": [
    {
     "data": {
      "text/plain": [
       "True"
      ]
     },
     "execution_count": 2,
     "metadata": {},
     "output_type": "execute_result"
    }
   ],
   "source": [
    "text = \"hello\"\n",
    "character = text[0]\n",
    "type(text) == type(character)"
   ]
  },
  {
   "cell_type": "markdown",
   "metadata": {},
   "source": [
    "Strings in Python are an example of a *sequence* data type. Sequences are collections which support certain operations like indexing, slicing (e.g. `text[3:5]`), and so on.\n",
    "\n",
    "Another sequence type you will use a lot is the list.\n",
    "\n",
    "### Lists\n",
    "A **list** is an ordered collection of objects. It is a sequence type data structure. Lists are written with square brackets, so we can write a list containing the numbers from `1` to `5`:"
   ]
  },
  {
   "cell_type": "code",
   "execution_count": 4,
   "metadata": {},
   "outputs": [
    {
     "data": {
      "text/plain": [
       "[1, 2, 3, 4, 5]"
      ]
     },
     "execution_count": 4,
     "metadata": {},
     "output_type": "execute_result"
    }
   ],
   "source": [
    "[1, 2, 3, 4, 5]"
   ]
  },
  {
   "cell_type": "markdown",
   "metadata": {},
   "source": [
    "Or a list containing just the number `31`:"
   ]
  },
  {
   "cell_type": "code",
   "execution_count": 29,
   "metadata": {},
   "outputs": [
    {
     "data": {
      "text/plain": [
       "[31]"
      ]
     },
     "execution_count": 29,
     "metadata": {},
     "output_type": "execute_result"
    }
   ],
   "source": [
    "[31]"
   ]
  },
  {
   "cell_type": "markdown",
   "metadata": {},
   "source": [
    "Or a list containing the string `\"Python\"`:"
   ]
  },
  {
   "cell_type": "code",
   "execution_count": 8,
   "metadata": {},
   "outputs": [
    {
     "data": {
      "text/plain": [
       "['Python']"
      ]
     },
     "execution_count": 8,
     "metadata": {},
     "output_type": "execute_result"
    }
   ],
   "source": [
    "[\"Python\"]"
   ]
  },
  {
   "cell_type": "markdown",
   "metadata": {},
   "source": [
    "Or a list containing nothing:"
   ]
  },
  {
   "cell_type": "code",
   "execution_count": 28,
   "metadata": {},
   "outputs": [
    {
     "data": {
      "text/plain": [
       "[]"
      ]
     },
     "execution_count": 28,
     "metadata": {},
     "output_type": "execute_result"
    }
   ],
   "source": [
    "[] "
   ]
  },
  {
   "cell_type": "markdown",
   "metadata": {},
   "source": [
    "Or a list containing the number 31, the string `\"Python\"`, and a list containing the numbers `1` to `5` (we can have lists inside lists):"
   ]
  },
  {
   "cell_type": "code",
   "execution_count": 10,
   "metadata": {
    "scrolled": true
   },
   "outputs": [
    {
     "data": {
      "text/plain": [
       "[31, 'Python', [1, 2, 3, 4, 5]]"
      ]
     },
     "execution_count": 10,
     "metadata": {},
     "output_type": "execute_result"
    }
   ],
   "source": [
    "[31, \"Python\", [1, 2, 3, 4, 5]]"
   ]
  },
  {
   "cell_type": "markdown",
   "metadata": {},
   "source": [
    "Lists support the exact same sequence operations that you have already learned from strings:"
   ]
  },
  {
   "cell_type": "code",
   "execution_count": 18,
   "metadata": {},
   "outputs": [
    {
     "name": "stdout",
     "output_type": "stream",
     "text": [
      "The length of my list is 3 and the first element is 31\n"
     ]
    }
   ],
   "source": [
    "my_list = [31, \"Python\", [1, 2, 3, 4, 5]]\n",
    "print(f\"The length of my list is {len(my_list)} and the first element is {my_list[0]}\")"
   ]
  },
  {
   "cell_type": "markdown",
   "metadata": {},
   "source": [
    "Unlike strings, lists are **mutable**, meaning that we can change them after they have been created. Specifically we can change their contents. We can always reassign a variable:"
   ]
  },
  {
   "cell_type": "code",
   "execution_count": 12,
   "metadata": {},
   "outputs": [
    {
     "name": "stdout",
     "output_type": "stream",
     "text": [
      "goodbye\n"
     ]
    }
   ],
   "source": [
    "text = \"hello\"\n",
    "text = \"goodbye\"\n",
    "print(text)"
   ]
  },
  {
   "cell_type": "markdown",
   "metadata": {},
   "source": [
    "But we could not change the values of the string itself:"
   ]
  },
  {
   "cell_type": "code",
   "execution_count": 14,
   "metadata": {},
   "outputs": [
    {
     "ename": "TypeError",
     "evalue": "'str' object does not support item assignment",
     "output_type": "error",
     "traceback": [
      "\u001b[0;31m------------------------------------------------------------------\u001b[0m",
      "\u001b[0;31mTypeError\u001b[0m                        Traceback (most recent call last)",
      "\u001b[0;32m<ipython-input-14-0fcc7bc9c1fa>\u001b[0m in \u001b[0;36m<module>\u001b[0;34m\u001b[0m\n\u001b[1;32m      1\u001b[0m \u001b[0mtext\u001b[0m \u001b[0;34m=\u001b[0m \u001b[0;34m\"hello\"\u001b[0m\u001b[0;34m\u001b[0m\u001b[0;34m\u001b[0m\u001b[0m\n\u001b[0;32m----> 2\u001b[0;31m \u001b[0mtext\u001b[0m\u001b[0;34m[\u001b[0m\u001b[0;36m0\u001b[0m\u001b[0;34m]\u001b[0m \u001b[0;34m=\u001b[0m \u001b[0;34m\"g\"\u001b[0m\u001b[0;34m\u001b[0m\u001b[0;34m\u001b[0m\u001b[0m\n\u001b[0m",
      "\u001b[0;31mTypeError\u001b[0m: 'str' object does not support item assignment"
     ]
    }
   ],
   "source": [
    "text = \"hello\"\n",
    "text[0] = \"g\""
   ]
  },
  {
   "cell_type": "markdown",
   "metadata": {},
   "source": [
    "However, with a list, this item assignment operation will work:"
   ]
  },
  {
   "cell_type": "code",
   "execution_count": 16,
   "metadata": {},
   "outputs": [
    {
     "name": "stdout",
     "output_type": "stream",
     "text": [
      "[5, 4, 3, 4, 5]\n"
     ]
    }
   ],
   "source": [
    "my_list = [1, 2, 3, 4, 5]\n",
    "my_list[0] = 5\n",
    "my_list[1] = 4\n",
    "print(my_list)"
   ]
  },
  {
   "cell_type": "markdown",
   "metadata": {},
   "source": [
    "But like a string, we still cannot index a position beyond the end of a list, even if we are trying to add an item to it:"
   ]
  },
  {
   "cell_type": "code",
   "execution_count": 35,
   "metadata": {},
   "outputs": [
    {
     "ename": "IndexError",
     "evalue": "list assignment index out of range",
     "output_type": "error",
     "traceback": [
      "\u001b[0;31m------------------------------------------------------------------\u001b[0m",
      "\u001b[0;31mIndexError\u001b[0m                       Traceback (most recent call last)",
      "\u001b[0;32m<ipython-input-35-73b4782df40f>\u001b[0m in \u001b[0;36m<module>\u001b[0;34m\u001b[0m\n\u001b[1;32m      1\u001b[0m \u001b[0mmy_list\u001b[0m \u001b[0;34m=\u001b[0m \u001b[0;34m[\u001b[0m\u001b[0;36m1\u001b[0m\u001b[0;34m,\u001b[0m \u001b[0;36m2\u001b[0m\u001b[0;34m,\u001b[0m \u001b[0;36m3\u001b[0m\u001b[0;34m,\u001b[0m \u001b[0;36m4\u001b[0m\u001b[0;34m,\u001b[0m \u001b[0;36m5\u001b[0m\u001b[0;34m]\u001b[0m\u001b[0;34m\u001b[0m\u001b[0;34m\u001b[0m\u001b[0m\n\u001b[0;32m----> 2\u001b[0;31m \u001b[0mmy_list\u001b[0m\u001b[0;34m[\u001b[0m\u001b[0;36m5\u001b[0m\u001b[0;34m]\u001b[0m \u001b[0;34m=\u001b[0m \u001b[0;36m6\u001b[0m\u001b[0;34m\u001b[0m\u001b[0;34m\u001b[0m\u001b[0m\n\u001b[0m",
      "\u001b[0;31mIndexError\u001b[0m: list assignment index out of range"
     ]
    }
   ],
   "source": [
    "my_list = [1, 2, 3, 4, 5]\n",
    "my_list[5] = 6"
   ]
  },
  {
   "cell_type": "markdown",
   "metadata": {},
   "source": [
    "But we *can* add items to lists using the *method* called `append`:"
   ]
  },
  {
   "cell_type": "code",
   "execution_count": 36,
   "metadata": {},
   "outputs": [
    {
     "data": {
      "text/plain": [
       "[1, 2, 3, 4, 5, 6]"
      ]
     },
     "execution_count": 36,
     "metadata": {},
     "output_type": "execute_result"
    }
   ],
   "source": [
    "my_list = [1, 2, 3, 4, 5]\n",
    "my_list.append(6)\n",
    "my_list"
   ]
  },
  {
   "cell_type": "markdown",
   "metadata": {},
   "source": [
    "### List Methods\n",
    "Lists, like strings, have many useful methods, which you'll remember are subroutines that are called with a `.` between the name of the object and subroutine, like `append`. As with strings, we can search for the position of an item within a list:"
   ]
  },
  {
   "cell_type": "code",
   "execution_count": 30,
   "metadata": {},
   "outputs": [
    {
     "data": {
      "text/plain": [
       "2"
      ]
     },
     "execution_count": 30,
     "metadata": {},
     "output_type": "execute_result"
    }
   ],
   "source": [
    "my_list = [1, 2, 3, 4, 5]\n",
    "my_list.index(3)"
   ]
  },
  {
   "cell_type": "markdown",
   "metadata": {},
   "source": [
    "`my_list.index(obj)` returns the index of the object `obj` in the list `my_list`. If the object is not found then this returns an error. This is in contrast to `text.find(ss)` which would return `-1` if the substring `ss` was not found in the string `text`. You can use `.index` with strings but you cannot use `.find` with lists.\n",
    "\n",
    "Since you do not want any errors, you'll want to check whether the item is in the list. We can use the Python keyword `in` to do this."
   ]
  },
  {
   "cell_type": "code",
   "execution_count": 38,
   "metadata": {},
   "outputs": [
    {
     "data": {
      "text/plain": [
       "True"
      ]
     },
     "execution_count": 38,
     "metadata": {},
     "output_type": "execute_result"
    }
   ],
   "source": [
    "my_list = [1, 2, 3, 4, 5]\n",
    "3 in my_list"
   ]
  },
  {
   "cell_type": "markdown",
   "metadata": {},
   "source": [
    "As with any Boolean expression, this is common to see as the subject of an if statement:"
   ]
  },
  {
   "cell_type": "code",
   "execution_count": 39,
   "metadata": {},
   "outputs": [
    {
     "name": "stdout",
     "output_type": "stream",
     "text": [
      "3 is at index 2\n"
     ]
    }
   ],
   "source": [
    "my_list = [1, 2, 3, 4, 5]\n",
    "if 3 in my_list:\n",
    "    print(f\"3 is at index {my_list.index(3)}\")\n",
    "else:\n",
    "    print(\"3 is not in the list :(\")"
   ]
  },
  {
   "cell_type": "markdown",
   "metadata": {},
   "source": [
    "We can use this keyword `in` for testing substrings as well:"
   ]
  },
  {
   "cell_type": "code",
   "execution_count": 40,
   "metadata": {},
   "outputs": [
    {
     "data": {
      "text/plain": [
       "True"
      ]
     },
     "execution_count": 40,
     "metadata": {},
     "output_type": "execute_result"
    }
   ],
   "source": [
    "\"gg\" in \"eggs\""
   ]
  },
  {
   "cell_type": "markdown",
   "metadata": {},
   "source": [
    "Lists support a bunch of the kinds of string operations you've seen before, plus a whole host of other methods. As with strings I recommend searching for them or reading the documentation [online](https://docs.python.org/3/tutorial/datastructures.html) as and when you need them. Rather than memorise a few useful methods it is useful to get into the habit of reading the documentation. That said, here are a few more code examples you can read and play around with to learn a few more list methods:"
   ]
  },
  {
   "cell_type": "code",
   "execution_count": 80,
   "metadata": {},
   "outputs": [
    {
     "data": {
      "text/plain": [
       "[1, 2, 3, 'another', 'list']"
      ]
     },
     "execution_count": 80,
     "metadata": {},
     "output_type": "execute_result"
    }
   ],
   "source": [
    "# like strings, we can concatenate lists\n",
    "[1, 2, 3] + [\"another\", \"list\"]"
   ]
  },
  {
   "cell_type": "code",
   "execution_count": 81,
   "metadata": {},
   "outputs": [
    {
     "data": {
      "text/plain": [
       "[1, 2, 1, 2, 1, 2]"
      ]
     },
     "execution_count": 81,
     "metadata": {},
     "output_type": "execute_result"
    }
   ],
   "source": [
    "# and repeat list contents\n",
    "[1, 2] * 3"
   ]
  },
  {
   "cell_type": "code",
   "execution_count": 60,
   "metadata": {},
   "outputs": [
    {
     "data": {
      "text/plain": [
       "[1, 2, 3]"
      ]
     },
     "execution_count": 60,
     "metadata": {},
     "output_type": "execute_result"
    }
   ],
   "source": [
    "# [] is an empty list\n",
    "my_list = []\n",
    "my_list.append(1)\n",
    "my_list.append(2)\n",
    "my_list.append(3)\n",
    "my_list"
   ]
  },
  {
   "cell_type": "code",
   "execution_count": 66,
   "metadata": {},
   "outputs": [
    {
     "data": {
      "text/plain": [
       "[1, 2, 3, [4, 5, 6]]"
      ]
     },
     "execution_count": 66,
     "metadata": {},
     "output_type": "execute_result"
    }
   ],
   "source": [
    "# if we append a list to a list it will add it *as a single item*, not concatenate them\n",
    "my_list = [1, 2, 3]\n",
    "my_list.append([4, 5, 6])\n",
    "my_list"
   ]
  },
  {
   "cell_type": "code",
   "execution_count": 57,
   "metadata": {},
   "outputs": [
    {
     "data": {
      "text/plain": [
       "[4, 1, 2, 3]"
      ]
     },
     "execution_count": 57,
     "metadata": {},
     "output_type": "execute_result"
    }
   ],
   "source": [
    "my_list = [1, 2, 3]\n",
    "\n",
    "# insert(i, o) will insert o at position i\n",
    "my_list.insert(0, 4)\n",
    "my_list"
   ]
  },
  {
   "cell_type": "code",
   "execution_count": 63,
   "metadata": {},
   "outputs": [
    {
     "name": "stdout",
     "output_type": "stream",
     "text": [
      "3\n",
      "[1, 2]\n"
     ]
    }
   ],
   "source": [
    "my_list = [1, 2, 3]\n",
    "\n",
    "# pop removes the last element of the list and returns it\n",
    "x = my_list.pop()\n",
    "print(x)\n",
    "print(my_list)"
   ]
  },
  {
   "cell_type": "code",
   "execution_count": 82,
   "metadata": {},
   "outputs": [
    {
     "data": {
      "text/plain": [
       "6"
      ]
     },
     "execution_count": 82,
     "metadata": {},
     "output_type": "execute_result"
    }
   ],
   "source": [
    "my_list = [1, 2, 3]\n",
    "\n",
    "# there are some general functions that work on any collections\n",
    "# sum will sum (add) the elements of a list\n",
    "s = sum(my_list)\n",
    "s"
   ]
  },
  {
   "cell_type": "code",
   "execution_count": 65,
   "metadata": {},
   "outputs": [
    {
     "data": {
      "text/plain": [
       "4"
      ]
     },
     "execution_count": 65,
     "metadata": {},
     "output_type": "execute_result"
    }
   ],
   "source": [
    "my_list = [1, 0, 0, 1, 1, 0, 1, 0]\n",
    "\n",
    "# count returns the number of occurances of a particular object\n",
    "my_list.count(0)"
   ]
  },
  {
   "cell_type": "markdown",
   "metadata": {},
   "source": [
    "#### Function or Procedure?\n",
    "Do you remember the difference between a function and a procedure? (If not, go back to [Section 2.1](../Chapter%202/2.1.ipynb)!)\n",
    "\n",
    "We specifically pointed out the fact that string methods did *not* work like procedures – they return a new string, they do not modify the existing string:"
   ]
  },
  {
   "cell_type": "code",
   "execution_count": 21,
   "metadata": {},
   "outputs": [
    {
     "name": "stdout",
     "output_type": "stream",
     "text": [
      "hello\n"
     ]
    }
   ],
   "source": [
    "text = \"hello\"\n",
    "text.replace('e', 'u')\n",
    "print(text)"
   ]
  },
  {
   "cell_type": "markdown",
   "metadata": {},
   "source": [
    "But similar looking methods on lists ***do*** modify the object, they *are* procedures:"
   ]
  },
  {
   "cell_type": "code",
   "execution_count": 23,
   "metadata": {},
   "outputs": [
    {
     "name": "stdout",
     "output_type": "stream",
     "text": [
      "[5, 4, 3, 2, 1]\n"
     ]
    }
   ],
   "source": [
    "my_list = [1, 2, 3, 4, 5]\n",
    "my_list.reverse()\n",
    "print(my_list)"
   ]
  },
  {
   "cell_type": "markdown",
   "metadata": {},
   "source": [
    "And this can lead to some really confusing mistakes, because these procedures specifically *do not* return values:"
   ]
  },
  {
   "cell_type": "code",
   "execution_count": 27,
   "metadata": {
    "scrolled": true
   },
   "outputs": [
    {
     "name": "stdout",
     "output_type": "stream",
     "text": [
      "None\n"
     ]
    }
   ],
   "source": [
    "my_list = [1, 2, 3, 4, 5]\n",
    "new_list = my_list.reverse()\n",
    "print(new_list)"
   ]
  },
  {
   "cell_type": "markdown",
   "metadata": {},
   "source": [
    "But other methods of a list object ***are*** functions so they *do* return values:"
   ]
  },
  {
   "cell_type": "code",
   "execution_count": 26,
   "metadata": {},
   "outputs": [
    {
     "name": "stdout",
     "output_type": "stream",
     "text": [
      "[5, 4, 3, 2, 1]\n"
     ]
    }
   ],
   "source": [
    "my_list = [1, 2, 3, 4, 5]\n",
    "new_list = my_list.copy()\n",
    "print(new_list)"
   ]
  },
  {
   "cell_type": "markdown",
   "metadata": {},
   "source": [
    "Unfortunately this is something you simply have to get used to. Remember you can always consult the documentation for any function, either online or using built-in tools, which should explain how it works. Alternatively, if you are ever at all unsure, just try it out in a Jupyter cell or Python interpreter instance!"
   ]
  },
  {
   "cell_type": "code",
   "execution_count": 32,
   "metadata": {},
   "outputs": [
    {
     "name": "stdout",
     "output_type": "stream",
     "text": [
      "Help on built-in function copy:\n",
      "\n",
      "copy() method of builtins.list instance\n",
      "    Return a shallow copy of the list.\n",
      "\n"
     ]
    }
   ],
   "source": [
    "help(my_list.copy)"
   ]
  },
  {
   "cell_type": "markdown",
   "metadata": {},
   "source": [
    "### Lists in Loops\n",
    "Lists are another type of object that be the target of a *for-each loop*. So we can do things like this:"
   ]
  },
  {
   "cell_type": "code",
   "execution_count": 34,
   "metadata": {},
   "outputs": [
    {
     "data": {
      "text/plain": [
       "1"
      ]
     },
     "execution_count": 34,
     "metadata": {},
     "output_type": "execute_result"
    }
   ],
   "source": [
    "my_list = [4, 1, 3, 2, 5]\n",
    "lowest = my_list[0]\n",
    "for num in my_list:\n",
    "    lowest = min(lowest, num)\n",
    "\n",
    "lowest"
   ]
  },
  {
   "cell_type": "markdown",
   "metadata": {},
   "source": [
    "This is actually a really common pattern. Lists are useful because they store any number of items. We often want to do the same or a similar thing to multiple items within a list, and so the for-each loop is perfect for this.\n",
    "\n",
    "Of course you can use a regular for loop (using `range(len(my_list))`) if you want to have an index variable instead. If you want to have both you can use a builtin function called `enumerate`. This is great if you want to apply some kind of operation to every element in a list:"
   ]
  },
  {
   "cell_type": "code",
   "execution_count": 42,
   "metadata": {},
   "outputs": [
    {
     "data": {
      "text/plain": [
       "[4, 4, 25, 100]"
      ]
     },
     "execution_count": 42,
     "metadata": {},
     "output_type": "execute_result"
    }
   ],
   "source": [
    "def square_each_element(in_list):\n",
    "    for i, item in enumerate(in_list):\n",
    "        in_list[i] = item ** 2\n",
    "\n",
    "my_list = [2, -2, 5, 10]\n",
    "square_each_element(my_list)\n",
    "my_list"
   ]
  },
  {
   "cell_type": "markdown",
   "metadata": {},
   "source": [
    "#### ⚠️ Careful ⚠️\n",
    "Notice `square_each_element` is a *procedure*! It has no return statement, it modifies the object that was passed in. We previously wrote functions that took integers and strings as parameters, but since these are *immutable* we could not modify them. Lists are *mutable*, so if you modify an input list in the body of a subroutine, you will modify the original list. This can be intended (as in `square_each_element`), but it can also be accidental. Including a return statement does not prevent this behaviour.\n",
    "\n",
    "#### 🚨 Extra Careful! 🚨\n",
    "Multiple variable *names* can refer to the same *object*. We've seen this above: `in_list` inside the subroutine referred to the same list as `my_list` outside the subroutine. But this can happen even within the same *scope*. This can really mess with your head, so it's okay if this seems a bit confusing, but it's important and learning this now can prevent some headaches later. Read the following example carefully, and guess what it outputs before running it:"
   ]
  },
  {
   "cell_type": "code",
   "execution_count": null,
   "metadata": {},
   "outputs": [],
   "source": [
    "def list_of_inverts(in_list):\n",
    "    out_list = in_list\n",
    "    for i, item in enumerate(out_list):\n",
    "        out_list[i] = -1 * item\n",
    "    return out_list\n",
    "\n",
    "old_list = [1, 2, 3, 4, 5]\n",
    "new_list = list_of_inverts(old_list)\n",
    "\n",
    "print(f\"The value of new_list is: {new_list}\")\n",
    "print(f\"The value of old_list is: {old_list}\")"
   ]
  },
  {
   "cell_type": "markdown",
   "metadata": {},
   "source": [
    "<br /> <br />\n",
    "The value of `new_list` will not be a surprise, but the value of `old_list` might be. This line:\n",
    "```python\n",
    "out_list = in_list\n",
    "```\n",
    "creates a new named variable called `out_list` which refers to ***the exact same list*** as `in_list`. Not just the same values, *literally the same data in memory*. If you modify one, it modifies the other.\n",
    "\n",
    "This is why Python lists have the `.copy()` function that I used earlier. Let's fix that code, notice the small change:"
   ]
  },
  {
   "cell_type": "code",
   "execution_count": 46,
   "metadata": {},
   "outputs": [
    {
     "name": "stdout",
     "output_type": "stream",
     "text": [
      "The value of new_list is: [-1, -2, -3, -4, -5]\n",
      "The value of old_list is: [1, 2, 3, 4, 5]\n"
     ]
    }
   ],
   "source": [
    "def list_of_inverts(in_list):\n",
    "    out_list = in_list.copy()\n",
    "    for i, item in enumerate(out_list):\n",
    "        out_list[i] = -1 * item\n",
    "    return out_list\n",
    "\n",
    "old_list = [1, 2, 3, 4, 5]\n",
    "new_list = list_of_inverts(old_list)\n",
    "\n",
    "print(f\"The value of new_list is: {new_list}\")\n",
    "print(f\"The value of old_list is: {old_list}\")"
   ]
  },
  {
   "cell_type": "markdown",
   "metadata": {},
   "source": [
    "### Questions\n",
    "#### Interactive Quiz \n",
    "Run the cell below to do the quiz about lists."
   ]
  },
  {
   "cell_type": "code",
   "execution_count": null,
   "metadata": {},
   "outputs": [],
   "source": [
    "%run ../scripts/interactive_questions ./questions/4.1.1q.txt"
   ]
  },
  {
   "cell_type": "markdown",
   "metadata": {},
   "source": [
    "#### Question 1: All Collatz Steps\n",
    "Remember back in [Section 2.4](../Chapter%202/2.4.ipynb) we introduced a sequence which was part of an unsolved mathematical problem called the Collatz conjecture? The sequence was formed by repeatedly applying the following function:\n",
    "$$f(n) = \\begin{cases} \n",
    "      3n+1 & n \\text{ is odd} \\\\\n",
    "      \\frac{n}{2} & n \\text{ is even} \n",
    "   \\end{cases}$$\n",
    "   \n",
    "Interestingly, the sequence always seems to eventually produce a $1$. \n",
    "\n",
    "Previously we wrote functions which could count the number of applications (steps) required to reach $1$ from any number. What if we wanted a function which would calculate every value in the sequence between an input $n$ and $1$?\n",
    "\n",
    "We could write something like this which uses a `print` statement:\n",
    "```python\n",
    "def collatz_sequence(n):\n",
    "    steps = 0\n",
    "    while(n != 1):\n",
    "        print(n)\n",
    "        if n % 2 == 0:\n",
    "            n = n // 2\n",
    "        else:\n",
    "            n = 3*n + 1\n",
    "    print(n)\n",
    "```\n",
    "\n",
    "But if you were paying attention [last chapter](../Chapter%203/3.3.ipynb), you will know this is no good! The function does not return anything, it just prints it. What if we want to use this information somewhere else? Maybe we want to find the Collatz sequence for all the numbers from 1 to 50 and display the longest.\n",
    "\n",
    "So, instead, we should write a function that *returns a list* containing the sequence from `n` to `1` (inclusive)."
   ]
  },
  {
   "cell_type": "code",
   "execution_count": 76,
   "metadata": {},
   "outputs": [
    {
     "name": "stdout",
     "output_type": "stream",
     "text": [
      "Example tests for function collatz_sequence\n",
      "\n",
      "Test 1/5: collatz_sequence(2) -> [2, 1]\n",
      "Test 2/5: collatz_sequence(3) -> [3, 10, 5, 16, 8, 4, 2, 1]\n",
      "Test 3/5: collatz_sequence(4) -> [4, 2, 1]\n",
      "Test 4/5: collatz_sequence(5) -> [5, 16, 8, 4, 2, 1]\n",
      "Test 5/5: collatz_sequence(6) -> [6, 3, 10, 5, 16, 8, 4, 2, 1]\n"
     ]
    }
   ],
   "source": [
    "%run ../scripts/show_examples.py ./questions/4.1/collatz_sequence"
   ]
  },
  {
   "cell_type": "code",
   "execution_count": null,
   "metadata": {},
   "outputs": [],
   "source": [
    "def collatz_sequence(n):\n",
    "    pass\n",
    "            \n",
    "%run -i ../scripts/function_tester.py ./questions/4.1/collatz_sequence"
   ]
  },
  {
   "cell_type": "markdown",
   "metadata": {},
   "source": [
    "#### Question 2: Filter Less Than\n",
    "Given a list of integers `my_list` and another integer `limit`, return a new list which only contains the elements from `my_list` that are less than `limit`."
   ]
  },
  {
   "cell_type": "code",
   "execution_count": 4,
   "metadata": {},
   "outputs": [
    {
     "name": "stdout",
     "output_type": "stream",
     "text": [
      "Example tests for function filter_less_than\n",
      "\n",
      "Test 1/5: filter_less_than([1, 2, 3, 4, 5], 4) -> [1, 2, 3]\n",
      "Test 2/5: filter_less_than([1, 2, 3, 4, 5], 2) -> [1]\n",
      "Test 3/5: filter_less_than([1, 2, 3, 4, 5], 1) -> []\n",
      "Test 4/5: filter_less_than([], 5) -> []\n",
      "Test 5/5: filter_less_than([-100, 0, 1000, 50], 100) -> [-100, 0, 50]\n"
     ]
    }
   ],
   "source": [
    "%run ../scripts/show_examples.py ./questions/4.1/filter_less_than"
   ]
  },
  {
   "cell_type": "code",
   "execution_count": null,
   "metadata": {},
   "outputs": [],
   "source": [
    "def filter_less_than(my_list, limit):\n",
    "    pass\n",
    "\n",
    "%run -i ../scripts/function_tester.py ./questions/4.1/filter_less_than"
   ]
  },
  {
   "cell_type": "markdown",
   "metadata": {},
   "source": [
    "Once you are done you can move onto the [next section](4.2.ipynb)."
   ]
  }
 ],
 "metadata": {
  "kernelspec": {
   "display_name": "Python 3",
   "language": "python",
   "name": "python3"
  },
  "language_info": {
   "codemirror_mode": {
    "name": "ipython",
    "version": 3
   },
   "file_extension": ".py",
   "mimetype": "text/x-python",
   "name": "python",
   "nbconvert_exporter": "python",
   "pygments_lexer": "ipython3",
   "version": "3.7.4"
  }
 },
 "nbformat": 4,
 "nbformat_minor": 2
}
