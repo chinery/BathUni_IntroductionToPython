{
 "cells": [
  {
   "cell_type": "markdown",
   "metadata": {},
   "source": [
    "## 4.3 Sets, Dictionaries, and Comprehensions\n",
    "### Data Structures\n",
    "A list is a classic example of a data structure. It seems so basic, you might think it should be a fundamental element in any programming language. But actually Python is the odd one out. Most languages have a similar structure called an **array** as a fundamental part of the language.\n",
    "\n",
    "Unlike Python lists, arrays in other languages:\n",
    "* always have a fixed size, they cannot grow to accommodate new elements\n",
    "* can only contain objects of a single type\n",
    "\n",
    "From a pure computer science point of view, there is another important difference. An array is a generally well defined structure, in terms of its *implementation*. It is a fixed size block of memory with sequential values of a particular type (and hence a fixed size). Arrays in C are basically the same as arrays in Java.\n",
    "\n",
    "A list is a set of rules and concepts. The actual implementation of a list can be done in multiple ways. It is possible to use an array to create a list: whenever the number of elements goes above the fixed array size, you create a new array that is bigger and copy the elements across. You can also create a *linked list*, where each element of the list contains a reference to the next element. The implementation details can make a massive difference in practice. It is very fast to retrieve items from the middle of an array-backed list, but very expensive to insert elements into the middle. Linked lists have the opposite trade off.\n",
    "\n",
    "Java has at least 8 different [builtin implementations](https://docs.oracle.com/javase/8/docs/api/java/util/List.html) of a list. \n",
    "\n",
    "This unit only skims the surface of the world of data structures. We are focusing on Python features, not data structures in the abstract. But the right data structure can make a hard problem easy, so keep that in mind when you move on from this unit to your own code.\n",
    "\n",
    "There are two more builtin Python features which mirror common data structures.\n",
    "\n",
    "### Sets\n",
    "A **set**, like its mathematical namesake, is an *unordered* collection of *distinct* items. \n",
    "* *Unordered* means that there is no order to the items – sequences have a first item, second item, third item, and so on; but sets are just a collection of items in no particular order.\n",
    "* *Distinct* means that items are either members of the set or they are not, there cannot be multiple copies of an item in a set.\n",
    "\n",
    "As in maths, we use curly brackets to write sets:"
   ]
  },
  {
   "cell_type": "code",
   "execution_count": 2,
   "metadata": {},
   "outputs": [
    {
     "data": {
      "text/plain": [
       "{1, 2, 3}"
      ]
     },
     "execution_count": 2,
     "metadata": {},
     "output_type": "execute_result"
    }
   ],
   "source": [
    "{1, 2, 3}"
   ]
  },
  {
   "cell_type": "code",
   "execution_count": 4,
   "metadata": {},
   "outputs": [
    {
     "data": {
      "text/plain": [
       "set"
      ]
     },
     "execution_count": 4,
     "metadata": {},
     "output_type": "execute_result"
    }
   ],
   "source": [
    "type({1, 2, 3})"
   ]
  },
  {
   "cell_type": "code",
   "execution_count": 5,
   "metadata": {},
   "outputs": [
    {
     "data": {
      "text/plain": [
       "True"
      ]
     },
     "execution_count": 5,
     "metadata": {},
     "output_type": "execute_result"
    }
   ],
   "source": [
    "# sets are unordered\n",
    "{1, 2, 3} == {2, 3, 1}"
   ]
  },
  {
   "cell_type": "code",
   "execution_count": 7,
   "metadata": {},
   "outputs": [
    {
     "ename": "TypeError",
     "evalue": "'set' object is not subscriptable",
     "output_type": "error",
     "traceback": [
      "\u001b[0;31m------------------------------------------------------------------\u001b[0m",
      "\u001b[0;31mTypeError\u001b[0m                        Traceback (most recent call last)",
      "\u001b[0;32m<ipython-input-7-5b77d168cd76>\u001b[0m in \u001b[0;36m<module>\u001b[0;34m\u001b[0m\n\u001b[1;32m      1\u001b[0m \u001b[0mnums\u001b[0m \u001b[0;34m=\u001b[0m \u001b[0;34m{\u001b[0m\u001b[0;36m1\u001b[0m\u001b[0;34m,\u001b[0m \u001b[0;36m2\u001b[0m\u001b[0;34m,\u001b[0m \u001b[0;36m3\u001b[0m\u001b[0;34m}\u001b[0m\u001b[0;34m\u001b[0m\u001b[0;34m\u001b[0m\u001b[0m\n\u001b[0;32m----> 2\u001b[0;31m \u001b[0mnums\u001b[0m\u001b[0;34m[\u001b[0m\u001b[0;36m0\u001b[0m\u001b[0;34m]\u001b[0m\u001b[0;34m\u001b[0m\u001b[0;34m\u001b[0m\u001b[0m\n\u001b[0m",
      "\u001b[0;31mTypeError\u001b[0m: 'set' object is not subscriptable"
     ]
    }
   ],
   "source": [
    "nums = {1, 2, 3}\n",
    "nums[0]"
   ]
  },
  {
   "cell_type": "code",
   "execution_count": 6,
   "metadata": {},
   "outputs": [
    {
     "data": {
      "text/plain": [
       "True"
      ]
     },
     "execution_count": 6,
     "metadata": {},
     "output_type": "execute_result"
    }
   ],
   "source": [
    "# items are distinct\n",
    "{1, 1, 1, 2, 2, 3} == {2, 3, 3, 3, 1}"
   ]
  },
  {
   "cell_type": "markdown",
   "metadata": {},
   "source": [
    "Apart from being unordered and having distinct items, sets behave a lot like lists. They can hold any types of data, and they are mutable:"
   ]
  },
  {
   "cell_type": "code",
   "execution_count": 8,
   "metadata": {},
   "outputs": [
    {
     "data": {
      "text/plain": [
       "{10, 2, 'set'}"
      ]
     },
     "execution_count": 8,
     "metadata": {},
     "output_type": "execute_result"
    }
   ],
   "source": [
    "my_set = {\"my\", 2, \"set\"}\n",
    "my_set.add(10)\n",
    "my_set.remove(\"my\")\n",
    "my_set"
   ]
  },
  {
   "cell_type": "markdown",
   "metadata": {},
   "source": [
    "The most common use for a set is fast membership testing. Let's return to some code that we used a long time ago: censoring vowels from an input string. Before we had a monolithic if statement:\n",
    "```python\n",
    "if char == \"a\" or char == \"e\" or char == \"i\" or char == \"o\" or char == \"u\":\n",
    "```\n",
    "using a set makes this significantly nicer to read:\n",
    "```python\n",
    "if char in {\"a\", \"e\", \"i\", \"o\", \"u\"}:\n",
    "```\n",
    "\n",
    "A list would work here too, the difference is minimal. As a general principle, lists are probably slightly more efficient to use for one-off membership testing (as in the example above). But if you might reuse the collection in multiple places then a set is the better choice, as in the example below:"
   ]
  },
  {
   "cell_type": "code",
   "execution_count": 9,
   "metadata": {},
   "outputs": [
    {
     "data": {
      "text/plain": [
       "'b*ld*rd*sh'"
      ]
     },
     "execution_count": 9,
     "metadata": {},
     "output_type": "execute_result"
    }
   ],
   "source": [
    "VOWELS = {\"a\", \"e\", \"i\", \"o\", \"u\"}\n",
    "\n",
    "def censor_vowels(word):\n",
    "    out_str = \"\"\n",
    "    for i in range(len(word)):\n",
    "        char = word[i]\n",
    "        if char in VOWELS:\n",
    "            out_str += \"*\"\n",
    "        else:\n",
    "            out_str += char\n",
    "    return out_str\n",
    "\n",
    "censor_vowels(\"balderdash\")"
   ]
  },
  {
   "cell_type": "markdown",
   "metadata": {},
   "source": [
    "In the code above, `VOWELS` is being used as a constant – perhaps we use it in multiple places in the code. If we really want to get technical, we can actually create an immutable set using the `frozenset` function, and ensure that no code ever ties to modify the set:"
   ]
  },
  {
   "cell_type": "code",
   "execution_count": 10,
   "metadata": {},
   "outputs": [
    {
     "ename": "AttributeError",
     "evalue": "'frozenset' object has no attribute 'remove'",
     "output_type": "error",
     "traceback": [
      "\u001b[0;31m------------------------------------------------------------------\u001b[0m",
      "\u001b[0;31mAttributeError\u001b[0m                   Traceback (most recent call last)",
      "\u001b[0;32m<ipython-input-10-df4a8d2bca3b>\u001b[0m in \u001b[0;36m<module>\u001b[0;34m\u001b[0m\n\u001b[1;32m      1\u001b[0m \u001b[0mVOWELS\u001b[0m \u001b[0;34m=\u001b[0m \u001b[0mfrozenset\u001b[0m\u001b[0;34m(\u001b[0m\u001b[0;34m{\u001b[0m\u001b[0;34m\"a\"\u001b[0m\u001b[0;34m,\u001b[0m \u001b[0;34m\"e\"\u001b[0m\u001b[0;34m,\u001b[0m \u001b[0;34m\"i\"\u001b[0m\u001b[0;34m,\u001b[0m \u001b[0;34m\"o\"\u001b[0m\u001b[0;34m,\u001b[0m \u001b[0;34m\"u\"\u001b[0m\u001b[0;34m}\u001b[0m\u001b[0;34m)\u001b[0m\u001b[0;34m\u001b[0m\u001b[0;34m\u001b[0m\u001b[0m\n\u001b[0;32m----> 2\u001b[0;31m \u001b[0mVOWELS\u001b[0m\u001b[0;34m.\u001b[0m\u001b[0mremove\u001b[0m\u001b[0;34m(\u001b[0m\u001b[0;34m\"a\"\u001b[0m\u001b[0;34m)\u001b[0m\u001b[0;34m\u001b[0m\u001b[0;34m\u001b[0m\u001b[0m\n\u001b[0m",
      "\u001b[0;31mAttributeError\u001b[0m: 'frozenset' object has no attribute 'remove'"
     ]
    }
   ],
   "source": [
    "VOWELS = frozenset({\"a\", \"e\", \"i\", \"o\", \"u\"})\n",
    "VOWELS.remove(\"a\")"
   ]
  },
  {
   "cell_type": "markdown",
   "metadata": {},
   "source": [
    "If you want to create an empty set to add elements to, you have to write `set()`:"
   ]
  },
  {
   "cell_type": "code",
   "execution_count": 13,
   "metadata": {},
   "outputs": [
    {
     "data": {
      "text/plain": [
       "0"
      ]
     },
     "execution_count": 13,
     "metadata": {},
     "output_type": "execute_result"
    }
   ],
   "source": [
    "empty_set = set()\n",
    "len(empty_set)"
   ]
  },
  {
   "cell_type": "markdown",
   "metadata": {},
   "source": [
    "We cannot just write `{}`, because this is reserved for an empty *dictionary*, another data structure which uses curly brackets which you might find yourself using somewhat more often...\n",
    "\n",
    "### Dictionaries\n",
    "A **dictionary** in Python is the inbuilt implementation of a data structure that is sometimes also called a *map* or an *associative array*. Whereas lists and tuples are indexed by their position (and sets are not indexable at all), dictionaries are indexed by arbitrary **keys**. Each key has an associated **value**. To create a dictionary from some data, we can list the key-value pairs with colons separating them:"
   ]
  },
  {
   "cell_type": "code",
   "execution_count": 19,
   "metadata": {},
   "outputs": [
    {
     "data": {
      "text/plain": [
       "{'ray': 5000, 'ali': 3000, 'sam': 2000}"
      ]
     },
     "execution_count": 19,
     "metadata": {},
     "output_type": "execute_result"
    }
   ],
   "source": [
    "high_scores = {\"ray\": 5000, \"ali\": 3000, \"sam\": 2000}\n",
    "high_scores"
   ]
  },
  {
   "cell_type": "code",
   "execution_count": 20,
   "metadata": {},
   "outputs": [
    {
     "data": {
      "text/plain": [
       "dict"
      ]
     },
     "execution_count": 20,
     "metadata": {},
     "output_type": "execute_result"
    }
   ],
   "source": [
    "type(high_scores)"
   ]
  },
  {
   "cell_type": "markdown",
   "metadata": {},
   "source": [
    "The keys can be *any immutable type*. It is common to use strings and numbers, but you could also use tuples provided they themselves only contain immutable types.\n",
    "\n",
    "We can think of a dictionary like a table of values:\n",
    "\n",
    "|key  |value  |\n",
    "|:---:|:-----:|\n",
    "|ray  |5000   |\n",
    "|ali  |3000   |\n",
    "|sam  |2000   |\n",
    "\n",
    "And we can retrieve the value of any particular key using the same square bracket syntax we use with lists:"
   ]
  },
  {
   "cell_type": "code",
   "execution_count": 22,
   "metadata": {},
   "outputs": [
    {
     "data": {
      "text/plain": [
       "3000"
      ]
     },
     "execution_count": 22,
     "metadata": {},
     "output_type": "execute_result"
    }
   ],
   "source": [
    "high_scores[\"ali\"]"
   ]
  },
  {
   "cell_type": "markdown",
   "metadata": {},
   "source": [
    "We can add values too by simply assigning a value to a new key:"
   ]
  },
  {
   "cell_type": "code",
   "execution_count": 24,
   "metadata": {},
   "outputs": [
    {
     "data": {
      "text/plain": [
       "{'ray': 5000, 'ali': 3000, 'sam': 2000, 'andrew': 10000}"
      ]
     },
     "execution_count": 24,
     "metadata": {},
     "output_type": "execute_result"
    }
   ],
   "source": [
    "high_scores[\"andrew\"] = 10000\n",
    "high_scores"
   ]
  },
  {
   "cell_type": "markdown",
   "metadata": {},
   "source": [
    "Dictionaries can only store one value for any given key. `high_scores[\"ali\"]` currently produces `3000`, and if we try to insert another value for the key `\"ali\"` we will just overwrite the previous one:"
   ]
  },
  {
   "cell_type": "code",
   "execution_count": 26,
   "metadata": {},
   "outputs": [
    {
     "data": {
      "text/plain": [
       "{'ray': 5000, 'ali': 7000, 'sam': 2000, 'andrew': 10000}"
      ]
     },
     "execution_count": 26,
     "metadata": {},
     "output_type": "execute_result"
    }
   ],
   "source": [
    "high_scores[\"ali\"] = 7000\n",
    "high_scores"
   ]
  },
  {
   "cell_type": "markdown",
   "metadata": {},
   "source": [
    "So, in an actual game, a dictionary might be a good choice to score each player's personal high score. It would not necessarily be the best choice to store a traditional high score table, because then you might expect the same person's name to occur multiple times. These are the kinds of things to think about when deciding what data structure to use.\n",
    "\n",
    "The value of the key-value pair *can* be mutable, so it is possible to store a list for each key, thereby effectively storing multiple values per key provided you account for this in the syntax:"
   ]
  },
  {
   "cell_type": "code",
   "execution_count": 29,
   "metadata": {},
   "outputs": [
    {
     "data": {
      "text/plain": [
       "{'ray': [5000], 'ali': [3000, 7000], 'sam': [2000, 1000]}"
      ]
     },
     "execution_count": 29,
     "metadata": {},
     "output_type": "execute_result"
    }
   ],
   "source": [
    "recent_scores = {\"ray\": [5000], \"ali\": [3000], \"sam\": [2000]}\n",
    "recent_scores[\"ali\"].append(7000)\n",
    "recent_scores[\"sam\"].append(1000)\n",
    "recent_scores"
   ]
  },
  {
   "cell_type": "markdown",
   "metadata": {},
   "source": [
    "You can use the `.keys()` and `.values()` methods on a dictionary to get quick access to just its keys or values. This allows statements like:"
   ]
  },
  {
   "cell_type": "code",
   "execution_count": 39,
   "metadata": {},
   "outputs": [
    {
     "data": {
      "text/plain": [
       "5000"
      ]
     },
     "execution_count": 39,
     "metadata": {},
     "output_type": "execute_result"
    }
   ],
   "source": [
    "high_scores = {\"ray\": 5000, \"ali\": 3000, \"sam\": 2000}\n",
    "max(high_scores.values())"
   ]
  },
  {
   "cell_type": "markdown",
   "metadata": {},
   "source": [
    "#### Iteration\n",
    "If you want to iterate through each item of a dictionary then the easiest method is to iterate through its keys, then you can retrieve the value for each key by querying the dictionary. In fact, using a dictionary as the target of a for each loop directly will give you the keys by default:"
   ]
  },
  {
   "cell_type": "code",
   "execution_count": 33,
   "metadata": {},
   "outputs": [
    {
     "name": "stdout",
     "output_type": "stream",
     "text": [
      "The top player today was **ali** with a score of **7000**!\n"
     ]
    }
   ],
   "source": [
    "def winning_score(scores):\n",
    "    top_player = \"\"\n",
    "    top_score = -1\n",
    "    for key in scores:\n",
    "        player_scores = recent_scores[key]\n",
    "        max_score = max(player_scores)\n",
    "        if max_score > top_score:\n",
    "            top_player = key\n",
    "            top_score = max_score\n",
    "    return top_player, top_score\n",
    "\n",
    "recent_scores = {\"ray\": [5000], \"ali\": [3000, 7000], \"sam\": [2000, 1000]}\n",
    "player, score = winning_score(recent_scores)\n",
    "print(f\"The top player today was **{player}** with a score of **{score}**!\")"
   ]
  },
  {
   "cell_type": "markdown",
   "metadata": {},
   "source": [
    "When you are dealing with data you will often find yourself restructuring how it is stored. Just like in the example above, we have stored our score data in a format that is perfectly sensible, but it requires a little bit of work to get the winning score. \n",
    "\n",
    "As you become more proficient with Python you might want to use *comprehensions* – short statements which can build collections from a small set of rules. \n",
    "\n",
    "### Comprehensions\n",
    "Python is a really interesting programming language. There are lots of unusual design decisions: whitespace (indentation in particular) is actually part of the language structure – this is very unusual in serious programming languages (sorry, I don't consider [Whitespace](https://en.wikipedia.org/wiki/Whitespace_(programming_language)) a serious programming language). When you are writing Python code, the *duck typing* can go between extraordinarily useful and maddeningly confusing depending on the time of day. \n",
    "\n",
    "But more than any of that, I think Python just has a lot of great convenience features, and it is part of the *style* of writing *Pythonic* code to use these when it aids readability. Examples include negative indexing, tuple unpacking, and **comprehensions**. \n",
    "\n",
    "Comprehensions are rules that generate collections. We can use them with lists, sets, and dictionaries. Here is a list comprehension:"
   ]
  },
  {
   "cell_type": "code",
   "execution_count": 53,
   "metadata": {},
   "outputs": [
    {
     "data": {
      "text/plain": [
       "[0, 1, 4, 9, 16, 25, 36, 49, 64, 81]"
      ]
     },
     "execution_count": 53,
     "metadata": {},
     "output_type": "execute_result"
    }
   ],
   "source": [
    "squares = [x ** 2 for x in range(0, 10)]\n",
    "squares"
   ]
  },
  {
   "cell_type": "markdown",
   "metadata": {},
   "source": [
    "In one line we've created a list containing the first 10 square numbers. We can filter the results also:"
   ]
  },
  {
   "cell_type": "code",
   "execution_count": 56,
   "metadata": {},
   "outputs": [
    {
     "data": {
      "text/plain": [
       "[0, 4, 16, 36, 64, 100, 144, 196, 256, 324]"
      ]
     },
     "execution_count": 56,
     "metadata": {},
     "output_type": "execute_result"
    }
   ],
   "source": [
    "even_squares = [x ** 2 for x in range(0,20) if x ** 2 % 2 == 0]\n",
    "even_squares"
   ]
  },
  {
   "cell_type": "markdown",
   "metadata": {},
   "source": [
    "The above code is semantically equivalent to the following, but it is significantly shorter and, once you get used to the syntax, just as easy to read."
   ]
  },
  {
   "cell_type": "code",
   "execution_count": 58,
   "metadata": {},
   "outputs": [
    {
     "data": {
      "text/plain": [
       "[0, 4, 16, 36, 64, 100, 144, 196, 256, 324]"
      ]
     },
     "execution_count": 58,
     "metadata": {},
     "output_type": "execute_result"
    }
   ],
   "source": [
    "even_squares = []\n",
    "for x in range(0, 20):\n",
    "    if x ** 2 % 2 == 0:\n",
    "        even_squares.append(x ** 2)\n",
    "even_squares"
   ]
  },
  {
   "cell_type": "markdown",
   "metadata": {},
   "source": [
    "The `zip` function takes two sequences and produces a sequence of tuples of elements from each one, so:"
   ]
  },
  {
   "cell_type": "code",
   "execution_count": 79,
   "metadata": {},
   "outputs": [
    {
     "data": {
      "text/plain": [
       "[(1, 2), (3, 4), (5, 6)]"
      ]
     },
     "execution_count": 79,
     "metadata": {},
     "output_type": "execute_result"
    }
   ],
   "source": [
    "a = [1, 3, 5]\n",
    "b = [2, 4, 6]\n",
    "list(zip(a, b))"
   ]
  },
  {
   "cell_type": "markdown",
   "metadata": {},
   "source": [
    "And this can be very useful in a list comprehension:"
   ]
  },
  {
   "cell_type": "code",
   "execution_count": 78,
   "metadata": {},
   "outputs": [
    {
     "data": {
      "text/plain": [
       "[2, 12, 30]"
      ]
     },
     "execution_count": 78,
     "metadata": {},
     "output_type": "execute_result"
    }
   ],
   "source": [
    "a = [1, 3, 5]\n",
    "b = [2, 4, 6]\n",
    "[x * y for x, y in zip(a, b)]"
   ]
  },
  {
   "cell_type": "markdown",
   "metadata": {},
   "source": [
    "The example using `zip` above creates a list with corresponding elements multiplied together. We can use a nested for loop within a list comprehension to create a list containing the product of *every possible* pair of elements from two sequences like this:"
   ]
  },
  {
   "cell_type": "code",
   "execution_count": 77,
   "metadata": {},
   "outputs": [
    {
     "data": {
      "text/plain": [
       "[2, 4, 6, 6, 12, 18, 10, 20, 30]"
      ]
     },
     "execution_count": 77,
     "metadata": {},
     "output_type": "execute_result"
    }
   ],
   "source": [
    "a = [1, 3, 5]\n",
    "b = [2, 4, 6]\n",
    "[x * y for x in a for y in b]"
   ]
  },
  {
   "cell_type": "markdown",
   "metadata": {},
   "source": [
    "The previous result will be easier to understand if we create a list of tuples showing the two individual elements before they were multiplied. We must include the parentheses if we wish to create a tuple inside a list comprehension:"
   ]
  },
  {
   "cell_type": "code",
   "execution_count": 76,
   "metadata": {},
   "outputs": [
    {
     "data": {
      "text/plain": [
       "[(1, 2), (1, 4), (1, 6), (3, 2), (3, 4), (3, 6), (5, 2), (5, 4), (5, 6)]"
      ]
     },
     "execution_count": 76,
     "metadata": {},
     "output_type": "execute_result"
    }
   ],
   "source": [
    "a = [1, 3, 5]\n",
    "b = [2, 4, 6]\n",
    "[(x, y) for x in a for y in b]"
   ]
  },
  {
   "cell_type": "markdown",
   "metadata": {},
   "source": [
    "The comprehension above has nested for loops but creates a 1D list as a result. If it's not clear why, try writing out the version with nested for loops – remember it simply appends the result each time.\n",
    "\n",
    "It is possible to use list comprehensions to create 2D lists, we can write comprehensions inside comprehensions:"
   ]
  },
  {
   "cell_type": "code",
   "execution_count": 67,
   "metadata": {},
   "outputs": [
    {
     "data": {
      "text/plain": [
       "[[0, 1, 1], [1, 0, 1], [1, 1, 0]]"
      ]
     },
     "execution_count": 67,
     "metadata": {},
     "output_type": "execute_result"
    }
   ],
   "source": [
    "twod_list = [[1, 0, 0], [0, 1, 0], [0, 0, 1]]\n",
    "[[1 - x for x in row] for row in twod_list]"
   ]
  },
  {
   "cell_type": "markdown",
   "metadata": {},
   "source": [
    "#### ⚠️ Creating 2D Lists ⚠️\n",
    "And this 2D comprehension syntax is how we create a blank 2D list of a given size without running into the problem we from the last section where we had multiple copies of the same list.\n",
    "\n",
    "Sometimes in a list comprehension (and elsewhere) we do not actually need the variable that we get as part of the for loop syntax. In these cases we use an underscore `_` as a stand-in for a generic variable that we will not use."
   ]
  },
  {
   "cell_type": "code",
   "execution_count": 80,
   "metadata": {
    "scrolled": true
   },
   "outputs": [
    {
     "data": {
      "text/plain": [
       "[['♜', '', '', '', '', '', '', ''],\n",
       " ['', '', '', '', '', '', '', ''],\n",
       " ['', '', '', '', '', '', '', ''],\n",
       " ['', '', '', '', '', '', '', ''],\n",
       " ['', '', '', '', '', '', '', ''],\n",
       " ['', '', '', '', '', '', '', ''],\n",
       " ['', '', '', '', '', '', '', ''],\n",
       " ['', '', '', '', '', '', '', '']]"
      ]
     },
     "execution_count": 80,
     "metadata": {},
     "output_type": "execute_result"
    }
   ],
   "source": [
    "my_board = [[\"\" for _ in range(8)] for _ in range(8)]\n",
    "my_board[0][0] = \"♜\"\n",
    "my_board"
   ]
  },
  {
   "cell_type": "markdown",
   "metadata": {},
   "source": [
    "#### Dictionary Comprehensions\n",
    "We can create comprehensions for sets and dictionaries as well. Sets look exactly like the list comprehension syntax but with curly brackets. For dictionaries, use the colon syntax, as when building a dictionary from scratch. Here's a dictionary comprehension that flips the keys and values of another dictionary:"
   ]
  },
  {
   "cell_type": "code",
   "execution_count": 82,
   "metadata": {},
   "outputs": [
    {
     "data": {
      "text/plain": [
       "{5000: 'ray', 3000: 'ali', 2000: 'sam'}"
      ]
     },
     "execution_count": 82,
     "metadata": {},
     "output_type": "execute_result"
    }
   ],
   "source": [
    "player_to_scores = {\"ray\": 5000, \"ali\": 3000, \"sam\": 2000}\n",
    "scores_to_player = { score: player for player, score in player_to_scores.items() }\n",
    "scores_to_player"
   ]
  },
  {
   "cell_type": "markdown",
   "metadata": {},
   "source": [
    "There is no such thing as a tuple comprehension. Comprehensions build objects one item at a time, and tuples cannot be modified once they are created. The syntax that looks like a tuple comprehension is actually a *generator expression*. "
   ]
  },
  {
   "cell_type": "code",
   "execution_count": 92,
   "metadata": {},
   "outputs": [
    {
     "data": {
      "text/plain": [
       "<generator object <genexpr> at 0x7f9198316750>"
      ]
     },
     "execution_count": 92,
     "metadata": {},
     "output_type": "execute_result"
    }
   ],
   "source": [
    "(x ** 2 for x in range(10))"
   ]
  },
  {
   "cell_type": "markdown",
   "metadata": {},
   "source": [
    "Generators are objects that produce other objects one at a time, without constructing the full list in memory at once. In older versions of Python, `range(10)` actually produced a list of 10 items. Now it just produces a “range object”, which is a lot like a generator. It's an object that remembers its parameters, e.g. I will create the values from 0 to 9, but does not actually generate them until asked."
   ]
  },
  {
   "cell_type": "code",
   "execution_count": 84,
   "metadata": {},
   "outputs": [
    {
     "data": {
      "text/plain": [
       "range(0, 10)"
      ]
     },
     "execution_count": 84,
     "metadata": {},
     "output_type": "execute_result"
    }
   ],
   "source": [
    "range(10)"
   ]
  },
  {
   "cell_type": "code",
   "execution_count": 86,
   "metadata": {},
   "outputs": [
    {
     "data": {
      "text/plain": [
       "range"
      ]
     },
     "execution_count": 86,
     "metadata": {},
     "output_type": "execute_result"
    }
   ],
   "source": [
    "type(range(10))"
   ]
  },
  {
   "cell_type": "markdown",
   "metadata": {},
   "source": [
    "This means we can create range objects that, if fully expanded into a list, would not fit into a reasonable amount of memory. \n",
    "\n",
    "A googol is 1 followed by 100 zeroes, or `10 ** 100`. A popular online backup company has about 100,000 spinning hard drives, and their biggest hard drives are 14TB big. The population of the Earth is just under 8 billion, so suppose we gave every single person 100,000 14TB hard drives. The number of bytes on all of these hard drives combined would still be under `10 ** 30`, and each integer in Python is over a single byte big, so this is not even *close* to being able to store a list containing a googol integers in Python."
   ]
  },
  {
   "cell_type": "code",
   "execution_count": 108,
   "metadata": {},
   "outputs": [
    {
     "data": {
      "text/plain": [
       "range(0, 10000000000000000000000000000000000000000000000000000000000000000000000000000000000000000000000000000)"
      ]
     },
     "execution_count": 108,
     "metadata": {},
     "output_type": "execute_result"
    }
   ],
   "source": [
    "range(10 ** 100)"
   ]
  },
  {
   "cell_type": "markdown",
   "metadata": {},
   "source": [
    "But back in the realm of normality, let's say you *want* a list or tuple containing those a more reasonable number of numbers. You can put the range object into the `list` or `tuple` function to expand it fully:"
   ]
  },
  {
   "cell_type": "code",
   "execution_count": 93,
   "metadata": {},
   "outputs": [
    {
     "data": {
      "text/plain": [
       "(0, 1, 2, 3, 4, 5, 6, 7, 8, 9)"
      ]
     },
     "execution_count": 93,
     "metadata": {},
     "output_type": "execute_result"
    }
   ],
   "source": [
    "tuple(range(10))"
   ]
  },
  {
   "cell_type": "markdown",
   "metadata": {},
   "source": [
    "And you can do the same thing with a generator. So here is the closest equivalent of a “tuple comprehension”:"
   ]
  },
  {
   "cell_type": "code",
   "execution_count": 94,
   "metadata": {},
   "outputs": [
    {
     "data": {
      "text/plain": [
       "(0, 1, 4, 9, 16, 25, 36, 49, 64, 81)"
      ]
     },
     "execution_count": 94,
     "metadata": {},
     "output_type": "execute_result"
    }
   ],
   "source": [
    "tuple(x ** 2 for x in range(10))"
   ]
  },
  {
   "cell_type": "markdown",
   "metadata": {},
   "source": [
    "Generators are useful to save memory when we don't need to construct the full list. For example, if you just want to find the maximum object of an expression that you can write as a list comprehension, you can write it with a generator expression instead. Here we find the maximum even square number up to 99 squared:"
   ]
  },
  {
   "cell_type": "code",
   "execution_count": 98,
   "metadata": {},
   "outputs": [
    {
     "data": {
      "text/plain": [
       "9604"
      ]
     },
     "execution_count": 98,
     "metadata": {},
     "output_type": "execute_result"
    }
   ],
   "source": [
    "max(x ** 2 for x in range(100) if x ** 2 % 2 == 0)"
   ]
  },
  {
   "cell_type": "markdown",
   "metadata": {},
   "source": [
    "#### The Beauty of Comprehensions?\n",
    "Comprehensions are powerful, and it can be fun to see how much you can do on one line! But always remember that the goal is readable code.\n",
    "\n",
    "Have a look again at the [`winning_score`](#Iteration) function above. The entire function can actually be written in a single line:"
   ]
  },
  {
   "cell_type": "code",
   "execution_count": 102,
   "metadata": {},
   "outputs": [
    {
     "name": "stdout",
     "output_type": "stream",
     "text": [
      "The top player today was **ali** with a score of **7000**!\n"
     ]
    }
   ],
   "source": [
    "recent_scores = {\"ray\": [5000], \"ali\": [3000, 7000], \"sam\": [2000, 1000]}\n",
    "\n",
    "score, player = max(((max(v), k) for k, v in recent_scores.items()))\n",
    "\n",
    "print(f\"The top player today was **{player}** with a score of **{score}**!\")"
   ]
  },
  {
   "cell_type": "markdown",
   "metadata": {},
   "source": [
    "But this code isn't necessarily the most readable! Still, you might need to understand complicated code like this one day, so give it a careful read and make sure you understand what is going on.\n",
    "\n",
    "### Questions\n",
    "#### Question 1:  Longest Value\n",
    "Given a dictionary, return the *key* of the element whose *value* has the longest result for the function `len`. \n",
    "\n",
    "The dictionary will only contain values which support the `len` function. So it could include strings, tuples, lists, a mix of these, and so on. Only a single element will have the longest value."
   ]
  },
  {
   "cell_type": "code",
   "execution_count": 8,
   "metadata": {},
   "outputs": [
    {
     "name": "stdout",
     "output_type": "stream",
     "text": [
      "Example tests for function longest_value\n",
      "\n",
      "Test 1/5: longest_value({'a': 'a'}) -> 'a'\n",
      "Test 2/5: longest_value({'a': 'a', 'b': 'bb', 'c': 'ccc'}) -> 'c'\n",
      "Test 3/5: longest_value({'c': '0', 'b': '000', 'd': '00'}) -> 'b'\n",
      "Test 4/5: longest_value({'dog': (0, 1, 1, 1, 0), 'egg': (0, 1, 1, 0), 'cat': (0, 1, 0), 'fox': (0, 0)}) -> 'dog'\n",
      "Test 5/5: longest_value({'a': 'aaaaa', 2: (1, 2, 3, 4), (3,): {'ccc': 2, 'ddd': 3}, 'four': {0, 100, -100}}) -> 'a'\n"
     ]
    }
   ],
   "source": [
    "%run ../scripts/show_examples.py ./questions/4.3/longest_value"
   ]
  },
  {
   "cell_type": "code",
   "execution_count": null,
   "metadata": {
    "scrolled": false
   },
   "outputs": [],
   "source": [
    "def longest_value(dictionary):\n",
    "    pass\n",
    "\n",
    "%run -i ../scripts/function_tester.py ./questions/4.3/longest_value"
   ]
  },
  {
   "cell_type": "markdown",
   "metadata": {},
   "source": [
    "#### Question 2: Substitution Cipher\n",
    "Given a lower case string and a dictionary containing substitutions from one letter to another, return the string that results by making all of the substitutions. So the following dictionary `{\"t\": \"f\"}` will replace all `t`s with `f`s."
   ]
  },
  {
   "cell_type": "code",
   "execution_count": 9,
   "metadata": {},
   "outputs": [
    {
     "name": "stdout",
     "output_type": "stream",
     "text": [
      "Example tests for function sub_cipher\n",
      "\n",
      "Test 1/5: sub_cipher('test', {'t': 'f'}) -> 'fesf'\n",
      "Test 2/5: sub_cipher('pear', {'r': 'p', 'p': 'r'}) -> 'reap'\n",
      "Test 3/5: sub_cipher('string', {}) -> 'string'\n",
      "Test 4/5: sub_cipher('011011', {'0': '1', '1': '0'}) -> '100100'\n",
      "Test 5/5: sub_cipher('hello!', {'!': '?'}) -> 'hello?'\n"
     ]
    }
   ],
   "source": [
    "%run ../scripts/show_examples.py ./questions/4.3/sub_cipher"
   ]
  },
  {
   "cell_type": "code",
   "execution_count": null,
   "metadata": {},
   "outputs": [],
   "source": [
    "def sub_cipher(s, dic):\n",
    "    pass\n",
    "\n",
    "%run -i ../scripts/function_tester.py ./questions/4.3/sub_cipher"
   ]
  },
  {
   "cell_type": "markdown",
   "metadata": {},
   "source": [
    "#### Question 3: Longest Cycle\n",
    "Given a dictionary, return the length of the longest *cycle*. For the purposes of this question, cycle is defined as a repeating sequence of elements found by using the *value* of one element as the *key* of the next element. For example, suppose 1 maps to 4 which maps to 2 which maps to 1. We could represent this cycle in the following dictionary: `{1: 4, 4: 2, 2: 1}`, the cycle has length 3.\n",
    "\n",
    "The following dictionary has two independent cycles. To make it clearer, one is made only of integers, and one is made only of single character strings: \n",
    "\n",
    "`{1: 4, \"b\": \"a\", \"h\": \"b\", 2: 1, \"a\": \"t\", 4: 2, \"t\": \"h\"}` \n",
    "\n",
    "Can you detangle the two cycles?\n",
    "\n",
    "In the previous example, the cycle of integers has length 3, and the cycle of strings has length 4. Given this dictionary, the function should return 4.\n",
    "\n",
    "*Your code must not modify the dictionary that is passed in!* You can, of course, make a *copy* of the dictionary which you then modify. You can always look up how to do specific things (like making a copy of a dictionary or removing elements from a dictionary) online."
   ]
  },
  {
   "cell_type": "code",
   "execution_count": 22,
   "metadata": {},
   "outputs": [
    {
     "name": "stdout",
     "output_type": "stream",
     "text": [
      "Example tests for function longest_cycle\n",
      "\n",
      "Test 1/5: longest_cycle({1: 4, 4: 2, 2: 1}) -> 3\n",
      "Test 2/5: longest_cycle({}) -> 0\n",
      "Test 3/5: longest_cycle({12754: 12754, 'mpz': 'mpz', 'dxx': 'dxx', 9066: 9066}) -> 1\n",
      "Test 4/5: longest_cycle({1: 4, 'b': 'a', 'h': 'b', 2: 1, 'a': 't', 4: 2, 't': 'h'}) -> 4\n",
      "Test 5/5: longest_cycle({3: 1, 1: 3, 'x': 'x', 'j': 'z', 'z': 'j', 6: 6}) -> 2\n"
     ]
    }
   ],
   "source": [
    "%run ../scripts/show_examples.py ./questions/4.3/longest_cycle"
   ]
  },
  {
   "cell_type": "code",
   "execution_count": null,
   "metadata": {},
   "outputs": [],
   "source": [
    "def longest_cycle(dic):\n",
    "    pass\n",
    "\n",
    "%run -i ../scripts/function_tester.py ./questions/4.3/longest_cycle"
   ]
  },
  {
   "cell_type": "markdown",
   "metadata": {},
   "source": [
    "#### What Next?\n",
    "At this point you have covered most of the material you need to go out and start writing your own Python projects. But first you might want to try the [final chapter](../Chapter%205/5.1.ipynb), which contains a few more intermediate concepts that you might find useful."
   ]
  }
 ],
 "metadata": {
  "kernelspec": {
   "display_name": "Python 3",
   "language": "python",
   "name": "python3"
  },
  "language_info": {
   "codemirror_mode": {
    "name": "ipython",
    "version": 3
   },
   "file_extension": ".py",
   "mimetype": "text/x-python",
   "name": "python",
   "nbconvert_exporter": "python",
   "pygments_lexer": "ipython3",
   "version": "3.6.1"
  }
 },
 "nbformat": 4,
 "nbformat_minor": 2
}
