{
 "cells": [
  {
   "cell_type": "markdown",
   "metadata": {},
   "source": [
    "## 4.2 Tuples and 2D Structures\n",
    "### An Immutable Sequence\n",
    "As we saw in the last section, lists are mutable. We can add and modify elements on the fly. This makes them useful for storing dynamic collections of data. But sometimes you want to be able use a collection that cannot be modified – accidentally or deliberately.\n",
    "\n",
    "A **tuple** is a collection that is extremely similar to a list, but it is *immutable*.\n",
    "\n",
    "Tuples are a concept taken directly from mathematics. Coordinates, for example, are often written as $(x, y)$ *pairs*. A *pair* is a special name for a tuple of length 2. We also have *triples* (length 3), *quadruples* (length 4), *quintuples* (length 5) and so on.\n",
    "\n",
    "In Python, tuples are written like lists but with *parentheses* rather than square brackets:"
   ]
  },
  {
   "cell_type": "code",
   "execution_count": 1,
   "metadata": {},
   "outputs": [
    {
     "data": {
      "text/plain": [
       "(1, 2, 3)"
      ]
     },
     "execution_count": 1,
     "metadata": {},
     "output_type": "execute_result"
    }
   ],
   "source": [
    "(1, 2, 3)"
   ]
  },
  {
   "cell_type": "code",
   "execution_count": 3,
   "metadata": {},
   "outputs": [
    {
     "data": {
      "text/plain": [
       "tuple"
      ]
     },
     "execution_count": 3,
     "metadata": {},
     "output_type": "execute_result"
    }
   ],
   "source": [
    "type((1, 2, 3))"
   ]
  },
  {
   "cell_type": "markdown",
   "metadata": {},
   "source": [
    "We can access their elements just like any other sequence:"
   ]
  },
  {
   "cell_type": "code",
   "execution_count": 4,
   "metadata": {},
   "outputs": [
    {
     "data": {
      "text/plain": [
       "3"
      ]
     },
     "execution_count": 4,
     "metadata": {},
     "output_type": "execute_result"
    }
   ],
   "source": [
    "coordinate = (3, 4)\n",
    "coordinate[0]"
   ]
  },
  {
   "cell_type": "markdown",
   "metadata": {},
   "source": [
    "But we cannot modify tuples once created:"
   ]
  },
  {
   "cell_type": "code",
   "execution_count": 5,
   "metadata": {},
   "outputs": [
    {
     "ename": "TypeError",
     "evalue": "'tuple' object does not support item assignment",
     "output_type": "error",
     "traceback": [
      "\u001b[0;31m------------------------------------------------------------------\u001b[0m",
      "\u001b[0;31mTypeError\u001b[0m                        Traceback (most recent call last)",
      "\u001b[0;32m<ipython-input-5-28ce0687a95d>\u001b[0m in \u001b[0;36m<module>\u001b[0;34m\u001b[0m\n\u001b[1;32m      1\u001b[0m \u001b[0mcoordinate\u001b[0m \u001b[0;34m=\u001b[0m \u001b[0;34m(\u001b[0m\u001b[0;36m3\u001b[0m\u001b[0;34m,\u001b[0m \u001b[0;36m4\u001b[0m\u001b[0;34m)\u001b[0m\u001b[0;34m\u001b[0m\u001b[0;34m\u001b[0m\u001b[0m\n\u001b[0;32m----> 2\u001b[0;31m \u001b[0mcoordinate\u001b[0m\u001b[0;34m[\u001b[0m\u001b[0;36m0\u001b[0m\u001b[0;34m]\u001b[0m \u001b[0;34m=\u001b[0m \u001b[0;36m5\u001b[0m\u001b[0;34m\u001b[0m\u001b[0;34m\u001b[0m\u001b[0m\n\u001b[0m",
      "\u001b[0;31mTypeError\u001b[0m: 'tuple' object does not support item assignment"
     ]
    }
   ],
   "source": [
    "coordinate = (3, 4)\n",
    "coordinate[0] = 5"
   ]
  },
  {
   "cell_type": "markdown",
   "metadata": {},
   "source": [
    "Like lists, tuples can contain any data type, but like strings they are *immutable*. We can still do some common operations like the concatenation of two tuples, just like we can with strings, because it does not modify the original objects, it just returns a new tuple:"
   ]
  },
  {
   "cell_type": "code",
   "execution_count": 7,
   "metadata": {},
   "outputs": [
    {
     "data": {
      "text/plain": [
       "(1, 2, 3, 4)"
      ]
     },
     "execution_count": 7,
     "metadata": {},
     "output_type": "execute_result"
    }
   ],
   "source": [
    "(1, 2) + (3, 4)"
   ]
  },
  {
   "cell_type": "markdown",
   "metadata": {},
   "source": [
    "#### To Mutate Or Not To Mutate?\n",
    "The choice of whether to use a mutable or immutable type is a design decision. It is somewhat philosophical: we never really *need* to use a tuple; we could use a list and just never modify it, the real world difference would be negligible. Tuples can never grow in size, so they can make more efficient use of memory, but that is about it.\n",
    "\n",
    "However by choosing to use an immutable type you are making a design statement that says you believe this object should not be modified. This means you can pass it into other functions secure in the knowledge that they cannot modify your data. If they try, it will cause an error, and the code will crash.\n",
    "\n",
    "This can be a good thing. Suppose you are using a sequence of items that you do not expect to change. You accidentally call a procedure which modifies the data passed in. If you are using a tuple, you will get an error as soon as you run this line – then you can decide whether you should have called a different function. If you were using a list, you might not notice that the data had changed until something went wrong later. These kinds of logical errors can be hard to find specifically because they *don't* cause the code to crash.\n",
    "\n",
    "#### Example\n",
    "In this example, we use tuples to find the Euclidean distance between two points. Try changing the values of `point1` and `point2` and re-running the cell."
   ]
  },
  {
   "cell_type": "code",
   "execution_count": 11,
   "metadata": {},
   "outputs": [
    {
     "data": {
      "text/plain": [
       "5.0"
      ]
     },
     "execution_count": 11,
     "metadata": {},
     "output_type": "execute_result"
    }
   ],
   "source": [
    "def distance(point1, point2):\n",
    "    x1 = point1[0]\n",
    "    x2 = point2[0]\n",
    "    y1 = point1[1]\n",
    "    y2 = point2[1]\n",
    "    \n",
    "    return ((x2 - x1)**2 + (y2 - y1)**2) ** (0.5)\n",
    "\n",
    "point1 = (2, 4)\n",
    "point2 = (5, 8)\n",
    "distance(point1, point2)"
   ]
  },
  {
   "cell_type": "markdown",
   "metadata": {},
   "source": [
    "#### Tuples Without Parentheses\n",
    "You have actually seen tuples before in the previous section, in the line:\n",
    "```python\n",
    "for i, item in enumerate(my_list):\n",
    "```\n",
    "\n",
    "It looks like `enumerate` is somehow returning two items at once, but it is actually returning tuples. There are many situations where we can drop the parentheses from either end of a tuple, e.g.:"
   ]
  },
  {
   "cell_type": "code",
   "execution_count": 12,
   "metadata": {},
   "outputs": [
    {
     "data": {
      "text/plain": [
       "tuple"
      ]
     },
     "execution_count": 12,
     "metadata": {},
     "output_type": "execute_result"
    }
   ],
   "source": [
    "point = 2, 4\n",
    "type(point)"
   ]
  },
  {
   "cell_type": "markdown",
   "metadata": {},
   "source": [
    "This is called *packing*, the two objects are combined to form a tuple. If we want to write a one item tuple we can do so with a trailing comma:"
   ]
  },
  {
   "cell_type": "code",
   "execution_count": 17,
   "metadata": {},
   "outputs": [
    {
     "data": {
      "text/plain": [
       "(1,)"
      ]
     },
     "execution_count": 17,
     "metadata": {},
     "output_type": "execute_result"
    }
   ],
   "source": [
    "1,"
   ]
  },
  {
   "cell_type": "markdown",
   "metadata": {},
   "source": [
    "But there are some situations where we still need to use parentheses. We need them to represent an empty tuple:"
   ]
  },
  {
   "cell_type": "code",
   "execution_count": 18,
   "metadata": {},
   "outputs": [
    {
     "data": {
      "text/plain": [
       "()"
      ]
     },
     "execution_count": 18,
     "metadata": {},
     "output_type": "execute_result"
    }
   ],
   "source": [
    "() "
   ]
  },
  {
   "cell_type": "markdown",
   "metadata": {},
   "source": [
    "And we obviously cannot pass a tuple into a function like this:"
   ]
  },
  {
   "cell_type": "code",
   "execution_count": 13,
   "metadata": {},
   "outputs": [
    {
     "ename": "TypeError",
     "evalue": "type() takes 1 or 3 arguments",
     "output_type": "error",
     "traceback": [
      "\u001b[0;31m------------------------------------------------------------------\u001b[0m",
      "\u001b[0;31mTypeError\u001b[0m                        Traceback (most recent call last)",
      "\u001b[0;32m<ipython-input-13-02bfa40dc3a7>\u001b[0m in \u001b[0;36m<module>\u001b[0;34m\u001b[0m\n\u001b[0;32m----> 1\u001b[0;31m \u001b[0mtype\u001b[0m\u001b[0;34m(\u001b[0m\u001b[0;36m2\u001b[0m\u001b[0;34m,\u001b[0m \u001b[0;36m4\u001b[0m\u001b[0;34m)\u001b[0m\u001b[0;34m\u001b[0m\u001b[0;34m\u001b[0m\u001b[0m\n\u001b[0m",
      "\u001b[0;31mTypeError\u001b[0m: type() takes 1 or 3 arguments"
     ]
    }
   ],
   "source": [
    "type(2, 4)"
   ]
  },
  {
   "cell_type": "markdown",
   "metadata": {},
   "source": [
    "In this case `type(2, 4)` is interpreted as trying to call `type` with two arguments, not a single tuple argument.\n",
    "\n",
    "We can also include two items on the left hand side of an assignment:"
   ]
  },
  {
   "cell_type": "code",
   "execution_count": 15,
   "metadata": {},
   "outputs": [
    {
     "name": "stdout",
     "output_type": "stream",
     "text": [
      "x is 2, y is 4\n"
     ]
    }
   ],
   "source": [
    "point = 2, 4\n",
    "x, y = point\n",
    "print(f\"x is {x}, y is {y}\")"
   ]
  },
  {
   "cell_type": "markdown",
   "metadata": {},
   "source": [
    "And this is what is happening in the line of code above that calls `enumerate`. The tuples that are returned from `enumerate` are *unpacked* into the variable names `i` and `item`.\n",
    "\n",
    "A combination of the two leads to this very neat one line assignment that swaps two variables:"
   ]
  },
  {
   "cell_type": "code",
   "execution_count": 16,
   "metadata": {},
   "outputs": [
    {
     "name": "stdout",
     "output_type": "stream",
     "text": [
      "a is 5, b is 10\n"
     ]
    }
   ],
   "source": [
    "a = 10\n",
    "b = 5\n",
    "\n",
    "a, b = b, a\n",
    "\n",
    "print(f\"a is {a}, b is {b}\")"
   ]
  },
  {
   "cell_type": "markdown",
   "metadata": {},
   "source": [
    "> ***Exercise*** <br />\n",
    "> Go back to the `distance` function above and clean up the readability of the first 4 lines using tuple unpacking\n",
    "\n",
    "So it is effectively possible to write a function that returns more than one value:"
   ]
  },
  {
   "cell_type": "code",
   "execution_count": 23,
   "metadata": {},
   "outputs": [
    {
     "name": "stdout",
     "output_type": "stream",
     "text": [
      "Roots are 1.0 and -2.0\n"
     ]
    }
   ],
   "source": [
    "def quadratic_roots(a, b, c):\n",
    "    \"\"\" Returns the roots of the quadratic ax^2 + bx + c \"\"\"\n",
    "    root_bsq_minus_4ac = ((b ** 2) - (4 * a * c)) ** 0.5\n",
    "    return (-b + root_bsq_minus_4ac) / (2 * a), (-b - root_bsq_minus_4ac) / (2 * a)\n",
    "\n",
    "root1, root2 = quadratic_roots(1, 1, -2)\n",
    "print(f\"Roots are {root1} and {root2}\")"
   ]
  },
  {
   "cell_type": "markdown",
   "metadata": {},
   "source": [
    "But be careful. If you assign the return value to a single variable, that variable will be a tuple."
   ]
  },
  {
   "cell_type": "code",
   "execution_count": 25,
   "metadata": {},
   "outputs": [
    {
     "name": "stdout",
     "output_type": "stream",
     "text": [
      "Roots is (1.0, -2.0)\n"
     ]
    }
   ],
   "source": [
    "roots = quadratic_roots(1, 1, -2)\n",
    "print(f\"Roots is {roots}\")"
   ]
  },
  {
   "cell_type": "markdown",
   "metadata": {},
   "source": [
    "This is unlike some other languages like MATLAB, where only the requested return values are returned.\n",
    "\n",
    "### 2D Data Structures\n",
    "Lists and tuples can contain any data type, including more lists and tuples! We already saw examples of lists containing lists in the previous section. Here's another:"
   ]
  },
  {
   "cell_type": "code",
   "execution_count": 26,
   "metadata": {},
   "outputs": [
    {
     "data": {
      "text/plain": [
       "[[1, 0, 0], [0, 1, 0], [0, 0, 1]]"
      ]
     },
     "execution_count": 26,
     "metadata": {},
     "output_type": "execute_result"
    }
   ],
   "source": [
    "list_of_lists = [[1, 0, 0], [0, 1, 0], [0, 0, 1]]\n",
    "list_of_lists"
   ]
  },
  {
   "cell_type": "markdown",
   "metadata": {},
   "source": [
    "This is a list of length 3"
   ]
  },
  {
   "cell_type": "code",
   "execution_count": 27,
   "metadata": {},
   "outputs": [
    {
     "data": {
      "text/plain": [
       "3"
      ]
     },
     "execution_count": 27,
     "metadata": {},
     "output_type": "execute_result"
    }
   ],
   "source": [
    "list_of_lists = [[1, 0, 0], [0, 1, 0], [0, 0, 1]]\n",
    "len(list_of_lists)"
   ]
  },
  {
   "cell_type": "markdown",
   "metadata": {},
   "source": [
    "We can access the first element in the normal way"
   ]
  },
  {
   "cell_type": "code",
   "execution_count": 29,
   "metadata": {},
   "outputs": [
    {
     "data": {
      "text/plain": [
       "[1, 0, 0]"
      ]
     },
     "execution_count": 29,
     "metadata": {},
     "output_type": "execute_result"
    }
   ],
   "source": [
    "list_of_lists = [[1, 0, 0], [0, 1, 0], [0, 0, 1]]\n",
    "list_of_lists[0]"
   ]
  },
  {
   "cell_type": "markdown",
   "metadata": {},
   "source": [
    "It is another list of length 3"
   ]
  },
  {
   "cell_type": "code",
   "execution_count": 30,
   "metadata": {},
   "outputs": [
    {
     "data": {
      "text/plain": [
       "3"
      ]
     },
     "execution_count": 30,
     "metadata": {},
     "output_type": "execute_result"
    }
   ],
   "source": [
    "list_of_lists = [[1, 0, 0], [0, 1, 0], [0, 0, 1]]\n",
    "len(list_of_lists[0])"
   ]
  },
  {
   "cell_type": "markdown",
   "metadata": {},
   "source": [
    "We can access the elements of this *sublist* using this notation:"
   ]
  },
  {
   "cell_type": "code",
   "execution_count": 32,
   "metadata": {},
   "outputs": [
    {
     "data": {
      "text/plain": [
       "1"
      ]
     },
     "execution_count": 32,
     "metadata": {},
     "output_type": "execute_result"
    }
   ],
   "source": [
    "list_of_lists = [[1, 0, 0], [0, 1, 0], [0, 0, 1]]\n",
    "list_of_lists[0][0]"
   ]
  },
  {
   "cell_type": "markdown",
   "metadata": {},
   "source": [
    "So, this says\n",
    "```python\n",
    "list_of_lists[0]\n",
    "              ↳ # take the first element of list_of_lists (which is a list)\n",
    "list_of_lists[0][0]\n",
    "                 ↳ # take the first element of the list returned by the previous part of the expression\n",
    "```\n",
    "\n",
    "We can use this notation to change values too. Let's change the middle `1` into a `5`:"
   ]
  },
  {
   "cell_type": "code",
   "execution_count": 34,
   "metadata": {},
   "outputs": [
    {
     "data": {
      "text/plain": [
       "[[1, 0, 0], [0, 5, 0], [0, 0, 1]]"
      ]
     },
     "execution_count": 34,
     "metadata": {},
     "output_type": "execute_result"
    }
   ],
   "source": [
    "list_of_lists = [[1, 0, 0], [0, 1, 0], [0, 0, 1]]\n",
    "list_of_lists[1][1] = 5\n",
    "list_of_lists"
   ]
  },
  {
   "cell_type": "markdown",
   "metadata": {},
   "source": [
    "This is an example of a **2D list**. You can think of it as a table, or mathematical matrix. It is not very clear from the way it is written here, so let's write a function to print it more clearly. \n",
    "\n",
    "This function uses a *nested* for loop, which is common sight when we are dealing with 2D lists. \n",
    "\n",
    "It also uses a *named keyword argument* in the print statement – normally a print statement will start a new line, but by using `end=\" \"` we are telling it to end the print statement with a space rather than a line break."
   ]
  },
  {
   "cell_type": "code",
   "execution_count": 36,
   "metadata": {},
   "outputs": [
    {
     "name": "stdout",
     "output_type": "stream",
     "text": [
      "1 0 0 \n",
      "0 1 0 \n",
      "0 0 1 \n"
     ]
    }
   ],
   "source": [
    "def print_matrix(matrix):\n",
    "    # for each row\n",
    "    for i in range(0, len(matrix)):\n",
    "        # for each column\n",
    "        for j in range(0, len(matrix[i])):\n",
    "            print(matrix[i][j], end=\" \")\n",
    "        print()\n",
    "        \n",
    "list_of_lists = [[1, 0, 0], [0, 1, 0], [0, 0, 1]]\n",
    "print_matrix(list_of_lists)"
   ]
  },
  {
   "cell_type": "markdown",
   "metadata": {},
   "source": [
    "Try changing the values in `list_of_lists` to see how the output changes. Can you write a 2D list that is rectangular instead of square?\n",
    "\n",
    "Notice that lists of lists could have different sized lists on each “row”:"
   ]
  },
  {
   "cell_type": "code",
   "execution_count": 37,
   "metadata": {},
   "outputs": [
    {
     "name": "stdout",
     "output_type": "stream",
     "text": [
      "1 0 0 \n",
      "0 1 0 0 \n",
      "0 0 1 \n"
     ]
    }
   ],
   "source": [
    "list_of_lists = [[1, 0, 0], [0, 1, 0, 0], [0, 0, 1]]\n",
    "print_matrix(list_of_lists)"
   ]
  },
  {
   "cell_type": "markdown",
   "metadata": {},
   "source": [
    "But this is a recipe for headaches later! It is certainly a list of lists, but it is *not* a valid *matrix* in the mathematical sense. Some people might refrain from using the “2D list” label as well. In general, you'd be better to avoid doing this unless you have a very good reason.\n",
    "\n",
    "2D lists (or 2D tuples) are used quite often. They can represent tables of information, boards in games, images, matricies, and so on.\n",
    "\n",
    "#### ND Lists\n",
    "We can of course have lists within lists within lists, thereby creating multidimensional lists of any dimension! It is quite unusual to see anything 4D or above but there's nothing stopping you:"
   ]
  },
  {
   "cell_type": "code",
   "execution_count": 51,
   "metadata": {},
   "outputs": [
    {
     "data": {
      "text/plain": [
       "5"
      ]
     },
     "execution_count": 51,
     "metadata": {},
     "output_type": "execute_result"
    }
   ],
   "source": [
    "# 4D list\n",
    "woah = [[[[0, 1], [2, 3]], [[4, 5], [6, 7]]], [[[8, 9], [10, 11]], [[12, 13], [14, 15]]]]\n",
    "woah[0][1][0][1]"
   ]
  },
  {
   "cell_type": "markdown",
   "metadata": {},
   "source": [
    "####  ⚠️ Warning: Creating 2D Lists ⚠️\n",
    "If you want to generate a 2D list of a specific size (which is a reasonable thing to do), you have to be a little bit careful. Suppose we wanted to make a chess game, and decide to start the board with an 8 by 8 list of empty strings (which we will later change to have symbols for the piece on each square).\n",
    "\n",
    "For 1D lists, this is easy:"
   ]
  },
  {
   "cell_type": "code",
   "execution_count": 40,
   "metadata": {},
   "outputs": [
    {
     "data": {
      "text/plain": [
       "['♜', '', '', '', '', '', '', '']"
      ]
     },
     "execution_count": 40,
     "metadata": {},
     "output_type": "execute_result"
    }
   ],
   "source": [
    "my_strings = [\"\"] * 8\n",
    "# Python supports unicode strings!\n",
    "my_strings[0] = \"♜\"\n",
    "\n",
    "# we would do more symbols here\n",
    "\n",
    "my_strings"
   ]
  },
  {
   "cell_type": "markdown",
   "metadata": {},
   "source": [
    "If we try the obvious extension of this idea to create the 2D list, things seem to work:"
   ]
  },
  {
   "cell_type": "code",
   "execution_count": 46,
   "metadata": {},
   "outputs": [
    {
     "data": {
      "text/plain": [
       "[['', '', '', '', '', '', '', ''],\n",
       " ['', '', '', '', '', '', '', ''],\n",
       " ['', '', '', '', '', '', '', ''],\n",
       " ['', '', '', '', '', '', '', ''],\n",
       " ['', '', '', '', '', '', '', ''],\n",
       " ['', '', '', '', '', '', '', ''],\n",
       " ['', '', '', '', '', '', '', ''],\n",
       " ['', '', '', '', '', '', '', '']]"
      ]
     },
     "execution_count": 46,
     "metadata": {},
     "output_type": "execute_result"
    }
   ],
   "source": [
    "my_board = [[\"\"] * 8] * 8\n",
    "my_board"
   ]
  },
  {
   "cell_type": "markdown",
   "metadata": {},
   "source": [
    "But we run into a problem when we try to change the contents:"
   ]
  },
  {
   "cell_type": "code",
   "execution_count": 48,
   "metadata": {},
   "outputs": [
    {
     "data": {
      "text/plain": [
       "[['♜', '', '', '', '', '', '', ''],\n",
       " ['♜', '', '', '', '', '', '', ''],\n",
       " ['♜', '', '', '', '', '', '', ''],\n",
       " ['♜', '', '', '', '', '', '', ''],\n",
       " ['♜', '', '', '', '', '', '', ''],\n",
       " ['♜', '', '', '', '', '', '', ''],\n",
       " ['♜', '', '', '', '', '', '', ''],\n",
       " ['♜', '', '', '', '', '', '', '']]"
      ]
     },
     "execution_count": 48,
     "metadata": {},
     "output_type": "execute_result"
    }
   ],
   "source": [
    "my_board = [[\"\"] * 8] * 8\n",
    "my_board[0][0] = \"♜\"\n",
    "my_board"
   ]
  },
  {
   "cell_type": "markdown",
   "metadata": {},
   "source": [
    "The problem is we have created a list containing eight copies of the *exact same list*. This was a similar issue we faced in the previous section where two variable names referred to the same list data. We will see the solution for this problem [in the next section](4.3.ipynb#%E2%9A%A0%EF%B8%8F-Creating-2D-Lists-%E2%9A%A0%EF%B8%8F). \n",
    "\n",
    "### Questions\n",
    "#### Interactive Quiz\n",
    "There's no quiz for this section: a quiz for tuples would look very similar to the one for lists, and trying to read 2D arrays in the quiz format would just be mean. If you are confused about any of the concepts above then play around with them, or make a new cell to test your own understanding.\n",
    "\n",
    "#### Question 1: Rowwise Maximum\n",
    "Write a function which returns a list containing the maximum element in each row of an input 2D list.\n",
    "\n",
    "By convention we assume that 2D structures are stored and indexed *row by column*. So this 2D list:\n",
    "```python\n",
    "my_list = [[1, 2, 3], [4, 5, 6]]\n",
    "```\n",
    "would be printed as\n",
    "```\n",
    "1 2 3\n",
    "4 5 6\n",
    "```\n",
    "i.e. it has two rows and three columns.\n",
    "\n",
    "`my_list[0][1]` gets the element with position first row (row `0`) and second column (column `1`). This returns `2`.\n",
    "\n",
    "`my_list[0]` is the entire first row of `my_list`. This returns `[1, 2, 3]`."
   ]
  },
  {
   "cell_type": "code",
   "execution_count": 20,
   "metadata": {},
   "outputs": [
    {
     "name": "stdout",
     "output_type": "stream",
     "text": [
      "Example tests for function max_rowwise\n",
      "\n",
      "Test 1/5: max_rowwise([[1]]) -> [1]\n",
      "Test 2/5: max_rowwise([[1, 2], [3, 4], [5, 6]]) -> [2, 4, 6]\n",
      "Test 3/5: max_rowwise([[1, 0, 0], [0, 1, 0], [0, 0, 1]]) -> [1, 1, 1]\n",
      "Test 4/5: max_rowwise([[-1, -10], [-30, -2]]) -> [-1, -2]\n",
      "Test 5/5: max_rowwise([[2, 1], [4, 8]]) -> [2, 8]\n"
     ]
    }
   ],
   "source": [
    "%run ../scripts/show_examples.py ./questions/4.2/max_rowwise"
   ]
  },
  {
   "cell_type": "code",
   "execution_count": null,
   "metadata": {},
   "outputs": [],
   "source": [
    "def max_rowwise(towd_list):\n",
    "    pass\n",
    "\n",
    "%run -i ../scripts/function_tester.py ./questions/4.2/max_rowwise"
   ]
  },
  {
   "cell_type": "markdown",
   "metadata": {},
   "source": [
    "#### Question 2: Columnwise Minimum\n",
    "Now do the opposite! Given an input 2D array, I want to know the *minimum* value in each *column*. The input will always be rectangular: every row will have the same number of elements.\n",
    "\n",
    "This one is harder! Get creative. Search online if you run into odd problems."
   ]
  },
  {
   "cell_type": "code",
   "execution_count": 21,
   "metadata": {},
   "outputs": [
    {
     "name": "stdout",
     "output_type": "stream",
     "text": [
      "Example tests for function min_colwise\n",
      "\n",
      "Test 1/5: min_colwise([[1]]) -> [1]\n",
      "Test 2/5: min_colwise([[1, 2], [3, 4], [5, 6]]) -> [1, 2]\n",
      "Test 3/5: min_colwise([[1, 0, 0], [0, 1, 0], [0, 0, 1]]) -> [0, 0, 0]\n",
      "Test 4/5: min_colwise([[-1, -10], [-30, -2]]) -> [-30, -10]\n",
      "Test 5/5: min_colwise([[6, 8], [7, 8]]) -> [6, 8]\n"
     ]
    }
   ],
   "source": [
    "%run ../scripts/show_examples.py ./questions/4.2/min_colwise"
   ]
  },
  {
   "cell_type": "code",
   "execution_count": null,
   "metadata": {},
   "outputs": [],
   "source": [
    "def min_colwise(twod_list):\n",
    "    pass\n",
    "\n",
    "%run -i ../scripts/function_tester.py ./questions/4.2/min_colwise"
   ]
  },
  {
   "cell_type": "markdown",
   "metadata": {},
   "source": [
    "Once you are done, move onto the [next section](4.3.ipynb)."
   ]
  }
 ],
 "metadata": {
  "kernelspec": {
   "display_name": "Python 3",
   "language": "python",
   "name": "python3"
  },
  "language_info": {
   "codemirror_mode": {
    "name": "ipython",
    "version": 3
   },
   "file_extension": ".py",
   "mimetype": "text/x-python",
   "name": "python",
   "nbconvert_exporter": "python",
   "pygments_lexer": "ipython3",
   "version": "3.7.4"
  }
 },
 "nbformat": 4,
 "nbformat_minor": 2
}
