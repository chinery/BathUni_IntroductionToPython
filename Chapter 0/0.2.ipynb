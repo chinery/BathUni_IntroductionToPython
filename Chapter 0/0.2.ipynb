{
 "cells": [
  {
   "cell_type": "markdown",
   "metadata": {},
   "source": [
    "## 0.2 – Demo Notebook\n",
    "This Notebook exists as a stand-in to let you play around with the features of Jupyter and run some of your own custom code. It is also used in the video on the [previous page](0.1.ipynb) which demonstrates some of these features.\n",
    "\n",
    "Play around with the menus at the top of the page, there is a lot you can do inside a Notebook. Most of the commands also have keyboard shortcuts. You can get pretty good at controlling Notebooks entirely from the keyboard if you want."
   ]
  },
  {
   "cell_type": "markdown",
   "metadata": {},
   "source": [
    "#### Some Keyboard Shortcuts\n",
    "The most important keyboard shortcut is `Ctrl+Enter` which runs the cell. `Shift+Enter` will run the cell and move onto the next cell. `Alt+Enter` (or `Option+Enter` on a Mac) will run the cell then insert a new cell below."
   ]
  },
  {
   "cell_type": "markdown",
   "metadata": {},
   "source": [
    "#### Code Cells\n",
    "Now let's see some code cells. If you are looking at this before starting the first full chapter, don't worry about the actual code, focus on the Jupyter tools."
   ]
  },
  {
   "cell_type": "code",
   "execution_count": 1,
   "metadata": {
    "scrolled": false
   },
   "outputs": [
    {
     "data": {
      "text/plain": [
       "2"
      ]
     },
     "execution_count": 1,
     "metadata": {},
     "output_type": "execute_result"
    }
   ],
   "source": [
    "1 + 1"
   ]
  },
  {
   "cell_type": "code",
   "execution_count": 2,
   "metadata": {},
   "outputs": [],
   "source": [
    "one = 1"
   ]
  },
  {
   "cell_type": "code",
   "execution_count": 3,
   "metadata": {},
   "outputs": [
    {
     "data": {
      "text/plain": [
       "2"
      ]
     },
     "execution_count": 3,
     "metadata": {},
     "output_type": "execute_result"
    }
   ],
   "source": [
    "one + one"
   ]
  },
  {
   "cell_type": "markdown",
   "metadata": {},
   "source": [
    "If a code cell has been run it will have a number in square brackets. When you open this Notebook for the first time, the previous three cells have been run. The second one does not have an output – this is normal for some cells. You will learn more later."
   ]
  },
  {
   "cell_type": "code",
   "execution_count": null,
   "metadata": {},
   "outputs": [],
   "source": [
    "2 + 2"
   ]
  },
  {
   "cell_type": "markdown",
   "metadata": {},
   "source": [
    "This previous cell has not been run, there is no number in the square brackets. Guess what the answer will be then run the cell."
   ]
  },
  {
   "cell_type": "markdown",
   "metadata": {},
   "source": [
    "#### Quizzes\n",
    "Running the following cell will start an interactive quiz. \n",
    "\n",
    "Most sections have a quiz like this to help you build your comprehension. The questions get harder within each quiz and as you progress into later sections. They may even include some ideas you haven't seen before, so make sure you complete every quiz at least once.\n",
    "\n",
    "If you want to run code in another cell, you will either need to stop the quiz using the stop button ◼️ or open a separate Notebook."
   ]
  },
  {
   "cell_type": "code",
   "execution_count": null,
   "metadata": {
    "scrolled": false
   },
   "outputs": [],
   "source": [
    "%run ../scripts/interactive_questions ./questions/0.1.1q.txt"
   ]
  },
  {
   "cell_type": "markdown",
   "metadata": {},
   "source": [
    "#### More Code Cells\n",
    "If you run a code cell further down the page it might change the “state” of the Notebook. The Notebooks are designed so that this should never be an issue, but you might come across this when writing your own code cells. Just so you see what we mean, try running the next cell, then running the cell further up which says:\n",
    "```python\n",
    "one + one\n",
    "```\n",
    "\n",
    "If you need to reset the state of a Notebook, you can click the reset button ⟳. Typically you should then run each code cell from the start of the Notebook down the page – this is the order they are normally designed to be run in. You will understand more about why this is necessary once you start coding yourself."
   ]
  },
  {
   "cell_type": "code",
   "execution_count": null,
   "metadata": {},
   "outputs": [],
   "source": [
    "%run -i ../resources/break_dummy.py"
   ]
  },
  {
   "cell_type": "markdown",
   "metadata": {},
   "source": [
    "#### This Area Left Intentionally Blank\n",
    "The rest of this Notebook contains no useful information. Feel free to mess around with it as you learn how to use Jupyter."
   ]
  },
  {
   "cell_type": "code",
   "execution_count": null,
   "metadata": {},
   "outputs": [],
   "source": []
  },
  {
   "cell_type": "code",
   "execution_count": null,
   "metadata": {},
   "outputs": [],
   "source": []
  },
  {
   "cell_type": "code",
   "execution_count": null,
   "metadata": {},
   "outputs": [],
   "source": []
  }
 ],
 "metadata": {
  "kernelspec": {
   "display_name": "Python 3",
   "language": "python",
   "name": "python3"
  },
  "language_info": {
   "codemirror_mode": {
    "name": "ipython",
    "version": 3
   },
   "file_extension": ".py",
   "mimetype": "text/x-python",
   "name": "python",
   "nbconvert_exporter": "python",
   "pygments_lexer": "ipython3",
   "version": "3.6.1"
  }
 },
 "nbformat": 4,
 "nbformat_minor": 2
}
