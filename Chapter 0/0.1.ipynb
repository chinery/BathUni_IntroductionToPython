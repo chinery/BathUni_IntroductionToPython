{
 "cells": [
  {
   "cell_type": "markdown",
   "metadata": {},
   "source": [
    "# 0.1 – Using Jupyter Notebooks\n",
    "<img src=\"../resources/comingsoon.png\" width=450 align=centre>\n",
    "\n",
    "> ### Video Transcript\n",
    "> In this video I'll be showing you how to use Jupyter Notebooks, the framework this unit is built on which allows us to mix text and code seamlessly. Below this video is a link to a dummy notebook. I encourage you to open the link in a new window or tab so you can pause the video and try out the tools yourself as I go along.\n",
    ">\n",
    "> I have opened a notebook that should look something like the one that opens when you click the link below this video. You can always come here, or even create a new notebook, if you want to write some code that is separate from the other material. For example you might want to come here to test out some code that you have written that you want to run.\n",
    ">\n",
    "> Jupyter is based on the notion of cells. All of the content on a page is made up of cells running from the top of the page to the bottom. You can see that if I click once in a open area there is a bar on the left hand side of the page. If I press the up and down arrows on my keyboard, then we move between cells moving up and down the page.\n",
    ">\n",
    "> The cell that I've highlighted here contains code, we'll come back to that in a second. If I press up, the cell that is highlighted now contains text. These are the main two types of cells you will find: code, and text. We'll use text cells to explain various programming concepts, and you will mostly just read them. You only need to interact with the code cells.\n",
    ">\n",
    "> However, even the text cells are programmed, in a way. If we double click on a text cell, we enter edit mode on that cell. Suddenly all the text has gone into a fixed-width font that looks like code. Even if you click away from the cell, it will not regain its formatting. Do not panic, you haven't broken anything. You can restore the formatting by *running* the cell. You can do this by clicking this \"►| Run\" button on the command bar at the top of the page. Or you can press the keyboard shortcut Ctrl-Enter.\n",
    ">\n",
    "> Why does this happen? Well, the text on a Jupyter Notebook is written in a format called Markdown. This is a markup language, which is a bit like a programming language but is much more simple, and is only used for formatting, not for writing complex logic. If you want to change any of the text on these pages then you can. But there is very little reason to do so.\n",
    ">\n",
    "> This brings me to an important point. You probably launched this Notebook from a link that took you to a website that looks like this. This is called Binder. It creates and starts a server for you to run the Notebook on. Any changes you make to the Notebook exist only on your own individual server. When you close the Notebook, or if you leave it too long without using it, it will be shut down and your changes will be lost – the next time you open the link it will be back to its original state. This means you do not have to worry about breaking anything, and if we make any changes to the unit you will always have the most up to date version. But it also means you will lose any code you write. If you want to keep a copy of your code, I suggest that you write it in a text editor on your computer and then copy and paste it into the Jupyter Notebook. It is also possible to grab a copy of these Notebook files so that you can work offline and changes will be permanent – there are instructions in the appendix chapter.\n",
    ">\n",
    "> Back to the Notebook. When you see a code cell like this there are two important parts: the code itself, and the output of the cell. You obviously do not need to understand how any of this code works yet, we'll get to that soon. There is a number to the left of this code, this means that the code in the cell has been run. If I run the cell again by clicking ►| Run on the toolbar, or pressing Ctrl-Enter, the number will change. The number shows what order cells have been run in, on its own the number simply means the cell has been run.\n",
    ">\n",
    "> This code cell has no number. Sometimes cells will be left like this so you can guess what the output will be before you run them. Can you guess what the result of 1 + 1 will be? I will run the cell now... if you guessed 2, then well done, you are picking it up already! I can clear the output of a cell and revert it back to the unrunned state by clicking on Cell → Current Outputs → Clear.\n",
    ">\n",
    "> This cell does have a number, but does not show an output. This is normal, some cells do not have outputs. You will learn more about why as we move through the unit.\n",
    ">\n",
    "> Many sections have interactive quizzes that will start when you run a cell that looks like this. Let's give this one a try. When I click run, the quiz begins. I can input my answers here as plain text. I encourage you to complete all of the quizzes. Sometimes when the output of a single cell gets long, the text starts scrolling. You can toggle between scrolling and not by clicking to the left of the output: here.\n",
    ">\n",
    "> Because the quiz is running in this cell, if I try to run another cell nothing will happen. Only one cell can be in the process of running at once. If you want to run some code while the quiz is running, maybe to help you answer a question, you can always go to another notebook – this is the perfect time to use the dummy notebook. Or if you are done with the quiz you can press the stop button ◼️ on the toolbar to stop a cell from running.\n",
    ">\n",
    "> The Notebook has a persistent state, and occasionally things will get a bit wonky, particularly if you run cells further down the page and then run cells further up the page. Generally this shouldn't be a problem. But if it is, just press this restart button ⟳ on the toolbar.\n",
    ">\n",
    "> Finally, there are links in each notebook to other notebooks, and these will often open in a new tab. But opening lots of notebooks at once can cause a problem for Jupyter. So when you are done with a section, click on File → Close and Halt. You can always reopen it again later if you need to."
   ]
  },
  {
   "cell_type": "markdown",
   "metadata": {},
   "source": [
    "Here is a link to the [dummy Notebook](0.2.ipynb). You can experiment with the actions performed in the video. Later you might want to come back to this Notebook to run custom code.\n",
    "\n",
    "When you are ready to start learning to code, head over to the [first section](../Chapter%201/1.1.ipynb)!"
   ]
  }
 ],
 "metadata": {
  "kernelspec": {
   "display_name": "Python 3",
   "language": "python",
   "name": "python3"
  },
  "language_info": {
   "codemirror_mode": {
    "name": "ipython",
    "version": 3
   },
   "file_extension": ".py",
   "mimetype": "text/x-python",
   "name": "python",
   "nbconvert_exporter": "python",
   "pygments_lexer": "ipython3",
   "version": "3.6.1"
  }
 },
 "nbformat": 4,
 "nbformat_minor": 2
}
