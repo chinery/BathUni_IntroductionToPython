{
 "cells": [
  {
   "cell_type": "markdown",
   "metadata": {},
   "source": [
    "## 3.5 – Demonstration Videos\n",
    "### Text Editor + Python Command Line\n",
    "\n",
    "<img src=\"../resources/comingsoon.png\" width=450 align=centre>\n",
    "\n",
    "### PyCharm Debugging\n",
    "\n",
    "<img src=\"../resources/comingsoon.png\" width=450 align=centre>"
   ]
  }
 ],
 "metadata": {
  "kernelspec": {
   "display_name": "Python 3",
   "language": "python",
   "name": "python3"
  },
  "language_info": {
   "codemirror_mode": {
    "name": "ipython",
    "version": 3
   },
   "file_extension": ".py",
   "mimetype": "text/x-python",
   "name": "python",
   "nbconvert_exporter": "python",
   "pygments_lexer": "ipython3",
   "version": "3.7.4"
  }
 },
 "nbformat": 4,
 "nbformat_minor": 2
}
