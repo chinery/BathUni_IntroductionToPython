{
 "cells": [
  {
   "cell_type": "markdown",
   "metadata": {},
   "source": [
    "## 3.5 – Demonstration Videos\n",
    "\n",
    "*Video transcripts are at the bottom of the page.*\n",
    "\n",
    "### Text Editor + Python Command Line\n",
    "<br />\n",
    "<center><video controls width=600 src=\"https://people.bath.ac.uk/akc23/31_python_cmd.mp4\">\n",
    "</video></center>\n",
    "\n",
    "### PyCharm Debugging\n",
    "\n",
    "<img src=\"../resources/comingsoon.png\" width=450 align=centre>\n",
    "\n",
    "### Text Editor + Python Command Line – Transcript\n",
    ">This video will demonstrate how to use a text editor to write python code, and then run it on the command line.\n",
    ">\n",
    ">The window on the left you see here is a text editor called Atom, which you can download for free.\n",
    ">\n",
    ">The window on the right is a command line window. On a Mac, you can get to this by launching the application called Terminal, and most versions of Linux should be similar. On Windows you will find a command line if you search for cmd. In any case you need to make sure Python is installed and set up first, so check instructions for that on the Python website.\n",
    ">\n",
    ">I am going to write the hello world program in Atom. When I save the file you’ll see it recognises we are writing Python code and activates the syntax highlighting, so save early.\n",
    ">\n",
    ">Now in the terminal window, I have already navigated to the correct folder using ‘cd’ to change directory. I will run the file I made earlier by typing python followed by the name of the file. Actually because I am on a Mac I will type python3 to run the latest version of python – unfortunately the Mac has an old version of python built in, and replacing it can break things, so by default it is often set up with the name python3.\n",
    ">\n",
    ">Once I have typed enough letters of my file that there is only one option, I can press tab to complete the rest of the line.\n",
    ">\n",
    ">When I hit return I should see the output of the program: hello world.\n",
    ">\n",
    ">Now I will go back to Atom and write a slightly more complicated program which asks for some input. To save time I’ll use the same file. You will often edit and rerun the same file over and over while you write a program.\n",
    ">\n",
    ">I have finished writing a longer program that keeps adding numbers until the user asks to quit.\n",
    ">\n",
    ">Now I will try to run the code. I can press up on the keyboard to recall the previous line.\n",
    ">\n",
    ">In this case I have forgotten to save the file and the result is still “hello world”. These two processes are separate, so we must remember to save before we try to run the file.\n",
    ">\n",
    ">Now I get an error: I missed a colon on one of my lines. Again, you should get used to going back and forth between these windows fixing errors and bugs!\n",
    ">\n",
    ">Now the code is working properly.\n",
    ">\n",
    ">A great deal of code is only ever written and run on the command line, including code you interact with on a daily basis, like the code that runs most servers. The key part is not the input and output, that is just the framework that allows the interesting code to run. So even if you want to move onto graphical interfaces eventually, you will need to know how to write the complex logic that determines what you actually want your code to do. Using the command line, often with just a few print statements and no input statements, is the easiest way to practice and develop this skill.\n",
    "\n",
    "### PyCharm Debugging – Transcript\n",
    "> Coming soon"
   ]
  }
 ],
 "metadata": {
  "kernelspec": {
   "display_name": "Python 3",
   "language": "python",
   "name": "python3"
  },
  "language_info": {
   "codemirror_mode": {
    "name": "ipython",
    "version": 3
   },
   "file_extension": ".py",
   "mimetype": "text/x-python",
   "name": "python",
   "nbconvert_exporter": "python",
   "pygments_lexer": "ipython3",
   "version": "3.7.4"
  }
 },
 "nbformat": 4,
 "nbformat_minor": 2
}
