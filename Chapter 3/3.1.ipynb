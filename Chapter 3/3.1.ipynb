{
 "cells": [
  {
   "cell_type": "markdown",
   "metadata": {},
   "source": [
    "# Chapter 3 – Programs\n",
    "## 3.1 – Writing and Running Full Programs\n",
    "### The Outside World\n",
    "We have reached an interesting point in the unit. We've covered the basic features of Python, and there are a few more you really need to know before you can go out and start trying to solve real problems. But you might be asking yourself: \n",
    "> *What is this all leading to? Surely I won't be using this website to write all of my code going forward. How do I write and run Python code without writing it in a cell on Jupyter?*\n",
    "\n",
    "Maybe you're not thinking that, and you're happy to keep learning new Python features within the comfort of Jupyter's walls. In that case feel free to head over to [Chapter 4](../Chapter%204/4.1.ipynb) now and then come back to this chapter later.\n",
    "\n",
    "But for those of you still reading, let's talk about the world outside of Jupyter.\n",
    "\n",
    "### Command Line Interfaces (CLI)\n",
    "Back in the early days of computers there was no such thing as a graphical user interface (GUI). \n",
    "\n",
    "Modern interfaces look like this:\n",
    "\n",
    "<img src=\"./resources/macbook.jpg\" width=500 />\n",
    "\n",
    "But old computer interfaces looked like this:\n",
    "\n",
    "<img src=\"./resources/bbcmicro.gif\" width=400 />\n",
    "\n",
    "Sometimes the monitors were a bit more green.\n",
    "\n",
    "Running a program on these computers meant typing its name followed by any options or arguments. These command line interfaces still exist on modern systems and can actually still be used to operate most of your machine. On Windows you can open the command prompt which uses a DOS-like interface, on Mac or Linux you can open a terminal window which will be a UNIX interface. This Jupyter notebook is running on a UNIX system, and we can run UNIX commands in a code cell by using an exclamation mark `!`.\n",
    "\n",
    "This isn't a course about UNIX (or DOS) so we will not dwell on details. Here is one example of a command you can use in UNIX: `ls` (short for list) will display all of the files in the current working directory (i.e. the current folder). Run the cells below to see what happens (I haven't run these cells for you already because the results change over time as the files change – run them yourself to see the latest)."
   ]
  },
  {
   "cell_type": "code",
   "execution_count": null,
   "metadata": {},
   "outputs": [],
   "source": [
    "!ls"
   ]
  },
  {
   "cell_type": "markdown",
   "metadata": {},
   "source": [
    "This folder contains a bunch of notebooks (with `.ipynb` extensions) and some folders storing extra files. We can show the contents of other folders by including the directory we want to list. `../` means go up one folder, so `!ls ../` will show the contents of the root folder of this Notebook."
   ]
  },
  {
   "cell_type": "code",
   "execution_count": null,
   "metadata": {},
   "outputs": [],
   "source": [
    "!ls ../"
   ]
  },
  {
   "cell_type": "markdown",
   "metadata": {},
   "source": [
    "The `ls` command can take a number of additional options as well:\n",
    "* `-l` will show a long format (more details)\n",
    "* `-a` shows hidden files (those that start with `.`)\n",
    "* `-R` will recursively show contents of folders\n",
    "* and there are many more\n",
    "\n",
    "So we can write the following command to see long details about all of the files in this folder and subfolders:"
   ]
  },
  {
   "cell_type": "code",
   "execution_count": null,
   "metadata": {
    "scrolled": false
   },
   "outputs": [],
   "source": [
    "!ls -l -R"
   ]
  },
  {
   "cell_type": "markdown",
   "metadata": {},
   "source": [
    "So to recap: the application's name is `ls`, and it takes many possible *arguments* (just like functions), including a directory path such as `../`, or various options like `-a` or `-R`. The application outputs its results to the screen, and if you were running it on a command line interface, you would then be able to type the next command or application you want to run.\n",
    "\n",
    "Other applications are more interactive. They go between outputting text to the screen and waiting for the user to type something directly into the application. One example of this type of application is the randomly generated quizzes you have been answering each section. You have to stop the program before you can run anything else. With a command line interface this is more obvious because it takes over the screen: there is no command line *prompt* (the bit that looks like >_ in the CLI image above) to start running new applications from.\n",
    "\n",
    "Like I said, we won't dwell on the details. The reason we are talking about command line interfaces is because when we write our first full programs they will almost certainly fall into this format. Learning how to write programs that have *graphical* user interfaces is not covered in this unit, but is something you can pick up once you are comfortable writing basic Python. There are really only two ways to write a command line app: you either display your results and quit (like `ls`), or you interactively take input from the user (like the quizzes). There are many ways to write applications with GUIs, and they normally involve using external frameworks and libraries. While we do not go into using GUIs specifically we will touch on using external libraries in a later chapter.\n",
    "\n",
    "In the next section you will build your first full Python command line application. But first, let's talk about how these applications come to be.\n",
    "\n",
    "### Building Applications\n",
    "Code exists in two forms. All applications have some form of **source code**, which is what you have been learning how to write. This is the form used during development, it is readable and editable, and will work on many platforms: different operating systems (Windows, macOS, Linux), even different hardware. However, processors (the part of your computer which interprets and executes instructions on data) are not written to support programming languages like Python. They support very *low-level* instructions that are called **machine code**. The reason that Python can run on an Intel CPU in Windows or an ARM CPU in iOS is because someone has written some code which **translates** from the *source code* (Python) to the *machine code* (processor-specific).\n",
    "\n",
    "Ultimately, code *must* be translated into machine code at some point if you want to run it. But the way this happens normally falls into one of two broad categories:\n",
    "* The source code might be **compiled** into another file. This new file will contain a mix of machine code (processor-specific) and instructions that are specific to your operating system. This file can then be executed to run the code. If you send the *compiled* file to someone with the same operating system, they will also be able to run it. They will not be able to edit the file in the same way you can edit source code.\n",
    "* Alternatively, the source code can be **interpreted** on-the-fly. The *interpreter* will work through the code line by line, translating and then immediately executing the code. In this case, the source code *is* the application. If you send it to someone else they can only run it if they have a compatible interpreter. They could also go in and edit the code to behave differently, if they wished.\n",
    "\n",
    "Some languages fall into a weird middle-ground, but this pattern more of less holds for any source code: it is either compiled into a separate file which is run, or the code itself is interpreted.\n",
    "\n",
    "The application `ls` that we ran before has already been *compiled*. We cannot edit its source code directly from the application that we run.\n",
    "\n",
    "Python code is normally in the second category. When you run code on a Jupyter Notebook the lines are being *interpreted* on-the-fly. There are ways to compile Python code as well, but this is beyond the scope of this unit.\n",
    "\n",
    "### Building Python Applications\n",
    "So writing an application in Python is really as simple as putting a bunch of source code in one or more text files. Python source files are just plain text. We usually use the file extension `.py` to indicate a file is Python code.\n",
    "\n",
    "If you don't already, now would be a good time to go and find a good text editor designed for writing code. Each operating system has built in text editors, but they are generally not up to the task of writing code. I recommend a text editor called [Atom](https://atom.io/) which is free and open source. Code specific text editors have useful features that make coding easier such as the *syntax highlighting* you see on Jupyter. However you normally need to compile or interpret the code in a separate tool – normally the command line.\n",
    "\n",
    "You can also use more powerful tools called *integrated development environments* or IDEs. These are often focused on one programming language and include the compiler or interpreter built-in, so you might be able to click a `run` button within the application, and it will interpret or compile and run the code in one click. It might show you some extra information like errors or warnings in your code before you click run, and it can help suggest what you might be trying to type as you type it. IDEs are more complicated so can be harder to learn, but can offer a lot of useful features when writing code. I use [PyCharm Community Edition](https://www.jetbrains.com/pycharm/download/) to write most of my Python code.\n",
    "\n",
    "Once we have a Python source code file, and assuming Python is installed, we can run (interpret) the code by using the command line application called `python`. This is actually the same as the *magic command* `%run` that you will see in many code cells in these Notebooks.\n",
    "\n",
    "I have written a Python program called \"hello world\", this is one of the most famous first programs that people are often taught to write, all it does is show the phrase \"Hello world!\" on the display. You can run it by running the next code cell:"
   ]
  },
  {
   "cell_type": "code",
   "execution_count": null,
   "metadata": {},
   "outputs": [],
   "source": [
    "!python ./resources/hello_world.py"
   ]
  },
  {
   "cell_type": "markdown",
   "metadata": {},
   "source": [
    "We will look at how this application is written, and some more complicated programs, in the [next section](3.2.ipynb)."
   ]
  }
 ],
 "metadata": {
  "kernelspec": {
   "display_name": "Python 3",
   "language": "python",
   "name": "python3"
  },
  "language_info": {
   "codemirror_mode": {
    "name": "ipython",
    "version": 3
   },
   "file_extension": ".py",
   "mimetype": "text/x-python",
   "name": "python",
   "nbconvert_exporter": "python",
   "pygments_lexer": "ipython3",
   "version": "3.7.4"
  }
 },
 "nbformat": 4,
 "nbformat_minor": 2
}
