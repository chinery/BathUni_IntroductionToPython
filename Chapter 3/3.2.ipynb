{
 "cells": [
  {
   "cell_type": "markdown",
   "metadata": {},
   "source": [
    "## 3.2 – Input and Output\n",
    "### Python Applications\n",
    "We are going to write our first full Python application, and to keep with tradition (albeit three chapters into the unit) we're going to write a program that just displays the text “Hello world!”. We already know how to make a Jupyter cell that does this:"
   ]
  },
  {
   "cell_type": "code",
   "execution_count": 1,
   "metadata": {},
   "outputs": [
    {
     "data": {
      "text/plain": [
       "'Hello world!'"
      ]
     },
     "execution_count": 1,
     "metadata": {},
     "output_type": "execute_result"
    }
   ],
   "source": [
    "\"Hello world!\""
   ]
  },
  {
   "cell_type": "markdown",
   "metadata": {},
   "source": [
    "At the risk of sounding repetitive, when we run a Jupyter cell it *executes* the statements. If the last line of a cell is an expression then it is *evaluated*. A single string on its own is an expression, and evaluating it *returns* the string itself. This is important: when we write an assignment, for example, Python will *evaluate* everything to the right of the `=` symbol, and assign it to the name on the left. So `message = \"Hello world!'` works, as does `message = \"Hello \" + \"world!\"`.\n",
    "\n",
    "I have written a file called `hello_string.py` which only contains a single line, which is the string you see above. I will display its contents using a UNIX tool called `cat`, which will show the file's entire contents below the code cell:"
   ]
  },
  {
   "cell_type": "code",
   "execution_count": 2,
   "metadata": {},
   "outputs": [
    {
     "name": "stdout",
     "output_type": "stream",
     "text": [
      "\"Hello world!\"\r\n"
     ]
    }
   ],
   "source": [
    "!cat ./resources/hello_string.py"
   ]
  },
  {
   "cell_type": "markdown",
   "metadata": {},
   "source": [
    "(You can use the File menu at the top of the screen if you want to open the file manually to check.)\n",
    "\n",
    "Let's see what happens when I run this Python program:"
   ]
  },
  {
   "cell_type": "code",
   "execution_count": 3,
   "metadata": {},
   "outputs": [],
   "source": [
    "!python ./resources/hello_string.py"
   ]
  },
  {
   "cell_type": "markdown",
   "metadata": {},
   "source": [
    "Notice the cell above has run correctly (it has a number in square bracket), but nothing is shown.\n",
    "\n",
    "Now I am going to run the code I ran at the end of the last section:"
   ]
  },
  {
   "cell_type": "code",
   "execution_count": 4,
   "metadata": {},
   "outputs": [
    {
     "name": "stdout",
     "output_type": "stream",
     "text": [
      "Hello world!\r\n"
     ]
    }
   ],
   "source": [
    "!python ./resources/hello_world.py"
   ]
  },
  {
   "cell_type": "markdown",
   "metadata": {},
   "source": [
    "Can you see the difference between this “Hello world!” and the one after the code cell at the top of the page, which just contained the string? On this version:\n",
    "1. There is no label that says `Out[x]`\n",
    "2. There are no string quote marks around `Hello world!`\n",
    "\n",
    "There is a difference between the *return value* of an *expression* and the *output* of a *program*. Jupyter shows us return values because it is a tool for interacting with code. (Confusingly it labels them as “output”, but Jupyter cells are not typically used to run entire programs.) If you are writing an application and you want to display text on the screen, you have to use a **print statement**."
   ]
  },
  {
   "cell_type": "markdown",
   "metadata": {},
   "source": [
    "### Print Statements\n",
    "Print statements are a feature in almost every programming language. In Python there is an inbuilt function, technically a *procedure*, which displays content to the screen, and it is simply called `print`. Now I will display the contents of the file `hello_world.py`:"
   ]
  },
  {
   "cell_type": "code",
   "execution_count": 5,
   "metadata": {},
   "outputs": [
    {
     "name": "stdout",
     "output_type": "stream",
     "text": [
      "print(\"Hello world!\")\r\n"
     ]
    }
   ],
   "source": [
    "!cat ./resources/hello_world.py"
   ]
  },
  {
   "cell_type": "markdown",
   "metadata": {},
   "source": [
    "So the file that contains *just* the string `\"Hello world!\"` does nothing when run, but the file that says `print(\"Hello world!\")` actually outputs something.\n",
    "\n",
    "The procedure `print` takes a string as an argument and then displays this string. We say it prints the string to the *standard output*. Depending on how you run the program will determine what this actually means. If you run the program on Jupyter the standrard output will appear below the cell. If you run it in a regular terminal window on your operating system, it will display in the terminal.\n",
    "\n",
    "<img src=\"./resources/terminal_hw.png\" width=450 />\n",
    "\n",
    "So we can use print statements inside Jupyter code cells to show output instead of, or as well as, outputting a value by including an expression on the final line."
   ]
  },
  {
   "cell_type": "code",
   "execution_count": 6,
   "metadata": {},
   "outputs": [
    {
     "name": "stdout",
     "output_type": "stream",
     "text": [
      "This string is printed\n"
     ]
    },
    {
     "data": {
      "text/plain": [
       "'This string is returned'"
      ]
     },
     "execution_count": 6,
     "metadata": {},
     "output_type": "execute_result"
    }
   ],
   "source": [
    "print(\"This string is printed\")\n",
    "\"This string is returned\""
   ]
  },
  {
   "cell_type": "markdown",
   "metadata": {},
   "source": [
    "Now you can write the kind of application which prints out its output, like `ls`, and you can run it in the terminal with the Python interpreter. This *is* a real application, we just need to tell the computer how to run it. It's possible to bundle code up into the kinds of applications you are used to running (like `.exe` files on Windows or `.app` files on macOS) but you can learn how to do this once you have a fully finished fully polished application that you need to send to a non-programmer.\n",
    "\n",
    "### Input\n",
    "What about the other type of application which asks the user for input? For this we can use the function `input`. It's used like this:\n",
    "```python\n",
    "text = input(\"> \")\n",
    "```\n",
    "\n",
    "When the code calls the function `input`, the execution will wait until the user types something. It will only continue when the user hits the return key. The text that they type will be *returned* from the function. \n",
    "\n",
    "The string that is passed as an argument is printed to the screen before the user starts typing. This is called a *prompt* and can be used to signal to the user that the program is requesting input. Most prompts use symbols like `>` or `$`, but you do not have to. You could write an entire sentence:\n",
    "```python\n",
    "text = input(\"Please enter a string: \")\n",
    "```\n",
    "or even call `input` with no arguments:\n",
    "```python\n",
    "text = input()\n",
    "```\n",
    "\n",
    "When we run the `input` function in Jupyter we get a text box inside the output area that makes it clear we are asking for input. This makes the prompt string less necessary. But if you run the code on the terminal and you leave the prompt out entirely, the user might not notice that the program is expecting them to type.\n",
    "\n",
    "Play around with the code below to see what you can do with inputs."
   ]
  },
  {
   "cell_type": "code",
   "execution_count": 7,
   "metadata": {},
   "outputs": [
    {
     "name": "stdout",
     "output_type": "stream",
     "text": [
      "> hello\n",
      "You typed: hello\n"
     ]
    }
   ],
   "source": [
    "text = input(\"> \")\n",
    "print(\"You typed: \" + text)"
   ]
  },
  {
   "cell_type": "markdown",
   "metadata": {},
   "source": [
    "Can you guess what the return type of the `input` function is from the way the above code works? We haven't done one of these in a while! Guess what the cell below will output and then try it with various inputs."
   ]
  },
  {
   "cell_type": "code",
   "execution_count": null,
   "metadata": {},
   "outputs": [],
   "source": [
    "text = input(\"> \")\n",
    "type(text)"
   ]
  },
  {
   "cell_type": "markdown",
   "metadata": {},
   "source": [
    "So, with this knowledge, what do you think is wrong with the following code? \n",
    "\n",
    "If you're not sure, run it and find out.\n",
    "\n",
    "Once you've worked it out, try to fix the code so it works as it looks like it should."
   ]
  },
  {
   "cell_type": "code",
   "execution_count": null,
   "metadata": {},
   "outputs": [],
   "source": [
    "num1 = input(\"Please enter a number: \")\n",
    "num2 = input(\"Please enter another number: \")\n",
    "num1 + num2"
   ]
  },
  {
   "cell_type": "markdown",
   "metadata": {},
   "source": [
    "### Looping Applications\n",
    "It is common for an application to repeatedly ask the user for input until they type some special command that ends the program. How can we achieve this? This is a type of iteration, and we do not know how many times they will want to repeat. So a while loop is the obvious choice."
   ]
  },
  {
   "cell_type": "code",
   "execution_count": 8,
   "metadata": {},
   "outputs": [
    {
     "name": "stdout",
     "output_type": "stream",
     "text": [
      "This program will loop until you type quit\n",
      "> oh?\n",
      "That input is not the word quit\n",
      "> huh\n",
      "That input is not the word quit\n",
      "> quit\n",
      "Goodbye.\n"
     ]
    }
   ],
   "source": [
    "print(\"This program will loop until you type quit\")\n",
    "text = input(\"> \")\n",
    "\n",
    "while text != \"quit\":\n",
    "    print(\"That input is not the word quit\")\n",
    "    text = input(\"> \")\n",
    "    \n",
    "print(\"Goodbye.\")"
   ]
  },
  {
   "cell_type": "markdown",
   "metadata": {},
   "source": [
    "If you copy that code into a text file, save it as a file with the extension `.py`, and then type `python <file>.py` into your terminal, then you will have a pretty simple example of an interactive application.\n",
    "\n",
    "This code has absolutely *no structure*. Apart from the while loop, it just runs from the first line to the last – it is not split into separate functions. People often call this kind of code a *script* rather than a full program. The reason we learned about functions first was because we normally use them to structure our code – big applications are far too complicated to write in a single script. You may not feel ready to write your own large applications yet, but you have to start somewhere. We will cover some of the fundamental principles about how to structure code, along with some important pitfalls to avoid, [in the next section](3.3.ipynb)."
   ]
  }
 ],
 "metadata": {
  "kernelspec": {
   "display_name": "Python 3",
   "language": "python",
   "name": "python3"
  },
  "language_info": {
   "codemirror_mode": {
    "name": "ipython",
    "version": 3
   },
   "file_extension": ".py",
   "mimetype": "text/x-python",
   "name": "python",
   "nbconvert_exporter": "python",
   "pygments_lexer": "ipython3",
   "version": "3.7.4"
  }
 },
 "nbformat": 4,
 "nbformat_minor": 2
}
