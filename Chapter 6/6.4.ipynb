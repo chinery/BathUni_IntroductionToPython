{
 "cells": [
  {
   "cell_type": "markdown",
   "metadata": {},
   "source": [
    "## 6.4 – Functional Programming Concepts\n",
    "### Functional Programming\n",
    "We have taken a short surface-level journey through the history of programming paradigms, in a *very* loose chronological order of when they were invented or popular. First we have *scripts*, code with little structure at all. Then we have *procedural programming*, where *data structures* are used and passed between *procedures* to manipulate them. Then we talked about *object-oriented programming*, where *data* and *functionality* are combined into *objects*.\n",
    "\n",
    "**Functional programming** is somewhat tangential to the other paradigms. It has been around a long time, as long as the early procedural languages. In fact, you might argue that functional programming has grown along an entirely separate, parallel branch of computer science. Algorithms today are normally designed around a certain sequential manipulation of data that was formally defined by the [Turing machine](https://en.wikipedia.org/wiki/Turing_machine). The Turing machine itself was invented by Alan Turing to solve [a mathematical problem](https://en.wikipedia.org/wiki/Entscheidungsproblem), but he was actually beaten to this goal by a few months by Alonzo Church, who used his own description of an algorithm: [the lambda calculus](https://en.wikipedia.org/wiki/Lambda_calculus). The lambda calculus is the origin of functional programming.\n",
    "\n",
    "It has a long history as a somewhat “alternative” to other programming paradigms. But functional programming concepts are increasingly becoming popular in non-functional languages, like Python.\n",
    "\n",
    "### Functions as Computation\n",
    "We are already familiar with the concept of functions. Do you remember the difference between a function and a procedure? A function always returns a value, and procedure does not. If a procedure does not return a value, that means it must be able to *do something else*. It might change the value of some object that is passed in, or it might interact with the “outside world” somehow: it might print something to the screen, connect to the Internet, or turn on your printer. All of the things a procedure can do that *aren't* returning a value are called **side-effects**.\n",
    "\n",
    "Functional programming is concerned with **pure functions**. Functions that do not have side-effects, and are also not influenced by the external state in any way: the function always behaves the same way for a given input.\n",
    "\n",
    "The interesting thing, and the connection with the lambda calculus, is that it is possible to write any Turing-complete program (algorithm) by using only pure functions and recursion. Literally! A programming language does not need to provide any other features: numbers, if statements, equality tests... none of it. Just functions, and the ability to apply functions to other functions.\n",
    "\n",
    "Functional languages are not *this* stark. They do provide the nice features we expect. Good functional code uses a lot of lists, function application, and recursion (specifically tail recursion: a concept not found in Python but is interesting to read up on).\n",
    "\n",
    "That's all well and good, but let's look at what this really means for Python development.\n",
    "\n",
    "### “Functional” Python\n",
    "#### Functions as Variables\n",
    "Here is something fun..."
   ]
  },
  {
   "cell_type": "code",
   "execution_count": 1,
   "metadata": {},
   "outputs": [
    {
     "data": {
      "text/plain": [
       "3"
      ]
     },
     "execution_count": 1,
     "metadata": {},
     "output_type": "execute_result"
    }
   ],
   "source": [
    "my_fun = len\n",
    "my_fun([0, 1, 2])"
   ]
  },
  {
   "cell_type": "markdown",
   "metadata": {},
   "source": [
    "How about that? A small number of you may have discovered something like this in the past, and are wondering what the big deal is. Everyone else: you may pick up your jaw off the ground.\n",
    "\n",
    "Yes, it is possible to assign functions to variables, and then those variables act like functions. In Python, functions are objects too. When you `def` a function, you give it a name, but you can also assign it to another one. Both names then point at the same function object.\n",
    "\n",
    "Functions can be added to data structures, like lists or dictionaries:"
   ]
  },
  {
   "cell_type": "code",
   "execution_count": 8,
   "metadata": {},
   "outputs": [
    {
     "name": "stdout",
     "output_type": "stream",
     "text": [
      "9\n",
      "10\n",
      "10\n"
     ]
    }
   ],
   "source": [
    "def round_down(num):\n",
    "    return int(num // 1)\n",
    "\n",
    "def round_up(num):\n",
    "    if num == round_down(num):\n",
    "        return round_down(num)\n",
    "    else:\n",
    "        return round_down(num) + 1\n",
    "\n",
    "# This dictionary contains three function objects\n",
    "three_rounds = [round_down, round_up, round]\n",
    "\n",
    "x = 9.5\n",
    "for f in three_rounds:\n",
    "    print(f(x))"
   ]
  },
  {
   "cell_type": "markdown",
   "metadata": {},
   "source": [
    "#### Functions as Arguments\n",
    "Functions can also be passed as arguments into other functions. This is where stuff starts looking really *functional*."
   ]
  },
  {
   "cell_type": "code",
   "execution_count": 11,
   "metadata": {},
   "outputs": [
    {
     "name": "stdout",
     "output_type": "stream",
     "text": [
      "[1, 4, 9, 16, 25]\n"
     ]
    }
   ],
   "source": [
    "def apply_to_list(function, in_list):\n",
    "    out_list = []\n",
    "    for item in in_list:\n",
    "        out_list.append(function(item))\n",
    "    return out_list\n",
    "\n",
    "def square(x):\n",
    "    return x**2\n",
    "\n",
    "my_list = [1, 2, 3, 4, 5]\n",
    "\n",
    "print(apply_to_list(square, my_list))"
   ]
  },
  {
   "cell_type": "markdown",
   "metadata": {},
   "source": [
    "The function above `apply_to_list` takes a function and a list then returns the list generated by applying the function to each element of that list. This is a very common thing to want to do in a functional language, and the function has a special name: `map`. \n",
    "\n",
    "Python has a `map` function builtin. It returns a generator-like object, like the function `range` – we saw this behaviour before in [Section 4.3](..Chapter%204/4.3.ipynb#Dictionary-Comprehensions)."
   ]
  },
  {
   "cell_type": "code",
   "execution_count": 14,
   "metadata": {},
   "outputs": [
    {
     "data": {
      "text/plain": [
       "<map at 0x10e799e10>"
      ]
     },
     "execution_count": 14,
     "metadata": {},
     "output_type": "execute_result"
    }
   ],
   "source": [
    "map(square, my_list)"
   ]
  },
  {
   "cell_type": "markdown",
   "metadata": {},
   "source": [
    "We can inspect the values of the `map` object using a normal for-each loop:"
   ]
  },
  {
   "cell_type": "code",
   "execution_count": 10,
   "metadata": {},
   "outputs": [
    {
     "name": "stdout",
     "output_type": "stream",
     "text": [
      "1\n",
      "2\n",
      "3\n",
      "4\n",
      "5\n"
     ]
    }
   ],
   "source": [
    "for item in map(square, my_list):\n",
    "    print(item)"
   ]
  },
  {
   "cell_type": "markdown",
   "metadata": {},
   "source": [
    "Again the way the map works allows it to use *lazy evaluation*. The function is not actually called on the list elements until it is needed. We can demonstrate this if we introduce some side-effects into the function:"
   ]
  },
  {
   "cell_type": "code",
   "execution_count": 16,
   "metadata": {},
   "outputs": [
    {
     "data": {
      "text/plain": [
       "<map at 0x10ebc52b0>"
      ]
     },
     "execution_count": 16,
     "metadata": {},
     "output_type": "execute_result"
    }
   ],
   "source": [
    "def square(x):\n",
    "    print(f\"Okay, I will square {x}!\")\n",
    "    return x**2\n",
    "\n",
    "my_map = map(square, [1, 2, 3, 4, 5])\n",
    "my_map"
   ]
  },
  {
   "cell_type": "markdown",
   "metadata": {},
   "source": [
    "The code above has created the map object, but has not actually run the function on the lists elements. If it had, we would have seen a bunch of print statements.\n",
    "\n",
    "Let's try inspecting the values of the map object again. Now the function will actually be called, one element at a time, so we can use the result in our for-each loop:"
   ]
  },
  {
   "cell_type": "code",
   "execution_count": 17,
   "metadata": {},
   "outputs": [
    {
     "name": "stdout",
     "output_type": "stream",
     "text": [
      "Okay, I will square 1!\n",
      "1\n",
      "Okay, I will square 2!\n",
      "4\n",
      "Okay, I will square 3!\n",
      "9\n",
      "Okay, I will square 4!\n",
      "16\n",
      "Okay, I will square 5!\n",
      "25\n"
     ]
    }
   ],
   "source": [
    "for item in my_map:\n",
    "    print(item)"
   ]
  },
  {
   "cell_type": "markdown",
   "metadata": {},
   "source": [
    "It's worth pointing out here that we should not forget *list comprehensions* (also covered in [Section 4.3](../Chapter%204/4.3.ipynb)). In this specific situation we would probably actually be better off writing:"
   ]
  },
  {
   "cell_type": "code",
   "execution_count": 18,
   "metadata": {},
   "outputs": [
    {
     "data": {
      "text/plain": [
       "[1, 4, 9, 16, 25]"
      ]
     },
     "execution_count": 18,
     "metadata": {},
     "output_type": "execute_result"
    }
   ],
   "source": [
    "my_list = [1, 2, 3, 4, 5]\n",
    "squares = [x**2 for x in my_list]\n",
    "squares"
   ]
  },
  {
   "cell_type": "markdown",
   "metadata": {},
   "source": [
    "#### Functions as Return Values\n",
    "We can define functions inside functions, and we can return those functions from the outer functions!\n",
    "\n",
    "You can think of this as writing a function that *generates functions*:"
   ]
  },
  {
   "cell_type": "code",
   "execution_count": 22,
   "metadata": {},
   "outputs": [
    {
     "data": {
      "text/plain": [
       "7"
      ]
     },
     "execution_count": 22,
     "metadata": {},
     "output_type": "execute_result"
    }
   ],
   "source": [
    "def adder(x):\n",
    "    def add_x(num):\n",
    "        return num + x\n",
    "    return add_x\n",
    "\n",
    "add_2 = adder(2)\n",
    "add_2(5)"
   ]
  },
  {
   "cell_type": "markdown",
   "metadata": {},
   "source": [
    "As with most syntax in Python, we can also chain this to do both things at once:"
   ]
  },
  {
   "cell_type": "code",
   "execution_count": 23,
   "metadata": {},
   "outputs": [
    {
     "data": {
      "text/plain": [
       "15"
      ]
     },
     "execution_count": 23,
     "metadata": {},
     "output_type": "execute_result"
    }
   ],
   "source": [
    "result = adder(5)(10)\n",
    "result"
   ]
  },
  {
   "cell_type": "markdown",
   "metadata": {},
   "source": [
    "Although this is unlikely to be the intended use of anyone writing the original function. If it were, they could create a function that accepted two parameters.\n",
    "\n",
    "Here is another example. Suppose we wanted to supply a function that converted from GBP to USD. We want to always use the most up-to-date value for the currency conversion rate when the function is created – maybe we use some kind of online API to find out that value. But from then on the conversion rate will not change (unless the user generates the function again)."
   ]
  },
  {
   "cell_type": "code",
   "execution_count": 30,
   "metadata": {},
   "outputs": [
    {
     "name": "stdout",
     "output_type": "stream",
     "text": [
      "£100 is $125.0\n"
     ]
    }
   ],
   "source": [
    "# this function fills-in for an API call\n",
    "def get_rate():\n",
    "    return 1.25\n",
    "\n",
    "def get_gbp_usd_function():\n",
    "    gbp_to_usd = get_rate()\n",
    "    def convert(num):\n",
    "        return num * gbp_to_usd\n",
    "    return convert\n",
    "    \n",
    "convert_gbp_usd = get_gbp_usd_function()\n",
    "pounds = 100\n",
    "dollars = convert_gbp_usd(pounds)\n",
    "print(f\"£{pounds} is ${dollars}\")"
   ]
  },
  {
   "cell_type": "markdown",
   "metadata": {},
   "source": [
    "The *inner function* in this case looks like it is called `convert`, but we cannot actually access that function outside of the *scope* of the *outer function* `get_gbp_usd_function`.\n",
    "\n",
    "#### Lambda Expression\n",
    "In this situation, we do not even need to give the inner function a name. We can use a **lambda expression**. This is a simple one line method for creating an **anonymous function**, one which has no name attached. Here is a simple example:"
   ]
  },
  {
   "cell_type": "code",
   "execution_count": 32,
   "metadata": {},
   "outputs": [
    {
     "data": {
      "text/plain": [
       "50"
      ]
     },
     "execution_count": 32,
     "metadata": {},
     "output_type": "execute_result"
    }
   ],
   "source": [
    "multiply = lambda x, y: x * y\n",
    "multiply(5, 10)"
   ]
  },
  {
   "cell_type": "markdown",
   "metadata": {},
   "source": [
    "The syntax for the lambda expression is the word `lambda`, followed by the parameters, followed by a colon `:`, followed by the value to return.\n",
    "\n",
    "You should not normally assign a lambda expression to a variable. If we are going to give the function a name, we should just write a `def`. But we can use the syntax to tidy up our previous mapping operation:"
   ]
  },
  {
   "cell_type": "code",
   "execution_count": 33,
   "metadata": {},
   "outputs": [
    {
     "name": "stdout",
     "output_type": "stream",
     "text": [
      "1\n",
      "4\n",
      "9\n",
      "16\n",
      "25\n"
     ]
    }
   ],
   "source": [
    "my_map = map(lambda x: x**2, [1, 2, 3, 4, 5])\n",
    "\n",
    "for item in my_map:\n",
    "    print(item)"
   ]
  },
  {
   "cell_type": "markdown",
   "metadata": {},
   "source": [
    "Though this is still not as elegant as using a list comprehension in this specific example.\n",
    "\n",
    "The lambda expression *does* however improve our currency conversion example:"
   ]
  },
  {
   "cell_type": "code",
   "execution_count": 31,
   "metadata": {},
   "outputs": [
    {
     "name": "stdout",
     "output_type": "stream",
     "text": [
      "£100 is $125.0\n"
     ]
    }
   ],
   "source": [
    "# this function fills-in for an API call\n",
    "def get_rate():\n",
    "    return 1.25\n",
    "\n",
    "def get_gbp_usd_function():\n",
    "    gbp_to_usd = get_rate()\n",
    "    return lambda x: x * gbp_to_usd\n",
    "    \n",
    "convert_gbp_usd = get_gbp_usd_function()\n",
    "pounds = 100\n",
    "dollars = convert_gbp_usd(pounds)\n",
    "print(f\"£{pounds} is ${dollars}\")"
   ]
  },
  {
   "cell_type": "markdown",
   "metadata": {},
   "source": [
    "#### Lambdas as Arguments\n",
    "We showed above that we could use a lambda expression as an argument for a `map`. It's a very direct application of the lambda expression, and in most cases a list comprehension would be better.\n",
    "\n",
    "Some other builtin functions also take functions as parameters where a lambda expression is perfect.\n",
    "\n",
    "Consider the `max` function. When we get a maximum value from a list of numbers, we pretty much know what to expect. But not all objects can be compared so obviously.\n",
    "\n",
    "Suppose we are writing a program which models the final grades of a set of students. Each student has a name and a dictionary which maps from subjects to grades. In the code below I've written the class, followed by some code which generates some objects and puts them in a list."
   ]
  },
  {
   "cell_type": "code",
   "execution_count": 65,
   "metadata": {},
   "outputs": [],
   "source": [
    "class Student:\n",
    "    def __init__(self, name = \"\", grades = {}):\n",
    "        self.name = name\n",
    "        self.grades = grades\n",
    "        \n",
    "students = []\n",
    "students.append(Student(\"Riley\", {\"english\": 30, \"maths\": 58, \"computer science\": 34, \"history\": 6}))\n",
    "students.append(Student(\"Mason\", {\"english\": 51, \"maths\": 50, \"computer science\": 65, \"history\": 87}))\n",
    "students.append(Student(\"Lindsay\", {\"english\": 6, \"maths\": 5, \"computer science\": 4, \"history\": 44}))\n",
    "students.append(Student(\"Logan\", {\"english\": 98, \"maths\": 21, \"computer science\": 85, \"history\": 33}))\n",
    "students.append(Student(\"Ashley\", {\"english\": 69, \"maths\": 68, \"computer science\": 92, \"history\": 82}))"
   ]
  },
  {
   "cell_type": "markdown",
   "metadata": {},
   "source": [
    "Now if we query this list to find the maximum element, what should the correct result be?"
   ]
  },
  {
   "cell_type": "code",
   "execution_count": 68,
   "metadata": {},
   "outputs": [
    {
     "ename": "TypeError",
     "evalue": "'>' not supported between instances of 'Student' and 'Student'",
     "output_type": "error",
     "traceback": [
      "\u001b[0;31m---------------------------------------------------------------------------\u001b[0m",
      "\u001b[0;31mTypeError\u001b[0m                                 Traceback (most recent call last)",
      "\u001b[0;32m<ipython-input-68-cafb6c518666>\u001b[0m in \u001b[0;36m<module>\u001b[0;34m\u001b[0m\n\u001b[0;32m----> 1\u001b[0;31m \u001b[0mmax\u001b[0m\u001b[0;34m(\u001b[0m\u001b[0mstudents\u001b[0m\u001b[0;34m)\u001b[0m\u001b[0;34m\u001b[0m\u001b[0m\n\u001b[0m",
      "\u001b[0;31mTypeError\u001b[0m: '>' not supported between instances of 'Student' and 'Student'"
     ]
    }
   ],
   "source": [
    "max(students)"
   ]
  },
  {
   "cell_type": "markdown",
   "metadata": {},
   "source": [
    "In fact, we cannot, because the `Student` class does not allow us to make comparisons. We can write our own `__lt__` (less than) and `__gt__` (greater than) methods, and then `max` would return the object which gave the maximum result by this definition of `x > y`. However this isn't what we're really looking for either. We might want to find the student that has the maximum English mark, or the maximum history mark.\n",
    "\n",
    "Maximum has an optional named parameter called `key`:"
   ]
  },
  {
   "cell_type": "code",
   "execution_count": 70,
   "metadata": {},
   "outputs": [
    {
     "name": "stdout",
     "output_type": "stream",
     "text": [
      "Help on built-in function max in module builtins:\n",
      "\n",
      "max(...)\n",
      "    max(iterable, *[, default=obj, key=func]) -> value\n",
      "    max(arg1, arg2, *args, *[, key=func]) -> value\n",
      "    \n",
      "    With a single iterable argument, return its biggest item. The\n",
      "    default keyword-only argument specifies an object to return if\n",
      "    the provided iterable is empty.\n",
      "    With two or more arguments, return the largest argument.\n",
      "\n"
     ]
    }
   ],
   "source": [
    "help(max)"
   ]
  },
  {
   "cell_type": "markdown",
   "metadata": {},
   "source": [
    "We can write a lambda expression to tell the `max` function how it should interpret each object in the list. It will run the function on each object, and then use the result to perform the comparison. So, if we want to know the student with the highest computer science mark, we can write a function which finds the right key in the dictionary:"
   ]
  },
  {
   "cell_type": "code",
   "execution_count": 72,
   "metadata": {},
   "outputs": [
    {
     "name": "stdout",
     "output_type": "stream",
     "text": [
      "The best student is Ashley with a CS grade of 92\n"
     ]
    }
   ],
   "source": [
    "best_student = max(students, key = lambda s: s.grades[\"computer science\"])\n",
    "print(f\"The best student is {best_student.name} with a CS grade of {best_student.grades['computer science']}\")"
   ]
  },
  {
   "cell_type": "markdown",
   "metadata": {},
   "source": [
    "Try modifying the code above to use a lambda expression to find the student who has the highest combined mark across all their grades. Can you make your code work even if new subjects were later added to the dictionary?\n",
    "\n",
    "### What's Next\n",
    "We've only scratched the surface of functional programming, even limiting ourselves to its applications in Python. If you really want to get into it, go and look up some tutorials for a functional language like Haskell, there is even one embedded on the [Haskell website](https://www.haskell.org/).\n",
    "\n",
    "But for this unit, there is just one thing left, which is a final video which puts all of these concepts together. To do that, we are going to look at the code that generated the quizzes you took in the first few chapters, which was all written in Python. [Click here to go to the final section](6.5.ipynb)."
   ]
  }
 ],
 "metadata": {
  "kernelspec": {
   "display_name": "Python 3",
   "language": "python",
   "name": "python3"
  },
  "language_info": {
   "codemirror_mode": {
    "name": "ipython",
    "version": 3
   },
   "file_extension": ".py",
   "mimetype": "text/x-python",
   "name": "python",
   "nbconvert_exporter": "python",
   "pygments_lexer": "ipython3",
   "version": "3.7.4"
  }
 },
 "nbformat": 4,
 "nbformat_minor": 2
}
