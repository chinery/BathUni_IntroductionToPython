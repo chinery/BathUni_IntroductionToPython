{
 "cells": [
  {
   "cell_type": "markdown",
   "metadata": {},
   "source": [
    "## 6.3 – Object-Oriented Programming 2\n",
    "### Introduction\n",
    "Everyone remembers the difference between a class and an object, yes?\n",
    "\n",
    "The class is the *blueprint* for the object. The object is the specific *instance* of the class, it has its own concrete properties. If you're making a video game, and you decide that your characters have hit points (HP), then the *class* is the thing that specifies that all characters have hit points. An individual character *object* has an actual number of hit points: Alex the solider has 100 HP.\n",
    "\n",
    "Sometimes I ask students: suppose we are using physical objects as examples, so you might be an object of the Student class. What is an example of an object from the Vehicle class? And they reply with: car (or bike, or train, etc). **This is incorrect!**\n",
    "\n",
    "If Vehicle is a class, then one of The Queen's Bentley State Limousines would be an object. Let's say this one:\n",
    "\n",
    "<img src=\"./resources/car.jpg\" style=\"width:40%\">\n",
    "<small><small><center>By LemonCrumpet at English Wikipedia, CC BY-SA 3.0, https://commons.wikimedia.org/w/index.php?curid=23333616</center></small></small>\n",
    "\n",
    "Of course this object *is* a car, so the hypothetical student in this situation has caught onto an important concept. But it is ***not*** the class-object relationship.\n",
    "\n",
    "### Inheritance\n",
    "Suppose we are writing a program where it makes sense to model individual vehicle objects – we might be writing an open world video game where these vehicles will be rendered on screen, or we might be writing a stock system for a vehicle hire company where we want to closely keep track of each vehicles details before and after each rental (mileage, dents and scrapes, service history, etc).\n",
    "\n",
    "All vehicles will share some properties in this system, but they will also have characteristics that are unique to each specific type of vehicle. So we might want to create an attribute like `mileage` which all vehicles should have, and `number_of_doors` should only be on cars (which we will use to include any 4-wheeled vehicle on on the road).\n",
    "\n",
    "We could create a Vehicle class that contains both attributes:\n",
    "\n",
    "<table style=\"border:1px solid black\">\n",
    "<tr style=\"border-bottom: 1px solid black\"><th style=\"background-color:#FFFFFF\">\n",
    "<p>Vehicle</p>\n",
    "</th></tr>\n",
    "<tr><td style=\"background-color:#F5F5F5\">\n",
    "<p>mileage<br>number_of_doors</p>\n",
    "</td></tr>\n",
    "</table>\n",
    "\n",
    "But now any objects for motorbikes will have a wasted attribute.\n",
    "\n",
    "Alternatively, we could create a class for each of them:\n",
    "\n",
    "<table>\n",
    "<tr><td style=\"background-color:#FFFFFF;vertical-align:top\">\n",
    "\n",
    "<table style=\"border:1px solid black\">\n",
    "<tr style=\"border-bottom: 1px solid black\"><th style=\"background-color:#FFFFFF\">\n",
    "<p><b>Car</b></p>\n",
    "</th></tr>\n",
    "<tr><td style=\"background-color:#F5F5F5\">\n",
    "<p>mileage<br>number_of_doors</p>\n",
    "</td></tr>\n",
    "</table>\n",
    "\n",
    "</td><td style=\"background-color:#FFFFFF;vertical-align:top\">\n",
    "\n",
    "<table style=\"border:1px solid black\">\n",
    "<tr style=\"border-bottom: 1px solid black\"><th style=\"background-color:#FFFFFF\">\n",
    "<p><b>Motorbike</b></p>\n",
    "</th></tr>\n",
    "<tr><td style=\"background-color:#F5F5F5\">\n",
    "<p>mileage</p>\n",
    "</td></tr>\n",
    "</table>\n",
    "\n",
    "</td></tr> </table>\n",
    "\n",
    "But now we've got duplicated data, mileage is specified separately in two separate places! Always a sign of bad design.\n",
    "\n",
    "The correct solution is to use **inheritance**. We should make a class called Vehicle which contains `mileage`, then Car and Motorbike can both be **subclasses** of Vehicle. Subclasses *inherit* their properties from their **superclass**.\n",
    "\n",
    "<table style=\"border:1px solid black\">\n",
    "<tr style=\"border-bottom: 1px solid black\"><th style=\"background-color:#FFFFFF\">\n",
    "<p>Vehicle</p>\n",
    "</th></tr>\n",
    "<tr><td style=\"background-color:#F5F5F5\">\n",
    "<p>mileage</p>\n",
    "</td></tr>\n",
    "</table>\n",
    "\n",
    "<img src=\"./resources/arrow.svg\" width=120/>\n",
    "\n",
    "<table>\n",
    "<tr><td style=\"background-color:#FFFFFF;vertical-align:top\">\n",
    "\n",
    "<table style=\"border:1px solid black\">\n",
    "<tr style=\"border-bottom: 1px solid black\"><th style=\"background-color:#FFFFFF\">\n",
    "<p><b>Car</b></p>\n",
    "</th></tr>\n",
    "<tr><td style=\"background-color:#F5F5F5\">\n",
    "<p>number_of_doors</p>\n",
    "</td></tr>\n",
    "</table>\n",
    "\n",
    "</td><td style=\"background-color:#FFFFFF;vertical-align:top\">\n",
    "\n",
    "<table style=\"border:1px solid black\">\n",
    "<tr style=\"border-bottom: 1px solid black\"><th style=\"background-color:#FFFFFF\">\n",
    "<p><b>Motorbike</b></p>\n",
    "</th></tr>\n",
    "<tr><td style=\"background-color:#F5F5F5\">\n",
    "<p></p>\n",
    "</td></tr>\n",
    "</table>\n",
    "\n",
    "</td></tr> </table>\n",
    "\n",
    "Let's look at an example in Python."
   ]
  },
  {
   "cell_type": "code",
   "execution_count": 2,
   "metadata": {},
   "outputs": [
    {
     "name": "stdout",
     "output_type": "stream",
     "text": [
      "My bike has done 10000 miles and my car has done 10000 miles.\n"
     ]
    }
   ],
   "source": [
    "class Vehicle:\n",
    "    def __init__(self):\n",
    "        self.mileage = 0\n",
    "    \n",
    "class Car(Vehicle):\n",
    "    def __init__(self, number_of_doors):\n",
    "        super().__init__()\n",
    "        self.number_of_doors = number_of_doors\n",
    "        \n",
    "class Motorbike(Vehicle):\n",
    "    pass\n",
    "\n",
    "\n",
    "my_bike = Motorbike()\n",
    "my_car = Car(5)\n",
    "\n",
    "my_vehicles = [my_bike, my_car]\n",
    "\n",
    "for vehicle in my_vehicles:\n",
    "    vehicle.mileage += 10000\n",
    "    \n",
    "print(f\"My bike has done {my_bike.mileage} miles and my car has done {my_car.mileage} miles.\")"
   ]
  },
  {
   "cell_type": "markdown",
   "metadata": {},
   "source": [
    "We can see that `Car` is a subclass of `Vehicle` because it is written in parentheses in the class declaration:\n",
    "```python\n",
    "class Car(Vehicle):\n",
    "```\n",
    "\n",
    "It automatically *inherits* the attribute from Vehicle, but since we are writing a new constructor (`__init__` method) for `Car` we must make sure it calls the superclass constructor using the line:\n",
    "```python\n",
    "super().__init__()\n",
    "```\n",
    "\n",
    "For the `Motorbike` class, we did not add anything. It automatically inherits the `mileage` attribute. We do not need to provide an `__init__()` method because it inherits the one from `Vehicle`, and this will automatically be called (we do not need a `super()` call).\n",
    "\n",
    "### The Object Class\n",
    "If we do not write in the name of a superclass when we declare a new class, it automatically becomes a subclass of the class `object`, and this is the top of the tree. So `Vehicle` is a subclass of `object`.\n",
    "\n",
    "`object` declares some features that all classes inherit automatically, like the method called `__str__`, which is called when you convert an object into a string. By default it isn't amazingly helpful:"
   ]
  },
  {
   "cell_type": "code",
   "execution_count": 4,
   "metadata": {},
   "outputs": [
    {
     "name": "stdout",
     "output_type": "stream",
     "text": [
      "<__main__.Car object at 0x7ff4304d9090>\n"
     ]
    }
   ],
   "source": [
    "print(my_car)"
   ]
  },
  {
   "cell_type": "markdown",
   "metadata": {},
   "source": [
    "When a method is called on an object, Python will check to see if its class provides an implementation. If not it will check the superclass, and the superclass of that class, and so on. Since `Car` does not provide an implementation for `__str__`, we get the implementation from `object`. \n",
    "\n",
    "If we write an implementation for `__str__` we say that we have **overridden** the superclass's method."
   ]
  },
  {
   "cell_type": "code",
   "execution_count": 5,
   "metadata": {},
   "outputs": [
    {
     "name": "stdout",
     "output_type": "stream",
     "text": [
      "Vroom! I am a car. I have 5 doors and I have done 20000 miles.\n"
     ]
    }
   ],
   "source": [
    "class Car(Vehicle):\n",
    "    def __init__(self, number_of_doors):\n",
    "        super().__init__()\n",
    "        self.number_of_doors = number_of_doors\n",
    "    \n",
    "    def __str__(self):\n",
    "        return f\"Vroom! I am a car. I have {self.number_of_doors} doors and I have done {self.mileage} miles.\"\n",
    "    \n",
    "my_car = Car(5)\n",
    "my_car.mileage = 20000\n",
    "print(my_car)"
   ]
  },
  {
   "cell_type": "markdown",
   "metadata": {},
   "source": [
    "### Polymorphism\n",
    "This is where one of the most powerful features of OOP comes in, and it is a great word to add to your lexicon: **polymorphism**.\n",
    "\n",
    "Polymorphism allows us to use the common features of multiple objects without worrying about what specific implementation those will take. Earlier we used a for loop which set the mileage of two objects from different classes, but it still worked because both objects had the attribute:\n",
    "```python\n",
    "my_vehicles = [my_bike, my_car]\n",
    "\n",
    "for vehicle in my_vehicles:\n",
    "    vehicle.mileage += 10000\n",
    "```\n",
    "\n",
    "In Python this effect is less dramatic than it is in strongly typed languages. Dynamic typing means that we can try to run this code even if items in the list might not have the attribute, we would just get a runtime error. The following code works because both string objects and list objects contain the `.index` method:"
   ]
  },
  {
   "cell_type": "code",
   "execution_count": 7,
   "metadata": {},
   "outputs": [
    {
     "name": "stdout",
     "output_type": "stream",
     "text": [
      "The item string contains 'string' at index 0\n",
      "The item ['more', 'than', 'one', 'string'] contains 'string' at index 3\n"
     ]
    }
   ],
   "source": [
    "my_list = [\"string\", [\"more\", \"than\", \"one\", \"string\"]]\n",
    "\n",
    "for item in my_list:\n",
    "    print(f\"The item {item} contains 'string' at index {item.index('string')}\")"
   ]
  },
  {
   "cell_type": "markdown",
   "metadata": {},
   "source": [
    "But by using two objects that you know share a common superclass, you can be sure that calling those methods and attributes will work, and use the implementations specific to those objects.\n",
    "\n",
    "### Summary\n",
    "Object-oriented programming is really helpful technique for structuring your code, particularly once you get into the habit of designing class structures using inheritance and powerful features like polymorphism. There is so much more to learn about good object-oriented design: there are abstract classes, static attributes and methods, design patterns, advanced concepts like multiple inheritance, and much more. I really encourage you to look up some more tutorials about OOP in Python, as we simply do not have the time here.\n",
    "\n",
    "In the [next section](6.4.ipynb) we will show you some features from the functional programming, the last programming paradigm we are going to talk about. Python is not a functional language, but it does support a few nice features that are heavily inspired by functional languages.\n",
    "\n",
    "After that, [in the section after](6.5.ipynb), we are going to explore the code that was used to generate the quizzes you took in the first few chapters of this unit. It uses elements from almost every section of the unit, including examples of some more advanced concepts in object-oriented programming, so hopefully it will really help put theory into practice!"
   ]
  },
  {
   "cell_type": "markdown",
   "metadata": {},
   "source": [
    "### Style Footnote: Public or Private Attributes?\n",
    "In the [previous section](6.2.ipynb) we wrote `self.__contents` to create a *private* attribute that was not accessible from outside the class. In the examples above, we did not use the underscores, so the “raw” attributes are accessible. Which is better?\n",
    "\n",
    "There is no one correct answer. One of the principles of OOP is *encapsulation* – the idea that the class alone is responsible for its own data. If you come from a background using languages like Java you will be used to this idea: we make all of our attributes private, then we make public *accessor* and *mutator* methods (also called *getters* and *setters*) if we want others to have that level of access. If we ever need to change how those private attributes work, or want to enforce some validation, we can do so in the access methods.\n",
    "\n",
    "We can follow this style, no problem. But Python, as mentioned before, is built on principles of keeping things simple. The truly *Pythonic* way is to use plain public attributes. If we ever want to change the behaviour later, we can do so with *properties*. This all getting a bit too much for this section, but if you are interested, there is a [good article here](https://www.datacamp.com/community/tutorials/property-getters-setters).\n",
    "\n",
    "For now, I recommend using public attributes, and you can read about properties later. But the important thing is to stay consistent throughout your code."
   ]
  }
 ],
 "metadata": {
  "kernelspec": {
   "display_name": "Python 3",
   "language": "python",
   "name": "python3"
  },
  "language_info": {
   "codemirror_mode": {
    "name": "ipython",
    "version": 3
   },
   "file_extension": ".py",
   "mimetype": "text/x-python",
   "name": "python",
   "nbconvert_exporter": "python",
   "pygments_lexer": "ipython3",
   "version": "3.7.4"
  }
 },
 "nbformat": 4,
 "nbformat_minor": 2
}
