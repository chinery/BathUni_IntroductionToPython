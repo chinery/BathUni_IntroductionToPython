{
 "cells": [
  {
   "cell_type": "markdown",
   "metadata": {},
   "source": [
    "## 6.5 – Putting It All Together\n",
    "\n",
    "In this final section I am going to talk you through the Python code that generated the quizzes you took in the first couple of chapters. Reading other people's code is challenge of its own, but it can be a great way to learn new techniques.\n",
    "\n",
    "<br />\n",
    "<center><video controls width=600 src=\"https://people.bath.ac.uk/akc23/61_finale.mp4\">\n",
    "</video></center>\n",
    "\n",
    "After you've watched the video, try modifying the quiz code. Here are some ideas to get you started:\n",
    "* Make any response be considered correct\n",
    "* Change the way that the questions are worded\n",
    "* Add new values to the random variables (e.g. a new variable name for `#rv`)\n",
    "* Insert some new questions into a quiz definition file (e.g. 1.1.1q.txt)\n",
    "* Add a new type of random variable with a new identifier (of the form `#??`), then make a new question that uses it\n",
    "* What would happen if a new random variable is made with the identifier `#rvn`? Can you fix the code to prevent it?\n",
    "* Add an entirely new format of question (in addition to `QE`, `QS`, and `BV`) – you'll need to add code in multiple places. Then test this with a suitable question definition file.\n",
    "* If you ask for more questions, they are generated at random from the existing formats uniformly. Change the code so the distribution is determined by the number of repeats of each level.\n",
    "\n",
    "Don't forget that if you launched this through binder, then your changes will not be saved! So you might want to make them offline. There is a guide to downloading the notebook files in [Appendix A](../Appendices/A.ipynb).\n",
    "\n",
    "Here is a cell which runs the quiz for ease of reference:"
   ]
  },
  {
   "cell_type": "code",
   "execution_count": null,
   "metadata": {},
   "outputs": [],
   "source": [
    "%run ../scripts/interactive_questions ../Chapter 1/questions/1.1.1q.txt"
   ]
  }
 ],
 "metadata": {
  "kernelspec": {
   "display_name": "Python 3",
   "language": "python",
   "name": "python3"
  },
  "language_info": {
   "codemirror_mode": {
    "name": "ipython",
    "version": 3
   },
   "file_extension": ".py",
   "mimetype": "text/x-python",
   "name": "python",
   "nbconvert_exporter": "python",
   "pygments_lexer": "ipython3",
   "version": "3.7.4"
  }
 },
 "nbformat": 4,
 "nbformat_minor": 2
}
