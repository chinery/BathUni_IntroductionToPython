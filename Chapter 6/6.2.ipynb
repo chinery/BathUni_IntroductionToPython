{
 "cells": [
  {
   "cell_type": "markdown",
   "metadata": {},
   "source": [
    "## 6.2 – Object Oriented Programming 1\n",
    "### Data Plus Actions\n",
    "In the last section we showed how it was possible to create our own data structures using a library of procedures which performed specific tasks. But the *procedural* technique failed to properly unite data and actions. We showed an example using a stack, but there are lots of situations where we might want to unify these two things within a single variable.\n",
    "\n",
    "Suppose you are writing a game. You might have a number of characters who all have their own data e.g. HP, attack damage, and actions e.g. cast spell, move location. If each character can be a single variable which contains all of these elements then it will greatly simplify our code.\n",
    "\n",
    "Perhaps you are writing an point of sale system for a shop selling books and films. Different items in the same category share some features, all books have authors, titles, and ISBNs, all films have directors, titles, and cast details. But items in different categories might also share features: all items in your shop have a price, stock level, and distributor. Also, there maybe certain features which all items share, but vary in their exact implementation: all items have a VAT rate, but the VAT rate for books is 0%, while the VAT rate for films is 20%.\n",
    "\n",
    "We do not have to be so physical, either. Many of the programming tools we use combine these things. We saw in [Section 5.2](../Chapter%205/5.2.ipynb) that we could create `streams`. One stream might connect to a file, another stream might connect over a network. The stream has some data e.g. the file location, or the IP address; and it has some actions, such as `.read()` and `.write()`, the exact specification of which depends on the type of stream you are using.\n",
    "\n",
    "We are skirting around an idea here, so let's finally make it explicit.\n",
    "\n",
    "### Classes and Objects\n",
    "An **object** is a structure that combines data and functionality. We used this term ages ago in [Section 2.1](../Chapter%202/2.1.ipynb), now we will be more specific. \n",
    "\n",
    "Every variable and literal in Python is an object. But it is slightly easier to explain what an object *is* if we can give an example of something that *is not* an object. So let's borrow another programming language: Java. \n",
    "\n",
    "In Java there are two forms of integer. When we declare a variable we must write the type before the variable's name. Take a look at this code:\n",
    "\n",
    "```java\n",
    "int primitive = 10;\n",
    "Integer object = new Integer(10);\n",
    "```\n",
    "\n",
    "The first variable is a *primitive* integer, the second variable is an *object*. \n",
    "\n",
    "A primitive:\n",
    "* Always has a fixed size in memory. An `int` in Java is 4 bytes.\n",
    "* Is purely data. All 4 bytes are used to store the integer itself, nothing else.\n",
    "\n",
    "On the other hand, an object:\n",
    "* Can have a variable size, and a single object can grow in size after creation.\n",
    "* Contains data (attributes) **and** functionality (methods).\n",
    "\n",
    "This last point is our key differentiator. In Java, only the object form can do things like this:\n",
    "```java\n",
    "Integer object = new Integer(10);\n",
    "String string = object.toString();\n",
    "```\n",
    "\n",
    "Which converts the integer to a string...! Okay... integer objects in Java do not have very many interesting methods. But I'm glad we mentioned strings. In Java a single character is a primitive. But a string is an object – it contains data (a bunch of characters) and functionality (various methods, like the string methods in Python).\n",
    "\n",
    "```java\n",
    "char character = 'a';\n",
    "String string = \"abcd\";\n",
    "string = string.replace(\"ab\", \"cd\");\n",
    "```\n",
    "\n",
    "`replace` is a *method* of this string object `str`. Hopefully this looks familiar: the exact same thing works in Python:"
   ]
  },
  {
   "cell_type": "code",
   "execution_count": 1,
   "metadata": {},
   "outputs": [
    {
     "data": {
      "text/plain": [
       "'cdcd'"
      ]
     },
     "execution_count": 1,
     "metadata": {},
     "output_type": "execute_result"
    }
   ],
   "source": [
    "string = \"abcd\"\n",
    "string = string.replace(\"ab\", \"cd\")\n",
    "string"
   ]
  },
  {
   "cell_type": "markdown",
   "metadata": {},
   "source": [
    "The code above creates a string variable, then uses a *method* of that object called `replace` which *returns* a new string object which is then *assigned* to the original variable name. We covered all this in [Chapter 2](../Chapter%202/2.1.ipynb).\n",
    "\n",
    "So here's something new.\n",
    "\n",
    "We said above that `replace` is a *method* that belongs to the *object*, and on this hinges our entire justification for introducing objects. But... *where exactly* is the code? When we created the string we provided the data, but we did not provide the functionality. In fact, *all* strings have the same methods. And each method, such as `replace` works essentially the same way on all string objects. If we were to write a `replace` function ourselves we might include some branching code, such as an if statement, but that function, that block of code, would not change from string to string.\n",
    "\n",
    "And this brings us to the concept of the class.\n",
    "\n",
    "### Classes\n",
    "A **class** is a blueprint for an object.\n",
    "\n",
    "Say it with me: a **class** is a *blueprint* for an **object**.\n",
    "\n",
    "All objects are **instances** of some class.\n",
    "\n",
    "The class specifies the properties which all objects that **instantiate** it will have. Typically that includes two things: attributes and methods – data and functionality.\n",
    "\n",
    "The classes for builtin Python types like integers and strings are very complicated and written in C code. So let's write our own class for the stack data structure that we made a procedural version of [in the previous section](6.1.ipynb).\n",
    "\n",
    "Have a look at the code below, but focus mostly on the last few lines, the main code, for now."
   ]
  },
  {
   "cell_type": "code",
   "execution_count": 2,
   "metadata": {},
   "outputs": [
    {
     "name": "stdout",
     "output_type": "stream",
     "text": [
      "3\n",
      "10\n",
      "7\n"
     ]
    }
   ],
   "source": [
    "class Stack:\n",
    "    def __init__(self, size):\n",
    "        self.__contents = [0] * size\n",
    "        self.__head = 0\n",
    "        \n",
    "    def is_full(self):\n",
    "        return self.__head > len(self.__contents)\n",
    "    \n",
    "    def is_empty(self):\n",
    "        return self.__head == 0\n",
    "    \n",
    "    def push(self, item):\n",
    "        if self.is_full():\n",
    "            return\n",
    "        else:\n",
    "            self.__contents[self.__head] = item\n",
    "            self.__head += 1\n",
    "            \n",
    "    def pop(self):\n",
    "        if self.is_empty():\n",
    "            return\n",
    "        else:\n",
    "            self.__head -= 1\n",
    "            return self.__contents[self.__head]\n",
    "        \n",
    "        \n",
    "if __name__ == \"__main__\":\n",
    "    my_stack = Stack(5)\n",
    "    my_stack.push(4)\n",
    "    my_stack.push(10)\n",
    "    my_stack.push(3)\n",
    "    print(my_stack.pop()) # should print 3\n",
    "    print(my_stack.pop()) # should print 10\n",
    "    my_stack.push(7)\n",
    "    print(my_stack.pop()) # should print 7"
   ]
  },
  {
   "cell_type": "markdown",
   "metadata": {},
   "source": [
    "There's a lot of new information here! Let's first of all focus on the code at the bottom which actually creates a stack and uses it.\n",
    "\n",
    "The first line is really important:\n",
    "```python\n",
    "my_stack = Stack(5)\n",
    "```\n",
    "\n",
    "This line **instantiates** the class. It creates an *object*.\n",
    "\n",
    "If you remember only one thing from this section, make it this: on this line of code, `Stack` is a class, `my_stack` is an object.\n",
    "\n",
    "A class is a blueprint for an object.\n",
    "\n",
    "If the items on the left are *classes*, then the items on the right are examples of *objects*:\n",
    "    \n",
    "|<p align=\"left\">class</p>|<p align=\"left\">object</p>|\n",
    "|:-----:|:------:|\n",
    "|<p align=\"left\">Dog</p>|<p align=\"left\">[Hoffmann](../Chapter%201/resources/1.2.1.jpg)</p>|\n",
    "|<p align=\"left\">Student</p>|<p align=\"left\">You, the human reading this text</p>|\n",
    "|<p align=\"left\">String</p>|<p align=\"left\">`\"this specific string\"`</p>|\n",
    "\n",
    "A single class can normally create many objects, each with its own properties.\n",
    "\n",
    "To *instantiate* a class, we call the **constructor**, which is a method (function) which creates an object, initialises any values, and returns the object. The constructor is called by writing the name of the class followed by parentheses containing any arguments – just like any other function.\n",
    "```python\n",
    "Stack(5)\n",
    "```\n",
    "In this case, the constructor takes one argument, the size of the stack, which we've set to 5.\n",
    "\n",
    "Here is the code inside the class which defined the behaviour of the constructor (specifically the “initialise any values” part):\n",
    "```python\n",
    "def __init__(self, size):\n",
    "    self.__contents = [0] * size\n",
    "    self.__head = 0\n",
    "```\n",
    "\n",
    "A few things to note here:\n",
    "* `def`\n",
    " * We create a method inside a class by using a `def`, like any other function.\n",
    "* `__init__`\n",
    " * The constructor must have exactly this name, including the underscores, which are a syntax used by Python to denote names with special meaning so that you are unlikely to accidentally overwrite them. \n",
    " * (We saw this also with `__name__` and `\"__main__\"`.)\n",
    "* `(self, size)`\n",
    " * The first parameter is called `self` – this is used in all of the methods in the class. \n",
    " * `self` exists so that methods can access properties of the individual object on which they are called.\n",
    " * When you call `my_stack.pop()`, the `self` inside the `.pop(self)` method code becomes a reference to the object `my_stack`.\n",
    "* `self.__contents = ...`\n",
    " * It is common for a constructor to set up the *attributes* (also called *fields*) of the object, this is the data that the object will store. \n",
    " * In this case, we create the array `__contents` and the integer `__head`. We store them “in” the object by writing `self.` before their names.\n",
    " * We can give them any names we like. But here we chose to prefix them with two underscores again. The reason for this is it makes the attributes *private* – we cannot access them directly from outside of the class.\n",
    "\n",
    "\n",
    "Here is a demonstration of that final point. This demo class has a *public* attribute, which means it can be directly accessed from an object:"
   ]
  },
  {
   "cell_type": "code",
   "execution_count": 7,
   "metadata": {},
   "outputs": [
    {
     "name": "stdout",
     "output_type": "stream",
     "text": [
      "10\n"
     ]
    }
   ],
   "source": [
    "class Demo:\n",
    "    def __init__(self):\n",
    "        self.attribute = 10\n",
    "        \n",
    "my_demo = Demo()\n",
    "print(my_demo.attribute)"
   ]
  },
  {
   "cell_type": "markdown",
   "metadata": {},
   "source": [
    "But the `__contents` and `__head` attributes inside the `Stack` class are private attributes, it will give an error as if they are not even there:"
   ]
  },
  {
   "cell_type": "code",
   "execution_count": 8,
   "metadata": {},
   "outputs": [
    {
     "ename": "AttributeError",
     "evalue": "'Stack' object has no attribute '__contents'",
     "output_type": "error",
     "traceback": [
      "\u001b[0;31m---------------------------------------------------------------------\u001b[0m",
      "\u001b[0;31mAttributeError\u001b[0m                      Traceback (most recent call last)",
      "\u001b[0;32m<ipython-input-8-2c1a076f3808>\u001b[0m in \u001b[0;36m<module>\u001b[0;34m\u001b[0m\n\u001b[1;32m      2\u001b[0m \u001b[0mmy_stack\u001b[0m\u001b[0;34m.\u001b[0m\u001b[0mpush\u001b[0m\u001b[0;34m(\u001b[0m\u001b[0;36m4\u001b[0m\u001b[0;34m)\u001b[0m\u001b[0;34m\u001b[0m\u001b[0;34m\u001b[0m\u001b[0m\n\u001b[1;32m      3\u001b[0m \u001b[0mmy_stack\u001b[0m\u001b[0;34m.\u001b[0m\u001b[0mpush\u001b[0m\u001b[0;34m(\u001b[0m\u001b[0;36m10\u001b[0m\u001b[0;34m)\u001b[0m\u001b[0;34m\u001b[0m\u001b[0;34m\u001b[0m\u001b[0m\n\u001b[0;32m----> 4\u001b[0;31m \u001b[0mprint\u001b[0m\u001b[0;34m(\u001b[0m\u001b[0mmy_stack\u001b[0m\u001b[0;34m.\u001b[0m\u001b[0m__contents\u001b[0m\u001b[0;34m[\u001b[0m\u001b[0;36m0\u001b[0m\u001b[0;34m]\u001b[0m\u001b[0;34m)\u001b[0m\u001b[0;34m\u001b[0m\u001b[0;34m\u001b[0m\u001b[0m\n\u001b[0m",
      "\u001b[0;31mAttributeError\u001b[0m: 'Stack' object has no attribute '__contents'"
     ]
    }
   ],
   "source": [
    "my_stack = Stack(5)\n",
    "my_stack.push(4)\n",
    "my_stack.push(10)\n",
    "print(my_stack.__contents[0])"
   ]
  },
  {
   "cell_type": "markdown",
   "metadata": {},
   "source": [
    "This means our Stack class really does work like a stack to the user, they can't access the bottom element of the stack directly.\n",
    "\n",
    "That should be enough information for you to decipher the rest of the Stack class above. Take some time to play around with it!\n",
    "\n",
    "### Exercise\n",
    "A stack is “first in, last out”. A **queue** is “first in, first out”.\n",
    "\n",
    "Can you write a queue class below? I have included some “main” code for you. It is worth spending some time trying to work out how a queue works, like the stack you are only allowed to use basic list indexing for your inner contents array. You might need more than one integer “pointer”. \n",
    "\n",
    "A queue is harder than a stack. If you get stuck, look around online, particularly for information about a *circular queue*."
   ]
  },
  {
   "cell_type": "code",
   "execution_count": null,
   "metadata": {},
   "outputs": [],
   "source": [
    "class Queue:\n",
    "    pass\n",
    "\n",
    "# create queue with size 5\n",
    "my_queue = Queue(5)\n",
    "my_queue.add(4)\n",
    "my_queue.add(10)\n",
    "my_queue.add(3)\n",
    "print(my_queue.get()) # should print 4\n",
    "print(my_queue.get()) # should print 10\n",
    "my_queue.add(7)\n",
    "print(my_queue.get()) # should print 3\n",
    "\n",
    "print(\"Check you printed the correct values.\")\n",
    "print(\"The next part is harder...\")\n",
    "\n",
    "# we have added 4 numbers, and removed 3, so there should only be 1 item left (7)\n",
    "# since it's of size 5, we should be able to add 4 more\n",
    "my_queue.add(6)\n",
    "my_queue.add(5)\n",
    "my_queue.add(4)\n",
    "my_queue.add(3)\n",
    "# and then print the entire contents of the queue\n",
    "print(my_queue.get()) # should print 7\n",
    "print(my_queue.get()) # should print 6\n",
    "print(my_queue.get()) # should print 5\n",
    "print(my_queue.get()) # should print 4\n",
    "print(my_queue.get()) # should print 3\n",
    "\n",
    "print(\"If your queue printed all of the above successfully, well done!\")\n",
    "print(\"We have not tested what happens if we try to add more than 5 elements, \" \\\n",
    "      \"or try to get an element when there are none – you should test these yourself\")"
   ]
  },
  {
   "cell_type": "markdown",
   "metadata": {},
   "source": [
    "### Summary\n",
    "The main lesson of this section is the difference between a class and an object, plus the syntax that actually allows us to create classes with their associated attributes and methods.\n",
    "\n",
    "But there is still more we can do with classes. Earlier we talked about books and films having some properties of their own, but some properties shared. This brings us to the second part of object-oriented programming, where we talk about *inheritance*. All in the [next section](6.3.ipynb)."
   ]
  }
 ],
 "metadata": {
  "kernelspec": {
   "display_name": "Python 3",
   "language": "python",
   "name": "python3"
  },
  "language_info": {
   "codemirror_mode": {
    "name": "ipython",
    "version": 3
   },
   "file_extension": ".py",
   "mimetype": "text/x-python",
   "name": "python",
   "nbconvert_exporter": "python",
   "pygments_lexer": "ipython3",
   "version": "3.7.4"
  }
 },
 "nbformat": 4,
 "nbformat_minor": 2
}
