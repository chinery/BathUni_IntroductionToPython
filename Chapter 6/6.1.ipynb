{
 "cells": [
  {
   "cell_type": "markdown",
   "metadata": {},
   "source": [
    "# Chapter 6 – Programming Paradigms\n",
    "## Introduction\n",
    "Programming languages can be classified into one or more *paradigms*. Knowing the paradigm gives the programmer a hint towards what sort of things the language is designed to do well, and how they should structure their code.\n",
    "\n",
    "When we first started writing code back in the first chapter we just wrote command after command; each line to be executed in turn from the top to the bottom. Programmers often have use for short simple snippets of code like this. Maybe I have a bunch of images on my desktop that I want to resize in a specific way... it might be easier to write a short Python program than find some batch tool that does exactly what I want. We might call this a **script**, a simple program that just does one thing with limited options and has no real structure.\n",
    "\n",
    "Over time if we keep tweaking that script and adding new features we are eventually going to end up with bloated, messy, hard to read code. We might wish that we had written the code from scratch with some actual structure. This is why we introduced *functions* so early in the unit. The exact way we structure the code of a large program depends on what paradigm we are using.\n",
    "\n",
    "Python is an interesting language because it supports so many different programming paradigms. We are going to learn about *object-oriented programming*, which is the most popular paradigm today, and we will also briefly mention some concepts from *functional programming*. But first let's formalise what we've been doing in the unit so far.\n",
    "\n",
    "## 6.1 – Procedural Programming\n",
    "Hopefully the Python code that you have been writing outside of Jupyter looks something like this:\n",
    "```python\n",
    "# define some functions\n",
    "def function1(...):\n",
    "    # ...\n",
    "    \n",
    "def function2(...):\n",
    "    # ...\n",
    "    \n",
    "def function3(...):\n",
    "    # ...\n",
    "    \n",
    "# main code goes here – i.e. use the functions\n",
    "x = function1(...)\n",
    "```\n",
    "\n",
    "This is an example of the **procedural programming** paradigm. The solution to the task is broken down with variables, data structures, and crucially: procedures (and functions!). This is the programming paradigm that is favoured by languages like C.\n",
    "\n",
    "In C, all code must be written inside a subroutine, but there is a special subroutine called `main`. If a file called `program.c` is compiled and run, then the `main` subroutine in that file is the code which is run first. In Python we can write this code “outside” of our subroutine definitions, as we do in the example above (the final line of the example). But there is a slight issue with doing this in real programs.\n",
    "\n",
    "If we are writing lots of useful functions and procedures, we might want to allow other users to *import* our code as a module (see [Section 5.1](../Chapter%205/5.1.ipynb)). If so, we do not necessarily want the “outside” code to run – it is probably test code to make sure our functions actually work, not something other programs want to happen automatically. Ideally, we would like the code “outside the subroutines” to run only when the file itself is run as a Python program, not when it is imported into another file. \n",
    "\n",
    "We can check the current *namespace* to achieve this. It is just a one line modification to the code above, and gives us a structure that ends up looking quite similar to a C `main` subroutine:\n",
    "```python\n",
    "# define some functions\n",
    "def function1(...):\n",
    "    # ...\n",
    "    \n",
    "def function2(...):\n",
    "    # ...\n",
    "    \n",
    "def function3(...):\n",
    "    # ...\n",
    "    \n",
    "if __name__ == \"__main__\":\n",
    "    # main code goes here – i.e. use the functions\n",
    "    x = function1(...)\n",
    "```\n",
    "\n",
    "This line of code, `if __name__ == \"__main__\":` is common to see in Python programs which are intended to be run, even if there is no intention for the code to ever be imported by someone else.\n",
    "\n",
    "### Limitations\n",
    "Procedural programming was the dominant paradigm for a long time, but some of its behaviours can end up being quite inelegant. This is particularly prominent when we try to implement our own data structures.\n",
    "\n",
    "#### Stack Data Structure\n",
    "A **stack** is a collection of items, to which we can only add one item at a time, and we can only retrieve one item at a time. The order is *last in, first out*. So you can think of a stack as being like a stack of plates: the last item you add to the top of the stack will be the first one you retrieve. Adding an item to a stack is called *pushing* and removing the top item of a stack is called *popping*. \n",
    "\n",
    "Now, Python is a language of convenience! Its builtin list type already supports `append` and `pop`. But those features must have been coded by *someone*, and educationally it is interesting to try to work out if we can recreate them. \n",
    "\n",
    "So, what if we wanted to create our own stack data type based on Python lists, *where we are only allowed to use positive list indexing*? So `list[0]` is allowed, but `list.pop()` is not allowed. We are simulating the use of a traditional *array* with a Python *list* – and an array is what Python is actually using *under the hood* to make its list type work in the first place.\n",
    "\n",
    "A stack can be implemented with an array in the following way:\n",
    "* To create a new stack of size `size`:\n",
    " * Create an array `contents` with room for `size` elements\n",
    " * Create a variable called `head` set to `0`, which *points* at the next available space\n",
    "* To push an item `x`:\n",
    " * Check if the stack is full, if it is, give an error, otherwise continue\n",
    " * Add `x` to `contents` at position `head`\n",
    " * Increase `head` by one\n",
    "* To pop an item:\n",
    " * Check if the stack is empty, if it is, give an error, otherwise continue\n",
    " * Decrease `head` by one\n",
    " * Return the element at position `head` of `contents`\n",
    " \n",
    "Below is an animation demonstrating the following commands in order (you might need to click play on the video):\n",
    "* New stack, size 5\n",
    "* Push 4\n",
    "* Push 10\n",
    "* Push 3\n",
    "* Pop\n",
    "* Pop\n",
    "* Push 7\n",
    "* Pop\n",
    "\n",
    "<br /><video controls loop autoplay width=240 src=\"./resources/stack.mp4\">\n",
    "</video>\n",
    "\n",
    "#### Stack Implementation\n",
    "Let's create a procedural Python implementation of a stack."
   ]
  },
  {
   "cell_type": "code",
   "execution_count": 13,
   "metadata": {},
   "outputs": [
    {
     "name": "stdout",
     "output_type": "stream",
     "text": [
      "3\n",
      "10\n",
      "7\n"
     ]
    }
   ],
   "source": [
    "def new_stack(size):\n",
    "    # our stack will be a list of [list, int] for [contents, head]\n",
    "    # so stack[0] is contents\n",
    "    #    stack[1] is head\n",
    "    contents = [0] * size\n",
    "    head = 0\n",
    "    return [contents, head]\n",
    "\n",
    "def is_full(stack):\n",
    "    return stack[1] > len(stack[0])\n",
    "    \n",
    "def is_empty(stack):\n",
    "    return stack[1] == 0    \n",
    "\n",
    "def push(stack, x):\n",
    "    if is_full(stack):\n",
    "        # fail silently, could also raise an error here instead\n",
    "        return\n",
    "    stack[0][stack[1]] = x\n",
    "    stack[1] += 1\n",
    "    \n",
    "def pop(stack):\n",
    "    if is_empty(stack):\n",
    "        return\n",
    "    stack[1] -= 1\n",
    "    return stack[0][stack[1]]\n",
    "\n",
    "if __name__ == \"__main__\":\n",
    "    my_stack = new_stack(5)\n",
    "    push(my_stack, 4)\n",
    "    push(my_stack, 10)\n",
    "    push(my_stack, 3)\n",
    "    print(pop(my_stack)) # should print 3\n",
    "    print(pop(my_stack)) # should print 10\n",
    "    push(my_stack, 7)\n",
    "    print(pop(my_stack)) # should print 7"
   ]
  },
  {
   "cell_type": "markdown",
   "metadata": {},
   "source": [
    "This is, more or less, how people used to implement their own data structures in a procedural language. And it works! If we saved the code above as `stack.py` then we could use these stack functions in another program by writing `import stack`, like this:\n",
    "```python\n",
    "import stack\n",
    "\n",
    "my_stack = stack.new_stack(5)\n",
    "stack.push(my_stack, 4)\n",
    "```\n",
    "\n",
    "The code at the bottom is protected by the “if name equals main” line, so won't be run when the code is imported. Perfect for test code like this.\n",
    "\n",
    "Spend some time looking at the code above. Modify the code so to push additional elements onto the stack which go beyond its size, then seeing what happens when you pop an element.\n",
    "\n",
    "#### However\n",
    "\n",
    "This isn't really the preferred method in Python. The code is a bit inelegant, in a few ways.\n",
    "\n",
    "First is not the fault of procedural programming. I chose to store the stack as a list of two items because then we could pass that list around and modify its elements in different procedures. But this leads to awkward lines like `stack[0][stack[1]] = x`. \n",
    "\n",
    "In a “proper” procedural language you can normally create *structures* that make this syntax a bit nicer by allowing for a variable with named elements. For example we might be able to make a structure which always contains an array called `contents` and an integer called `head`, so then we could do: `stack.contents[stack.head] = x`, much nicer.\n",
    "\n",
    "We actually can simulate this in Python too, but to do so we need to use objects (which are coming in the next section, so we'll come back to this).\n",
    "\n",
    "So we'll ignore that slightly awkward syntax for now. But there are other problems more fundamental to procedural programming. One is that the user of this stack library still has direct access to the underlying data. In the example below we access the bottom element of the stack by accessing the underlying contents array. Even if we used a structure this would be unavoidable. We haven't really met the brief of making a data structure that can *only* be accessed first-in-last-out."
   ]
  },
  {
   "cell_type": "code",
   "execution_count": 11,
   "metadata": {},
   "outputs": [
    {
     "data": {
      "text/plain": [
       "4"
      ]
     },
     "execution_count": 11,
     "metadata": {},
     "output_type": "execute_result"
    }
   ],
   "source": [
    "# access the bottom element of the stack directly\n",
    "my_stack[0][0]"
   ]
  },
  {
   "cell_type": "markdown",
   "metadata": {},
   "source": [
    "Remember in the unit introduction we said that we like to distinguish between *data* and *actions*. The `my_stack` variable is stack in terms of its data only. The variable itself has no notion of the possible *actions* available to a stack.\n",
    "\n",
    "That brings us back to those inbuilt *push* and *pop*-like features of Python lists. With a list, we can do this:"
   ]
  },
  {
   "cell_type": "code",
   "execution_count": 12,
   "metadata": {},
   "outputs": [
    {
     "name": "stdout",
     "output_type": "stream",
     "text": [
      "3\n",
      "10\n",
      "7\n"
     ]
    }
   ],
   "source": [
    "my_stack = []\n",
    "my_stack.append(4)\n",
    "my_stack.append(10)\n",
    "my_stack.append(3)\n",
    "print(my_stack.pop()) # should print 3\n",
    "print(my_stack.pop()) # should print 10\n",
    "my_stack.append(7)\n",
    "print(my_stack.pop()) # should print 7"
   ]
  },
  {
   "cell_type": "markdown",
   "metadata": {},
   "source": [
    "The `append` and `pop` *methods* belong to the list variable itself. This syntax, `variable.method()` is possible because Python lists are actually ***objects***, a word we've used before, but soon will give a precise meaning to.\n",
    "\n",
    "And that takes us right into the subject of [the next section](6.2.ipynb)."
   ]
  }
 ],
 "metadata": {
  "kernelspec": {
   "display_name": "Python 3",
   "language": "python",
   "name": "python3"
  },
  "language_info": {
   "codemirror_mode": {
    "name": "ipython",
    "version": 3
   },
   "file_extension": ".py",
   "mimetype": "text/x-python",
   "name": "python",
   "nbconvert_exporter": "python",
   "pygments_lexer": "ipython3",
   "version": "3.7.4"
  }
 },
 "nbformat": 4,
 "nbformat_minor": 2
}
