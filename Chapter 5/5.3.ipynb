{
 "cells": [
  {
   "cell_type": "markdown",
   "metadata": {},
   "source": [
    "## 5.3 – Open For Requests!\n",
    "For now the rest of Chapter 5 is left blank as a placeholder. If there are any more specific Python features you'd like to learn about, then please post on the unit Slack (available to join via the [welcome page](../Welcome!%20Start%20Here.ipynb#📭-Get-Help-📬)), and they may be added in the future.\n",
    "\n",
    "Until then, there is more content in [Chapter 6](../Chapter%206/6.1.ipynb)."
   ]
  }
 ],
 "metadata": {
  "kernelspec": {
   "display_name": "Python 3",
   "language": "python",
   "name": "python3"
  },
  "language_info": {
   "codemirror_mode": {
    "name": "ipython",
    "version": 3
   },
   "file_extension": ".py",
   "mimetype": "text/x-python",
   "name": "python",
   "nbconvert_exporter": "python",
   "pygments_lexer": "ipython3",
   "version": "3.6.1"
  }
 },
 "nbformat": 4,
 "nbformat_minor": 2
}
