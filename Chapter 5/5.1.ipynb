{
 "cells": [
  {
   "cell_type": "markdown",
   "metadata": {},
   "source": [
    "# Chapter 5 – Intermediate Topics\n",
    "## Introduction\n",
    "You have now reached the end of the beginner topics in this unit. If you haven't already, you should now be starting to write your own code, totally separate from this material. Set yourself a project, then try to write Python code to implement it. This really is the best way to learn.\n",
    "\n",
    "When you get stuck, which you will eventually, you should search online for a solution! This is the majority of how most programmers learn and improve their skills.\n",
    "\n",
    "Of course there are some skills that you do not know you need, and some concepts that require a bit more explanation than a Stack Overflow answer will provide. That is where this chapter comes in. It is full of miscellaneous extra topics that are useful to know as you become more comfortable with the basics.\n",
    "\n",
    "## 5.1 – Importing Modules\n",
    "The first of those is how to use *modules*. At some point, you will want to do something in Python, such as generate a random number. You will go to your favourite search engine, and it will tell you to use a *module* called `random`.\n",
    "\n",
    "A **module** is a collection of definitions, normally functions. Python has a number of builtin functions like `len` which work automatically. This list of functions is kept only to the most essential and commonly used – if for no other reason it can be annoying when there are lots of reserved words that you cannot use for your own variable and function names. \n",
    "\n",
    "But Python has a swathe of builtin modules which can add extra functionality. To use a module, you must `import` its definitions. Let's import that `random` module we mentioned earlier:"
   ]
  },
  {
   "cell_type": "code",
   "execution_count": 1,
   "metadata": {},
   "outputs": [],
   "source": [
    "import random"
   ]
  },
  {
   "cell_type": "markdown",
   "metadata": {},
   "source": [
    "Lines of code like this are often seen at the top of `.py` files (programs), listing all the modules which will be used throughout the code. Once the line of code has been run, any subsequent line can call a function in the `random` module using a syntax like `random.<function>`.\n",
    "\n",
    "In Jupyter, *you* need to make sure you have run the code cell containing the `import` statement, otherwise the later calls to those modules' functions will not run. You need to do this even if it looks like it has already run! You are essentially setting up the *state* of the Jupyter Notebook itself. \n",
    "\n",
    "When you first open this Notebook, running a function in `random` will cause an error. Try running the cell below to confirm. Then run the cell above, and finally run the one below again. This will make sure all the rest of the cells work properly if you decide to run them. Also, since we are using code that generates random numbers, try running the cell multiple times to see the different results!"
   ]
  },
  {
   "cell_type": "code",
   "execution_count": 3,
   "metadata": {},
   "outputs": [
    {
     "data": {
      "text/plain": [
       "10"
      ]
     },
     "execution_count": 3,
     "metadata": {},
     "output_type": "execute_result"
    }
   ],
   "source": [
    "random.randint(0,10)"
   ]
  }
 ],
 "metadata": {
  "kernelspec": {
   "display_name": "Python 3",
   "language": "python",
   "name": "python3"
  },
  "language_info": {
   "codemirror_mode": {
    "name": "ipython",
    "version": 3
   },
   "file_extension": ".py",
   "mimetype": "text/x-python",
   "name": "python",
   "nbconvert_exporter": "python",
   "pygments_lexer": "ipython3",
   "version": "3.7.4"
  }
 },
 "nbformat": 4,
 "nbformat_minor": 2
}
