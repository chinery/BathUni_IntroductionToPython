{
 "cells": [
  {
   "cell_type": "markdown",
   "metadata": {},
   "source": [
    "# Chapter 5 – Intermediate Topics\n",
    "## Introduction\n",
    "You have now reached the end of the beginner topics in this unit. If you haven't already, you should now be starting to write your own code, totally separate from this material. Set yourself a project, then try to write Python code to implement it. This really is the best way to learn.\n",
    "\n",
    "When you get stuck, which you will eventually, you should search online for a solution! This is the majority of how most programmers learn and improve their skills.\n",
    "\n",
    "Of course there are some skills that you do not know you need, and some concepts that require a bit more explanation than a Stack Overflow answer will provide. That is where this chapter comes in. It is full of miscellaneous extra topics that are useful to know as you become more comfortable with the basics.\n",
    "\n",
    "## 5.1 – Importing Modules\n",
    "### Additional Inbuilt Functions\n",
    "The first of those is how to use *modules*. At some point, you will want to do something in Python, such as generate a random number. You will go to your favourite search engine, and it will tell you to use a *module* called `random`.\n",
    "\n",
    "A **module** is a collection of definitions, normally functions. Python has a number of builtin functions like `len` which work automatically. This list of functions is kept only to the most essential and commonly used – if for no other reason than it being annoying when there are lots of reserved words that you cannot use for your own variable and function names. \n",
    "\n",
    "But Python has a swathe of builtin modules which can add extra functionality. To use a module, you must `import` its definitions. Let's import that `random` module we mentioned earlier:"
   ]
  },
  {
   "cell_type": "code",
   "execution_count": 2,
   "metadata": {},
   "outputs": [],
   "source": [
    "import random"
   ]
  },
  {
   "cell_type": "markdown",
   "metadata": {},
   "source": [
    "Lines of code like this are often seen at the top of `.py` files (programs), listing all the modules which will be used throughout the code. Once the line of code has been run, any subsequent line can call a function in the `random` module using a syntax like `random.<function>`.\n",
    "\n",
    "*****Important*****<br />\n",
    "In Jupyter, *you* need to make sure you have run the code cell containing the `import` statement, otherwise the later calls to those modules' functions will not run. You need to do this even if it looks like it has already run! You are essentially setting up the *state* of the Jupyter Notebook itself. \n",
    "\n",
    "When you first open this Notebook, running a function in `random` will cause an error. Try running the cell below to confirm. Then run the cell above, and finally run the one below again. This will make sure all the rest of the cells work properly if you decide to run them. Also, since we are using code that generates random numbers, try running the cell multiple times to see the different results!"
   ]
  },
  {
   "cell_type": "code",
   "execution_count": 3,
   "metadata": {},
   "outputs": [
    {
     "data": {
      "text/plain": [
       "6"
      ]
     },
     "execution_count": 3,
     "metadata": {},
     "output_type": "execute_result"
    }
   ],
   "source": [
    "random.randint(0,10)"
   ]
  },
  {
   "cell_type": "markdown",
   "metadata": {},
   "source": [
    "### Useful Modules\n",
    "There isn't much more to say about the basic inbuilt modules, other than to just give you some examples. But typically you will learn to use a module when you search the web for advice on how to do something. \n",
    "\n",
    "**Question**: “How do I take the square root of a number?” <br />\n",
    "**Answer**: In earlier sections we avoided the use of modules by using `x ** 0.5`. But the preferred method is to use the `math` module:"
   ]
  },
  {
   "cell_type": "code",
   "execution_count": 1,
   "metadata": {},
   "outputs": [],
   "source": [
    "import math"
   ]
  },
  {
   "cell_type": "code",
   "execution_count": 6,
   "metadata": {},
   "outputs": [
    {
     "data": {
      "text/plain": [
       "1.4142135623730951"
      ]
     },
     "execution_count": 6,
     "metadata": {},
     "output_type": "execute_result"
    }
   ],
   "source": [
    "math.sqrt(2)"
   ]
  },
  {
   "cell_type": "markdown",
   "metadata": {},
   "source": [
    "The `math` module has a bunch of useful functions for when you are dealing with numbers. The best place to start with a new module is to check the documentation. To do this, I will normally search the web for a phrase like \"math python\".\n",
    "\n",
    "One warning: there are some reasonably big differences between Python 3 (the version we are using) and the old version, Python 2. Some people still cling to Python 2, and while the majority have shifted, you do have to be careful you are looking at the newest documentation.\n",
    "\n",
    "When I searched for \"math python\", the first result was this. Notice this is the old version, as indicated in the dropdown in the top left. \n",
    "\n",
    "<img src=\"./resources/python2doc.png\" width=700 />\n",
    "\n",
    "We can change the dropdown to 3.7 (or whatever version you are using) to see the updated documentation.\n",
    "\n",
    "<img src=\"./resources/python3doc.png\" width=700 />\n",
    "\n",
    "It even looks nicer!\n",
    "\n",
    "From reading the documentation, I can see a bunch of useful functions. Here are a few examples:"
   ]
  },
  {
   "cell_type": "code",
   "execution_count": 7,
   "metadata": {},
   "outputs": [
    {
     "name": "stdout",
     "output_type": "stream",
     "text": [
      "0.5 rounded is 0, rounded up is 1, and rounded down is 0\n",
      "1.5 rounded is 2, rounded up is 2, and rounded down is 1\n"
     ]
    }
   ],
   "source": [
    "x = 0.5\n",
    "print(f\"{x} rounded is {round(x)}, rounded up is {math.ceil(x)}, and rounded down is {math.floor(x)}\")\n",
    "\n",
    "x = 1.5\n",
    "print(f\"{x} rounded is {round(x)}, rounded up is {math.ceil(x)}, and rounded down is {math.floor(x)}\")"
   ]
  },
  {
   "cell_type": "code",
   "execution_count": 8,
   "metadata": {},
   "outputs": [
    {
     "data": {
      "text/plain": [
       "2.718281828459045"
      ]
     },
     "execution_count": 8,
     "metadata": {},
     "output_type": "execute_result"
    }
   ],
   "source": [
    "x = 1\n",
    "math.exp(x)"
   ]
  },
  {
   "cell_type": "code",
   "execution_count": 9,
   "metadata": {},
   "outputs": [
    {
     "data": {
      "text/plain": [
       "10.0"
      ]
     },
     "execution_count": 9,
     "metadata": {},
     "output_type": "execute_result"
    }
   ],
   "source": [
    "x = 10\n",
    "y = math.exp(x)\n",
    "math.log(y)"
   ]
  },
  {
   "cell_type": "code",
   "execution_count": 11,
   "metadata": {},
   "outputs": [
    {
     "data": {
      "text/plain": [
       "1.0"
      ]
     },
     "execution_count": 11,
     "metadata": {},
     "output_type": "execute_result"
    }
   ],
   "source": [
    "x = math.pi / 5\n",
    "math.sin(x) ** 2 + math.cos(x) ** 2"
   ]
  },
  {
   "cell_type": "markdown",
   "metadata": {},
   "source": [
    "### Installing New Libraries\n",
    "*Note: if you are going to rerun the code cells in this section it is vital you run each cell from top to bottom in order!*\n",
    "\n",
    "The best programmers are lazy. When you are learning to code or practising your skills it can be instructive to write code from scratch. But if you want to *get things done* then you should check to see if someone else has already written code that does what you want. Again, start with a search of the web!\n",
    "\n",
    "A lot of the time the task is not common enough to be contained in an inbuilt Python module. But there is a still a better solution than copying and pasting a bunch of code. You can *install* new modules which people have published. The **Python Package Index** (PyPI) contains over 100,000 *packages* – bundles of code which you can download and use for free.\n",
    "\n",
    "We can install new packages using a tool called `pip`. This is a command line tool which is installed alongside the `python` application. So you can run it by typing `pip` (or on macOS, you may want to type `pip3`).\n",
    "\n",
    "Let's say you are looking to deal with dates in Python. Python has a builtin module called `datetime`, but people have built other tools which are better at dealing with time zones and so on. One of these is called [`pendulum`](https://pendulum.eustace.io/). But it does not come with the Python installation – this will not work yet:"
   ]
  },
  {
   "cell_type": "code",
   "execution_count": 7,
   "metadata": {
    "scrolled": true
   },
   "outputs": [
    {
     "ename": "ModuleNotFoundError",
     "evalue": "No module named 'pendulum'",
     "output_type": "error",
     "traceback": [
      "\u001b[0;31m---------------------------------------------------------------------------\u001b[0m",
      "\u001b[0;31mModuleNotFoundError\u001b[0m                       Traceback (most recent call last)",
      "\u001b[0;32m<ipython-input-7-e30ddebea156>\u001b[0m in \u001b[0;36m<module>\u001b[0;34m\u001b[0m\n\u001b[0;32m----> 1\u001b[0;31m \u001b[0;32mimport\u001b[0m \u001b[0mpendulum\u001b[0m\u001b[0;34m\u001b[0m\u001b[0m\n\u001b[0m",
      "\u001b[0;31mModuleNotFoundError\u001b[0m: No module named 'pendulum'"
     ]
    }
   ],
   "source": [
    "import pendulum"
   ]
  },
  {
   "cell_type": "markdown",
   "metadata": {},
   "source": [
    "We can install it using pip. In Jupyter, using a `!` allows us to run command line (terminal) commands. Note this next cell may take a little while to run."
   ]
  },
  {
   "cell_type": "code",
   "execution_count": 8,
   "metadata": {},
   "outputs": [
    {
     "name": "stdout",
     "output_type": "stream",
     "text": [
      "Collecting pendulum\n",
      "\u001b[?25l  Downloading https://files.pythonhosted.org/packages/e0/f9/ea90c2c8f0d9b6a733f6231fac6d07476b68271bcf02bab0053888ea0fb3/pendulum-2.0.5.tar.gz (77kB)\n",
      "\u001b[K     |████████████████████████████████| 81kB 5.3MB/s eta 0:00:01\n",
      "\u001b[?25h  Installing build dependencies ... \u001b[?25ldone\n",
      "\u001b[?25h  Getting requirements to build wheel ... \u001b[?25ldone\n",
      "\u001b[?25h  Installing backend dependencies ... \u001b[?25ldone\n",
      "\u001b[?25h    Preparing wheel metadata ... \u001b[?25ldone\n",
      "\u001b[?25hCollecting pytzdata>=2018.3 (from pendulum)\n",
      "  Using cached https://files.pythonhosted.org/packages/bc/42/b865341e34066b9f3c806f7c461189b6a3cf367fec2d10d01900e8ba7afd/pytzdata-2019.2-py2.py3-none-any.whl\n",
      "Requirement already satisfied: python-dateutil<3.0,>=2.6 in /Library/Frameworks/Python.framework/Versions/3.6/lib/python3.6/site-packages (from pendulum) (2.8.0)\n",
      "Requirement already satisfied: six>=1.5 in /Library/Frameworks/Python.framework/Versions/3.6/lib/python3.6/site-packages (from python-dateutil<3.0,>=2.6->pendulum) (1.11.0)\n",
      "Building wheels for collected packages: pendulum\n",
      "  Building wheel for pendulum (PEP 517) ... \u001b[?25ldone\n",
      "\u001b[?25h  Created wheel for pendulum: filename=pendulum-2.0.5-cp36-cp36m-macosx_10_6_intel.whl size=96137 sha256=c9712fd842556198435530c7d2ee9a0a113feedec7e4452b5abab779c0d8e188\n",
      "  Stored in directory: /Users/andrew/Library/Caches/pip/wheels/f2/f2/8e/9ceeb2d4dceb9fb0b80baf6445d5ce3dac4bf1868c93a31e83\n",
      "Successfully built pendulum\n",
      "Installing collected packages: pytzdata, pendulum\n",
      "Successfully installed pendulum-2.0.5 pytzdata-2019.2\n",
      "\u001b[33mWARNING: You are using pip version 19.2.1, however version 19.2.3 is available.\n",
      "You should consider upgrading via the 'pip install --upgrade pip' command.\u001b[0m\n"
     ]
    }
   ],
   "source": [
    "!pip install pendulum"
   ]
  },
  {
   "cell_type": "markdown",
   "metadata": {},
   "source": [
    "Notice that `pip` checked for and installed an additional package called `pytzdata` which `pendulum` relies on. These dependencies are handled for you to make the process seamless.\n",
    "\n",
    "Now we can import and use `pendulum` just like any other module. (Example adapted from the pendulum documentation.)"
   ]
  },
  {
   "cell_type": "code",
   "execution_count": 9,
   "metadata": {},
   "outputs": [],
   "source": [
    "import pendulum"
   ]
  },
  {
   "cell_type": "code",
   "execution_count": 11,
   "metadata": {},
   "outputs": [
    {
     "data": {
      "text/plain": [
       "DateTime(2019, 9, 10, 16, 58, 41, 748190, tzinfo=Timezone('Europe/Paris'))"
      ]
     },
     "execution_count": 11,
     "metadata": {},
     "output_type": "execute_result"
    }
   ],
   "source": [
    "now_in_paris = pendulum.now('Europe/Paris')\n",
    "now_in_paris"
   ]
  },
  {
   "cell_type": "code",
   "execution_count": 12,
   "metadata": {},
   "outputs": [
    {
     "data": {
      "text/plain": [
       "DateTime(2019, 9, 10, 14, 58, 41, 748190, tzinfo=Timezone('UTC'))"
      ]
     },
     "execution_count": 12,
     "metadata": {},
     "output_type": "execute_result"
    }
   ],
   "source": [
    "now_in_paris.in_timezone('UTC')"
   ]
  },
  {
   "cell_type": "code",
   "execution_count": 13,
   "metadata": {},
   "outputs": [
    {
     "data": {
      "text/plain": [
       "DateTime(2019, 9, 11, 16, 58, 41, 748190, tzinfo=Timezone('Europe/Paris'))"
      ]
     },
     "execution_count": 13,
     "metadata": {},
     "output_type": "execute_result"
    }
   ],
   "source": [
    "tomorrow_in_paris = now_in_paris.add(days=1)\n",
    "tomorrow_in_paris"
   ]
  },
  {
   "cell_type": "code",
   "execution_count": 15,
   "metadata": {},
   "outputs": [
    {
     "data": {
      "text/plain": [
       "'Wed, Sep 11, 2019 4:58 PM'"
      ]
     },
     "execution_count": 15,
     "metadata": {},
     "output_type": "execute_result"
    }
   ],
   "source": [
    "tomorrow_in_paris.to_day_datetime_string()"
   ]
  },
  {
   "cell_type": "markdown",
   "metadata": {},
   "source": [
    "Actually using 3rd party libraries will require you to read the documentation, follow examples, and most of all: experiment!\n",
    "\n",
    "[Click here to continue to the next section](5.2.ipynb)."
   ]
  }
 ],
 "metadata": {
  "kernelspec": {
   "display_name": "Python 3",
   "language": "python",
   "name": "python3"
  },
  "language_info": {
   "codemirror_mode": {
    "name": "ipython",
    "version": 3
   },
   "file_extension": ".py",
   "mimetype": "text/x-python",
   "name": "python",
   "nbconvert_exporter": "python",
   "pygments_lexer": "ipython3",
   "version": "3.7.4"
  }
 },
 "nbformat": 4,
 "nbformat_minor": 2
}
