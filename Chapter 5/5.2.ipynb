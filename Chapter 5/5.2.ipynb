{
 "cells": [
  {
   "cell_type": "markdown",
   "metadata": {},
   "source": [
    "## 5.2 – Working With Files\n",
    "### Files\n",
    "At some point once you start writing large applications you are likely to want to read from or write to a file on your system. You might be loading in a bunch of data to process, or you might be saving the progress that the player has made in your game. Even simple programs might want to store and load configuration settings in a separate file.\n",
    "\n",
    "To open a file in Python, we need to create a *stream*. A stream is an object which allows us to read and write to a sequence of data. That sequence of data does not need to be a file: we might have reason to create an in-memory stream, or we might be reading from a network connection (e.g. over the Internet). But for the purposes of this section, since we are dealing with files, the streams we are using are *file objects*.\n",
    "\n",
    "To open a file object, we can use the builtin `open` function. This function has many features, but most of the time you will only need to supply the first two arguments:\n",
    "```python\n",
    "open(filename, mode)\n",
    "```\n",
    "\n",
    "The first argument, `filename`, is the path of the file you wish to open. Normally you will provide the path as a string, though other options exist. If you write the name of a file on its own, Python will look in the same folder as the script that is running. So we can open the previous notebook by using `\"5.1.ipynb\"`.\n",
    "\n",
    "You can use normal Unix path commands (such as `..` to move up one directory) as well, so another valid path might be `\"../Chapter 1/1.1.ipynb\"`.\n",
    "\n",
    "The second argument, `mode`, is a string which controls two things. First, do we want to open the file in *text mode* or in *binary mode*? We will only use text mode in this section, but you might want binary mode if you are dealing with non-text files. The second option is whether we want to read from or write to the file.\n",
    "\n",
    "There are a few other options for appending, creating, or updating (both read and write) as well, but most of the time, these are the only modes you will need:\n",
    "* `\"r\"` read in text mode (same as `\"rt\"`)\n",
    "* `\"w\"` write in text mode (same as `\"wt\"`)\n",
    "* `\"rb\"` read in binary mode\n",
    "* `\"wb\"` write in binary mode\n",
    "\n",
    "So the following line will open the previous notebook file to read in text mode, and store the file object (the stream) in a variable called `file`:"
   ]
  },
  {
   "cell_type": "code",
   "execution_count": 4,
   "metadata": {},
   "outputs": [],
   "source": [
    "file = open(\"5.1.ipynb\", \"r\")"
   ]
  },
  {
   "cell_type": "markdown",
   "metadata": {},
   "source": [
    "Note that the file object itself is just a “connection” to the file. The file has been opened but its contents have not been read yet. \n",
    "\n",
    "To read or write, we need to use the corresponding methods.\n",
    "\n",
    "To read from a file:\n",
    "* `file.read()` which will read the entire file and return the result as a string\n",
    "* `file.read(n)` which reads `n` characters and returns the result as a string\n",
    "* `file.readline()` which reads until the end of a line and returns the result as a string\n",
    "* `file.readlines()` which reads the entire file and returns a *list of strings* broken into lines\n",
    "\n",
    "To write to a file:\n",
    "* `file.write(text)` which will write `text` to the file\n",
    "* `file.writelines(lines)` which will write a list of lines `lines` to a file\n",
    "\n",
    "##### Side Note: Lines\n",
    "\n",
    "While we commonly think about text files being split into lines, it is worth pausing for a second to think about what this actually means. A newline in a text file is actually represented by one or more special characters in the stream of text. It is only when we display it on the screen that we choose to split the text at this point: the actual text data is all sequential. \n",
    "\n",
    "There is some confusion between platforms for historical reasons, but *for the most part* modern applications will understand a single character called the *linefeed* to represent a newline. This character has the decimal ASCII value of 10. But we do not necessarily want our source code to split when we want to include a newline, so there is a special *escape sequence* which is almost universally recognised: `\\n`."
   ]
  },
  {
   "cell_type": "code",
   "execution_count": 7,
   "metadata": {},
   "outputs": [
    {
     "name": "stdout",
     "output_type": "stream",
     "text": [
      "This string\n",
      "is actually\n",
      "printed over\n",
      "multiple lines!\n"
     ]
    }
   ],
   "source": [
    "print(\"This string\\nis actually\\nprinted over\\nmultiple lines!\")"
   ]
  },
  {
   "cell_type": "markdown",
   "metadata": {},
   "source": [
    "When we read lines from a text file (using `.readlines()`), the newline character is included at the end of each string in the list. There is a demonstration in the code below.\n",
    "\n",
    "Notice we had to replace the single character `\\n` with `\\\\n` so that it would display as `\\n` instead of rendering as an actual line break! The `print` function adds a newline at the end of each line when it displays them, which is why we do not get all of the lines on the same line. (Keeping up with that...? Try deleting the `.replace` method in the code below and rerunning the cell.)"
   ]
  },
  {
   "cell_type": "code",
   "execution_count": 18,
   "metadata": {},
   "outputs": [
    {
     "name": "stdout",
     "output_type": "stream",
     "text": [
      "This is line 1 of a simple text file\\n\n",
      "This is line 2\\n\n",
      "\\n\n",
      "That previous line was blank\\n\n",
      "This is the final line, it does not end in a line break\n"
     ]
    }
   ],
   "source": [
    "file = open(\"./resources/text_file.txt\", \"r\")\n",
    "\n",
    "lines = file.readlines()\n",
    "\n",
    "for i in range(0, len(lines)):\n",
    "    print(lines[i].replace(\"\\n\", \"\\\\n\"))"
   ]
  },
  {
   "cell_type": "markdown",
   "metadata": {},
   "source": [
    "### Closing Files\n",
    "The code above is slightly lazy. When Python opens a file, it does so with the help of the operating system, which will only allow Python to open a certain number of files. If we keep opening files we will eventually hit the limit. Strictly speaking, we should close them after we are done.\n",
    "\n",
    "And we can do this with `file.close()`. This mantra: “always close your files!” has been the go-to advice in programming units for decades.\n",
    "\n",
    "***But*** *let's immediately caveat that advice.* It's 2019 and programming languages have evolved! You should never need to call the `.close()` method of a file object.\n",
    "\n",
    "The correct solution in modern Python is to use the `with` keyword. This is a block of code which allows us to open some resource, then when the block is exited it will properly perform any clean up the object requires, such as closing a file."
   ]
  },
  {
   "cell_type": "code",
   "execution_count": 19,
   "metadata": {},
   "outputs": [
    {
     "name": "stdout",
     "output_type": "stream",
     "text": [
      "This is line 1 of a simple text file\\n\n",
      "This is line 2\\n\n",
      "\\n\n",
      "That previous line was blank\\n\n",
      "This is the final line, it does not end in a line break\n"
     ]
    }
   ],
   "source": [
    "with open(\"./resources/text_file.txt\", \"r\") as file:\n",
    "    lines = file.readlines()\n",
    "\n",
    "for i in range(0, len(lines)):\n",
    "    print(lines[i].replace(\"\\n\", \"\\\\n\"))"
   ]
  },
  {
   "cell_type": "markdown",
   "metadata": {},
   "source": [
    "The reason this approach is better is because it will try to close the file even if something odd happens, like if an error occurs while reading the file.\n",
    "\n",
    "Notice that in the code above the file is only open for a single line: long enough for its entire contents to be read into the variable called `lines`. We then exit the `with` block, which closes the file, and continue processing the text however we like (in this case, just printing it).\n",
    "\n",
    "You should always use a `with` block when dealing with files. If you forget (or are feeling lazy), the file will be still be closed when your application closes. So if you are writing short programs that process text and exit, you are probably okay. If your programs run continually, you need to make sure they handle file opening and closing properly.\n",
    "\n",
    "### Writing\n",
    "Writing to files should be pretty self explanatory. Just beware that you won't necessarily get the same sort of precautions you might be used to with normal applications. When you open a file in write mode, any text written will **overwrite** the contents of that file, without warning."
   ]
  },
  {
   "cell_type": "code",
   "execution_count": 6,
   "metadata": {},
   "outputs": [
    {
     "name": "stdout",
     "output_type": "stream",
     "text": [
      "whoops\n"
     ]
    }
   ],
   "source": [
    "with open(\"test_file.txt\", \"w\") as file:\n",
    "    file.write(\"Imagine there is a really long important piece of information here\")\n",
    "    \n",
    "with open(\"test_file.txt\", \"w\") as file:\n",
    "    file.write(\"whoops\")\n",
    "    \n",
    "with open(\"test_file.txt\", \"r\") as file:\n",
    "    print(file.read())"
   ]
  },
  {
   "cell_type": "markdown",
   "metadata": {},
   "source": [
    "Rather than having lots of calls to `.write` in loops or in different places in your code, a good pattern to follow is to build up the data you wish to write to the file first as a variable (either as a string or a list of strings), and then only once you are ready to write to the file do you open the file in a `with` block. This means the file is only open for the shortest time necessary, minimising the risk of anything funny happening (such as two applications trying to write at the same time)."
   ]
  },
  {
   "cell_type": "code",
   "execution_count": 10,
   "metadata": {},
   "outputs": [],
   "source": [
    "# A function which reverses the lines of a file\n",
    "def reverselines(input_file, output_file):\n",
    "    with open(input_file, \"r\") as file:\n",
    "        lines = file.readlines()\n",
    "        \n",
    "    lines.reverse()\n",
    "    # add a line break to the new first line \n",
    "    lines[0] = lines[0] + \"\\n\"\n",
    "    # remove the line break from the new final line\n",
    "    lines[-1] = lines[-1][:-1]\n",
    "    \n",
    "    with open(output_file, \"w\") as file:\n",
    "        file.writelines(lines)\n",
    "    \n",
    "    \n",
    "reverselines(\"./resources/text_file.txt\", \"text_reversed.txt\")\n",
    "# you can open the new file via the File menu to check its contents,\n",
    "# or write some code below which reads and prints it"
   ]
  },
  {
   "cell_type": "markdown",
   "metadata": {},
   "source": [
    "[Click here to continue to the next section](5.3.ipynb)"
   ]
  }
 ],
 "metadata": {
  "kernelspec": {
   "display_name": "Python 3",
   "language": "python",
   "name": "python3"
  },
  "language_info": {
   "codemirror_mode": {
    "name": "ipython",
    "version": 3
   },
   "file_extension": ".py",
   "mimetype": "text/x-python",
   "name": "python",
   "nbconvert_exporter": "python",
   "pygments_lexer": "ipython3",
   "version": "3.7.4"
  }
 },
 "nbformat": 4,
 "nbformat_minor": 2
}
