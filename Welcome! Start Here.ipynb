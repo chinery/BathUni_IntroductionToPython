{
 "cells": [
  {
   "cell_type": "markdown",
   "metadata": {},
   "source": [
    "# Chapter 0 – Introduction\n",
    "## 0.0 – Welcome\n",
    "Please enjoy this video which will introduce the online unit. There is a transcript at the bottom of the page.\n",
    "\n",
    "<br />\n",
    "<center><video controls width=450 src=\"https://people.bath.ac.uk/cssmdv/Python/00_intro.mp4\">\n",
    "</video></center>\n",
    "\n",
    "### ⚠️ Warning ⚠️\n",
    "Jupyter is a framework that allows you to edit any of the material you see on screen. Getting hands on early is the best way to learn, and this means you can immediately start interacting with the code examples. The material you see is entirely local to you: none of the edits you make will be visible to anyone else. *However* this also means that ***none of your changes will be saved if you close the site***. So if you do any work that you want to preserve please make sure you keep a local copy in a text file. We will cover this in more detail in the [video introducing Jupyter](./Chapter%200/0.1.ipynb).\n",
    "\n",
    "### 🚧 Living Document 🚧\n",
    "This unit is a “living document”. All of the initial planned development has been completed, but updates will be made infrequently without notice, adding new content and fixing errors.\n",
    "\n",
    "You are viewing **version 1.3.1**. You can view a changelog [here](./resources/changelog.txt).\n",
    "\n",
    "### 📭 Get Help 📬\n",
    "I encourage *everyone* to join the [Slack community](http://bit.ly/uobcs-python-slack-19) if you haven't already. You can use the Slack for academic questions, if you are stuck on a problem, or otherwise want to discuss the course content. Tutors will be regularly checking to give support, but please feel free to answer each other's questions! Programming is made much easier when you feel part of a group.\n",
    "\n",
    "If you find any mistakes or technical problems with the unit please post in the `#technical-help` channel on Slack (or send a direct message to Andrew Chinery). Alternatively you can email the details to <a.k.chinery@bath.ac.uk>.\n",
    "\n",
    "\n",
    "### ⏳ Next Steps ⌛️\n",
    "The very first thing you should do is watch the [video introducing Jupyter](./Chapter%200/0.1.ipynb). \n",
    "\n",
    "After that you can get stuck in with the [first section](./Chapter%201/1.1.ipynb).\n",
    "\n",
    "You can always go back to the [table of contents](./Table%20of%20Contents.ipynb) if you get lost.\n",
    "\n",
    "> ### Video Transcript\n",
    "> Welcome to this online introduction to programming unit. There are two major components of learning to code: first you need to learn the stuff you actually type on your keyboard. The words and symbols that have special meaning to the computer. We call this the **syntax** of the **programming language**, and in this unit you will be using a language called Python. It's a great modern language with lots of cool features that make it powerful enough to use in the real world, yet still easy to learn.\n",
    ">\n",
    "> The other thing you need to learn is problem solving itself: part science, part engineering, part art. Programming is the process of implementing **algorithms**: sequences of simple actions that we can follow to perform some task. Good programmers do not just know a lot of syntax. They are able to take a brand new problem and work out a methodical, algorithmic approach that will solve it completely and efficiently. The way to get better at problem solving is practice. So for that reason, this entire unit is built in a framework called Jupyter, the site you are on right now. The code examples are not just pre-baked text on a screen like you would see in a video or lecture, they are real live code that you can run, modify, and experiment with. Still, this will not be enough to satisfy the requirement for practice. You need to seek out opportunities to actually try what you are learning to really become a programmer.\n",
    ">\n",
    "> If you have never programmed before then do not worry, we will start with the basics. Even if you have, the material in this unit is introduced in a slightly different order from most conventional programming units, so please try to work through it all in the order presented – it will make sense in the end. \n",
    ">\n",
    "> But before we get stuck into the programming itself there is one more video to watch, where I will give you a quick introduction to this framework, Jupyter, that you are on right now. It too is a bit unusual, so make sure to check that out next by following the link below this video.\n"
   ]
  }
 ],
 "metadata": {
  "kernelspec": {
   "display_name": "Python 3",
   "language": "python",
   "name": "python3"
  },
  "language_info": {
   "codemirror_mode": {
    "name": "ipython",
    "version": 3
   },
   "file_extension": ".py",
   "mimetype": "text/x-python",
   "name": "python",
   "nbconvert_exporter": "python",
   "pygments_lexer": "ipython3",
   "version": "3.7.4"
  }
 },
 "nbformat": 4,
 "nbformat_minor": 2
}
