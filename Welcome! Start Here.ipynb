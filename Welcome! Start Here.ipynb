{
 "cells": [
  {
   "cell_type": "markdown",
   "metadata": {},
   "source": [
    "# Chapter 0 – Introduction\n",
    "## 0.1 Welcome\n",
    "<img src=\"./resources/comingsoon.png\" width=500 align=left>"
   ]
  },
  {
   "cell_type": "markdown",
   "metadata": {},
   "source": [
    "### Table of Contents\n",
    "* Chapter 0 – Introduction\n",
    " * 0.1 – Welcome *— you are here!*\n",
    " * 0.2 – Using Jupyter Notebooks\n",
    " * 0.3 – Demo Notebook\n",
    "* [Chapter 1 – The Basics](./Chapter%201/1.1.ipynb)\n",
    " * [1.1 – Expressions](./Chapter%201/1.1.ipynb)\n",
    " * [1.2 – Variables](./Chapter%201/1.2.ipynb)\n",
    " * [1.3 – Type](./Chapter%201/1.3.ipynb)\n",
    " * [1.4 – Strings](./Chapter%201/1.4.ipynb)\n",
    "* Chapter 2 – Code Structure\n",
    " * 2.1 – Inbuilt Functions\n",
    " * 2.2 – Custom Functions\n",
    " * 2.3 – Selection\n",
    " * 2.4 – Iteration\n",
    " * 2.5 – Recursion\n",
    "* Chapter 3 – Programs \n",
    " * 3.1 Writing and Running Full Programs\n",
    " * 3.2 Print Statements\n",
    " * 3.3 Inputs\n",
    " * 3.4 Debugging\n",
    "* Chapter 4 – Data Structures\n",
    " * 4.1 Lists\n",
    " * 4.2 2D Lists\n",
    " * 4.3 Dictionaries\n",
    "* Chapter 5 – Object Oriented Programming\n",
    " * 5.1 Classes and Objects\n",
    " * 5.2 Inheritance\n",
    "* Chapter 6 – Further Topics\n",
    " * 6.1 Using Libraries\n",
    " * 6.2 Functional Programming Concepts"
   ]
  },
  {
   "cell_type": "code",
   "execution_count": null,
   "metadata": {},
   "outputs": [],
   "source": []
  }
 ],
 "metadata": {
  "kernelspec": {
   "display_name": "Python 3",
   "language": "python",
   "name": "python3"
  },
  "language_info": {
   "codemirror_mode": {
    "name": "ipython",
    "version": 3
   },
   "file_extension": ".py",
   "mimetype": "text/x-python",
   "name": "python",
   "nbconvert_exporter": "python",
   "pygments_lexer": "ipython3",
   "version": "3.6.1"
  }
 },
 "nbformat": 4,
 "nbformat_minor": 2
}
