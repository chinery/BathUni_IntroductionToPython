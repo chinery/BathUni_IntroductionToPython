{
 "cells": [
  {
   "cell_type": "markdown",
   "metadata": {},
   "source": [
    "*Remember to close this Notebook using File → Close and Halt once you have opened the one you want to work on.* \n",
    "\n",
    "# Table of Contents\n",
    "* ### Chapter 0 – Introduction\n",
    " * [0.0 – Welcome](./Welcome!%20Start%20Here.ipynb)\n",
    " * [0.1 – Using Jupyter Notebooks](./Chapter%200/0.1.ipynb)\n",
    " * [0.2 – Demo Notebook](./Chapter%200/0.2.ipynb)\n",
    "* ### Chapter 1 – The Basics\n",
    " * [1.1 – Expressions](./Chapter%201/1.1.ipynb)\n",
    " * [1.2 – Variables](./Chapter%201/1.2.ipynb)\n",
    " * [1.3 – Type](./Chapter%201/1.3.ipynb)\n",
    " * [1.4 – Strings](./Chapter%201/1.4.ipynb)\n",
    "* ### Chapter 2 – Code Structure\n",
    " * [2.1 – Inbuilt Functions](./Chapter%202/2.1.ipynb)\n",
    " * [2.2 – Custom Functions](./Chapter%202/2.2.ipynb)\n",
    " * [2.3 – Selection](./Chapter%202/2.3.ipynb)\n",
    " * [2.4 – Iteration](./Chapter%202/2.4.ipynb)\n",
    " * [2.5 – Recursion](./Chapter%202/2.5.ipynb)\n",
    "* ### Chapter 3 – Programs \n",
    " * [3.1 – Writing and Running Full Programs](./Chapter%203/3.1.ipynb)\n",
    " * [3.2 – Input and Output](./Chapter%203/3.2.ipynb)\n",
    " * [3.3 – Program Structure](./Chapter%203/3.3.ipynb)\n",
    " * [3.4 – Errors and Debugging](./Chapter%203/3.4.ipynb)\n",
    " * [3.5 – Demonstration Videos](./Chapter%203/3.5.ipynb)\n",
    "* ### Chapter 4 – Data Structures\n",
    " * [4.1 – Sequences and Lists](./Chapter%204/4.1.ipynb)\n",
    " * [4.2 – Tuples and 2D Structures](./Chapter%204/4.2.ipynb)\n",
    " * [4.3 – Sets, Dictionaries, and Comprehensions](./Chapter%204/4.3.ipynb)\n",
    "* ### Chapter 5 – Intermediate Topics\n",
    " * [5.1 – Importing Modules](./Chapter%205/5.1.ipynb)\n",
    " * [5.2 – Working With Files](./Chapter%205/5.2.ipynb)\n",
    "* ### Chapter 6 – Programming Paradigms\n",
    " * [6.1 – Procedural Programming](./Chapter%206/6.1.ipynb)\n",
    " * [6.2 – Object-Oriented Programming 1: Classes and Objects](./Chapter%206/6.2.ipynb)\n",
    " * [6.3 – Object-Oriented Programming 2: Inheritance](./Chapter%206/6.3.ipynb)\n",
    " * [6.4 – Functional Programming Concepts](./Chapter%206/6.4.ipynb)\n",
    " * [6.5 – Putting It All Together](./Chapter%206/6.5.ipynb)\n",
    "* #### [Appendix A – Jupyter Offline](./Appendices/A.ipynb)"
   ]
  }
 ],
 "metadata": {
  "kernelspec": {
   "display_name": "Python 3",
   "language": "python",
   "name": "python3"
  },
  "language_info": {
   "codemirror_mode": {
    "name": "ipython",
    "version": 3
   },
   "file_extension": ".py",
   "mimetype": "text/x-python",
   "name": "python",
   "nbconvert_exporter": "python",
   "pygments_lexer": "ipython3",
   "version": "3.7.4"
  }
 },
 "nbformat": 4,
 "nbformat_minor": 2
}
