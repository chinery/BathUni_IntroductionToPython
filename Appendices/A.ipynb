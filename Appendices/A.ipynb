{
 "cells": [
  {
   "cell_type": "markdown",
   "metadata": {},
   "source": [
    "# Appendix A – Jupyter Offline\n",
    "## Introduction\n",
    "This guide is intended for those who are already comfortable with the material and want to make more substantial changes that they can keep saved. At minimum you should have completed Chapter 3 before following this guide, but ideally the entire unit. Running Jupyter on your own machine requires some technical proficiency, and this guide is only meant to point you in the right direction (including being pointed to other guides!).\n",
    "\n",
    "If you just want to write some code that won't disappear when the server shuts down, e.g. for the exercises, I recommend you write them in any standard text editor on your machine (e.g. Atom, discussed in Chapter 3) and copy and paste your code into the notebook that you launch from Binder when you want to run the tests.\n",
    "\n",
    "## Step 1 – Get The Files\n",
    "The unit is currently hosted on GitHub. This will not be a guide to git or GitHub, but they are both tools which you can benefit immensely from knowing. \n",
    "\n",
    "Here is the URL: [https://github.com/chinery/BathUni_IntroductionToPython](https://github.com/chinery/BathUni_IntroductionToPython)\n",
    "\n",
    "### Option 1\n",
    "If you just want a copy of the files, then click the \"Clone or download\" button on the right hand side, then \"Download ZIP\". If the unit is updated later, you will have to check back and do this again (merging the files manually if you have modified them).\n",
    "\n",
    "### Option 2\n",
    "Alternatively if you know how to use git then you can check out the repository that way, and then it will be easier to keep it up to date, and you will get some assistance with merging. Look online for guides on how to use git on the command line.\n",
    "\n",
    "### Option 3\n",
    "Finally if you think you might want to actually contribute towards the development of this unit (after watching the material in [Section 6.5](../Chapter%206/6.5.ipynb) perhaps), then you can clone the repository to your own GitHub account, make the changes, and then create a pull request. Again, look online for guides about open source development with GitHub if you want to learn more about this.\n",
    "\n",
    "## Step 2 – Get Jupyter\n",
    "First we assume that you already have Python installed on your system (if not, you need to do that). Next you will need to install Jupyter.\n",
    "\n",
    "Go to this website: [https://jupyter.org/install.html](https://jupyter.org/install.html) and follow the instructions titled “Getting started with the classic Jupyter Notebook”. You should also be able to run the notebook with JupyterLab, but this has not been tested.\n",
    "\n",
    "## Step 3 – Run Jupyter\n",
    "Open your terminal/command line, and navigate to the folder which contains the code from GitHub. Now type the command:\n",
    "```\n",
    "jupyter notebook\n",
    "```\n",
    "\n",
    "All being well, Jupyter will run and your web browser will launch showing the file navigator. Open the files you want to modify, and have at it. Now, when you hit save, the changes will be saved to the files on your disc permanently.\n",
    "\n",
    "You may want to look into all the cool things you can do with Jupyter in other online guides."
   ]
  }
 ],
 "metadata": {
  "kernelspec": {
   "display_name": "Python 3",
   "language": "python",
   "name": "python3"
  },
  "language_info": {
   "codemirror_mode": {
    "name": "ipython",
    "version": 3
   },
   "file_extension": ".py",
   "mimetype": "text/x-python",
   "name": "python",
   "nbconvert_exporter": "python",
   "pygments_lexer": "ipython3",
   "version": "3.7.4"
  }
 },
 "nbformat": 4,
 "nbformat_minor": 2
}
