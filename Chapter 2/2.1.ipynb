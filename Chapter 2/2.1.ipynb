{
 "cells": [
  {
   "cell_type": "markdown",
   "metadata": {},
   "source": [
    "# Chapter 2 – Code Structure\n",
    "## Introduction\n",
    "Last chapter we looked at a lot of examples of *expressions*, lines of code which can be *evaluated* to produce an output. We also looked at how the result of any expression could be *assigned* to a variable for use later. Assignments are examples of *statements*, lines of code which *do something* other than producing values, which is the only thing an expression does.\n",
    "\n",
    "The code we've seen so far is basically a glorified calculator. We can write expressions which make complex calculations, and can store these results in variables, but computer programs do much more than that... where is the *logic*? That is the focus of this chapter.\n",
    "\n",
    "## Section 2.1 Inbuilt Functions\n",
    "### Functions\n",
    "A **function** is a *named block of code*. We often find ourselves needing to do the same thing multiple times in a program, and functions enable us to write many lines of code one time, then run them multiple times, possibly in many different parts of our program. We refer to running a function as **calling** the function.\n",
    "\n",
    "A function may (but does not have to) take *inputs* and produce an *output*. The inputs are called **parameters** or **arguments**, and the outputs are called **return values**. We say that we **pass in** the arguments, and that the function **returns** certain values.\n",
    "\n",
    "In Python, the syntax for calling a function is:\n",
    "```python\n",
    "function_name(arg_1, arg_2, arg_3)\n",
    "```\n",
    "\n",
    "Does this look familiar? It should! You have seen some examples of functions already before such as `type`, `len`, and `round`. Let's focus on `round` for a second. Here is another example of its use:"
   ]
  },
  {
   "cell_type": "code",
   "execution_count": 1,
   "metadata": {},
   "outputs": [
    {
     "data": {
      "text/plain": [
       "11"
      ]
     },
     "execution_count": 1,
     "metadata": {},
     "output_type": "execute_result"
    }
   ],
   "source": [
    "round(10.6)"
   ]
  },
  {
   "cell_type": "markdown",
   "metadata": {},
   "source": [
    "In this example\n",
    "```python\n",
    "round(10.6)\n",
    "```\n",
    "the function is `round`, the argument is `10.6`, and the return value is `10`.\n",
    "\n",
    "Here is another example:"
   ]
  },
  {
   "cell_type": "code",
   "execution_count": 3,
   "metadata": {},
   "outputs": [
    {
     "data": {
      "text/plain": [
       "32"
      ]
     },
     "execution_count": 3,
     "metadata": {},
     "output_type": "execute_result"
    }
   ],
   "source": [
    "pow(2, 5)"
   ]
  },
  {
   "cell_type": "markdown",
   "metadata": {},
   "source": [
    "The name is `pow`, and when the arguments are `2` and `5` the return value is `32`.\n",
    "\n",
    "Can you work out what it does from the name and the values shown? Remember you can always try changing the values and rerunning the cell.\n",
    "\n",
    "`pow(x, y)` calculates `x` to the power of `y`. Or written mathematically: $x^y$.\n",
    "\n",
    "We can also write this in Python using the `**` **operator**:"
   ]
  },
  {
   "cell_type": "code",
   "execution_count": 5,
   "metadata": {},
   "outputs": [
    {
     "data": {
      "text/plain": [
       "32"
      ]
     },
     "execution_count": 5,
     "metadata": {},
     "output_type": "execute_result"
    }
   ],
   "source": [
    "2 ** 5"
   ]
  },
  {
   "cell_type": "markdown",
   "metadata": {},
   "source": [
    "The difference between these two forms is *basically* just syntax. We call `**` an operator, and `pow` a function, but they both take two numbers as inputs and they both return a single number.\n",
    "\n",
    "You saw many other arithmetic and Boolean operators in chapter 1, such as addition `+` or NOT `not`. You can think of all operators as being a special syntax for common functions. \n",
    "\n",
    "We can mix and match operators and functions to create big expressions: "
   ]
  },
  {
   "cell_type": "code",
   "execution_count": 7,
   "metadata": {},
   "outputs": [
    {
     "data": {
      "text/plain": [
       "81"
      ]
     },
     "execution_count": 7,
     "metadata": {},
     "output_type": "execute_result"
    }
   ],
   "source": [
    "(len(\"string\") + round(10 / 3)) ** 2"
   ]
  },
  {
   "cell_type": "markdown",
   "metadata": {},
   "source": [
    "### Procedures\n",
    "We said earlier that functions *may* return values. This was a slight abuse of terminology. Technically, a **function** is a special type of **subroutine**. All **functions** return values. Some **subroutines** do not return values, and these are called **procedures**. It is common in everyday usage to be lax with the precise use of these terms, and in this unit we will mostly use the word function unless we are trying to make a specific point.\n",
    "\n",
    "There are a few builtin Python procedures that we will come across in later chapters. For now, here's one that is quite unusual but extremely helpful:"
   ]
  },
  {
   "cell_type": "code",
   "execution_count": 13,
   "metadata": {
    "scrolled": true
   },
   "outputs": [
    {
     "name": "stdout",
     "output_type": "stream",
     "text": [
      "Help on built-in function len in module builtins:\n",
      "\n",
      "len(obj, /)\n",
      "    Return the number of items in a container.\n",
      "\n"
     ]
    }
   ],
   "source": [
    "help(len)"
   ]
  },
  {
   "cell_type": "markdown",
   "metadata": {},
   "source": [
    "When we use the `help` procedure, we get some information about whatever *object* we pass in. This information is not *returned*, it is simply displayed on the screen. So `help` really is a procedure. You cannot assign `help(len)` to a variable. Well... you can, but the variable will be empty afterwards (try it above!).\n",
    "\n",
    "Jupyter has another help feature that will show a popup window when you run it. This is definitely *doing something* rather than *returning something*. The distinction between procedure and function is very similar to the one between statement and expression. Try running the cell below."
   ]
  },
  {
   "cell_type": "code",
   "execution_count": 15,
   "metadata": {},
   "outputs": [],
   "source": [
    "?len"
   ]
  },
  {
   "cell_type": "markdown",
   "metadata": {},
   "source": [
    "Both of these help features can be really useful when you are learning to program, but remember that the help page is not necessarily written for beginners. The one for `len` is short and sweet. You can always try, and if it is confusing, try looking elsewhere online. Of course, you will never see the `help` procedure inside a real program. It is only used while you are writing code and trying to work out what something does.\n",
    "\n",
    "\n",
    "### Some More Examples\n",
    "Here are three more inbuilt functions you might find useful in future: `max(x, y)`, `min(x, y)`, and `abs(x)`. They all take numbers as arguments. If you can't guess what they do just from their name, try experimenting with the cell below to see if you can work it out. You could try some example arguments, or use the help procedure."
   ]
  },
  {
   "cell_type": "code",
   "execution_count": 5,
   "metadata": {},
   "outputs": [],
   "source": [
    "# try using the functions max(x, y), min(x, y), and abs(x) here!\n",
    "# examples: max(3, 5), min(-1, 10), abs(-10)"
   ]
  },
  {
   "cell_type": "markdown",
   "metadata": {},
   "source": [
    "### String Functions\n",
    "So far we have been using several *types* of *data*: integers, floats, Booleans, and strings, to name a few. The individual instances of these *things* (the *literals*, the *variables*, the *arguments*...) are more properly called **objects**. This word has a very specific meaning which we will come back to in [Chapter 6](../Chapter%206/6.2.ipynb). For now, just think of it as the proper word for *thing*.\n",
    "\n",
    "String objects have their own special functions. Another name for a function that belongs to an object is a **method**, but again we will normally call them functions unless we are being deliberately precise.\n",
    "\n",
    "One example is the function called `find`. It allows us to find a character (or substring) inside a string, and tells us the index that it occurs. So if we wanted to find the character `\"i\"` in the string `\"string\"` the find function will return `3`. *(Remember that string indices start at 0.)*\n",
    "\n",
    "This function only works for strings. So rather than having a function that works like this\n",
    "```python\n",
    "find(\"string\", \"i\")\n",
    "```\n",
    "the function *belongs* to the string object, and is used like this:\n",
    "```python\n",
    "\"string\".find(\"i\")\n",
    "```"
   ]
  },
  {
   "cell_type": "code",
   "execution_count": 17,
   "metadata": {},
   "outputs": [
    {
     "data": {
      "text/plain": [
       "3"
      ]
     },
     "execution_count": 17,
     "metadata": {},
     "output_type": "execute_result"
    }
   ],
   "source": [
    "\"string\".find(\"i\")"
   ]
  },
  {
   "cell_type": "code",
   "execution_count": 26,
   "metadata": {},
   "outputs": [
    {
     "data": {
      "text/plain": [
       "2"
      ]
     },
     "execution_count": 26,
     "metadata": {},
     "output_type": "execute_result"
    }
   ],
   "source": [
    "\"string\".find(\"ring\")"
   ]
  },
  {
   "cell_type": "markdown",
   "metadata": {},
   "source": [
    "If the substring is not found, then the return value is `-1`."
   ]
  },
  {
   "cell_type": "code",
   "execution_count": 19,
   "metadata": {},
   "outputs": [
    {
     "data": {
      "text/plain": [
       "-1"
      ]
     },
     "execution_count": 19,
     "metadata": {},
     "output_type": "execute_result"
    }
   ],
   "source": [
    "\"string\".find(\"z\")"
   ]
  },
  {
   "cell_type": "markdown",
   "metadata": {},
   "source": [
    "Strings have lots of useful functions like this. Do not feel like you have to learn them all now. I commonly find myself reading the list that is available in the [Python documentation](https://docs.python.org/3/library/stdtypes.html#string-methods).\n",
    "\n",
    "**Caution:** we must be careful when using methods – they can be true *functions* or they may be *procedures*. All of the methods of string are functions. They all *return* a new value, they do not *change* the value of the string.\n",
    "\n",
    "The `replace` function returns a string with all instances of one string replaced with another. So\n",
    "```python\n",
    "\"string\".replace(\"i\", \"o\")\n",
    "```\n",
    "returns `\"strong\"`."
   ]
  },
  {
   "cell_type": "code",
   "execution_count": 24,
   "metadata": {},
   "outputs": [
    {
     "data": {
      "text/plain": [
       "'strong'"
      ]
     },
     "execution_count": 24,
     "metadata": {},
     "output_type": "execute_result"
    }
   ],
   "source": [
    "\"string\".replace(\"i\", \"o\")"
   ]
  },
  {
   "cell_type": "markdown",
   "metadata": {},
   "source": [
    "Guess the output of the following code, then run it and see if you are right:"
   ]
  },
  {
   "cell_type": "code",
   "execution_count": null,
   "metadata": {},
   "outputs": [],
   "source": [
    "text = \"I love Python\"\n",
    "text.replace(\"love\", \"hate\")\n",
    "text"
   ]
  },
  {
   "cell_type": "markdown",
   "metadata": {},
   "source": [
    "Did you get the answer right?\n",
    "\n",
    "I will create some space again so you do not accidentally read the answer...\n",
    "\n",
    "<br><br><br>\n",
    "\n",
    "The output of the above cell is still the original string. The word `love` is not changed into the word `hate`, why?\n",
    "\n",
    "The reason is because `replace` ***returns*** a value. It does not *change* the string. It is an *expression*, not a *statement*. It is a *function*, not a *procedure*.\n",
    "\n",
    "To actually update the variable with the new value, we must **capture** the return value by *assigning* it again:"
   ]
  },
  {
   "cell_type": "code",
   "execution_count": 25,
   "metadata": {},
   "outputs": [
    {
     "data": {
      "text/plain": [
       "'I hate Python'"
      ]
     },
     "execution_count": 25,
     "metadata": {},
     "output_type": "execute_result"
    }
   ],
   "source": [
    "text = \"I love Python\"\n",
    "text = text.replace(\"love\", \"hate\")\n",
    "text"
   ]
  },
  {
   "cell_type": "markdown",
   "metadata": {},
   "source": [
    "Now now, it's not that bad. The difference between a function that returns a value and a procedure that changes a value will become clear with practice, and there is a lot to practice, so...\n",
    "\n",
    "### Questions\n",
    "Have a go at the quiz for this section in the cell below!"
   ]
  },
  {
   "cell_type": "code",
   "execution_count": null,
   "metadata": {},
   "outputs": [],
   "source": [
    "%run ../scripts/interactive_questions ./questions/2.1.1q.txt"
   ]
  },
  {
   "cell_type": "markdown",
   "metadata": {},
   "source": [
    "Once you are done, move onto the [next section](2.2.ipynb), where you will learn how to write your own functions – the real programming is about to begin!"
   ]
  }
 ],
 "metadata": {
  "kernelspec": {
   "display_name": "Python 3",
   "language": "python",
   "name": "python3"
  },
  "language_info": {
   "codemirror_mode": {
    "name": "ipython",
    "version": 3
   },
   "file_extension": ".py",
   "mimetype": "text/x-python",
   "name": "python",
   "nbconvert_exporter": "python",
   "pygments_lexer": "ipython3",
   "version": "3.6.1"
  }
 },
 "nbformat": 4,
 "nbformat_minor": 2
}
