{
 "cells": [
  {
   "cell_type": "markdown",
   "metadata": {},
   "source": [
    "## Section 2.3 – Selection\n",
    "### Logical Structure\n",
    "Functions are interesting because they break up the *flow* of the code. Code is run line by line, starting with the first line of the code and ending with the last line. This is always fundamentally true, but functions allow the code flow to 'jump' to another section of code momentarily. Consider the following code:"
   ]
  },
  {
   "cell_type": "code",
   "execution_count": 11,
   "metadata": {},
   "outputs": [
    {
     "data": {
      "text/plain": [
       "1024"
      ]
     },
     "execution_count": 11,
     "metadata": {},
     "output_type": "execute_result"
    }
   ],
   "source": [
    "def f(x):\n",
    "    v1 = x**2\n",
    "    v2 = 2**x\n",
    "    return max(v1, v2)\n",
    "var = 10\n",
    "y = f(var)\n",
    "y"
   ]
  },
  {
   "cell_type": "markdown",
   "metadata": {},
   "source": [
    "If we read this code line by line we can work out what it is doing, but to work out certain lines we have to 'jump' to other sections of the code.\n",
    "\n",
    "Here is the code again with added line numbers:\n",
    "```python\n",
    "1    def f(x):\n",
    "2        v1 = x**2\n",
    "3        v2 = 2**x\n",
    "4        return max(v1, v2)\n",
    "5    var = 10\n",
    "6    y = f(var)\n",
    "7    y\n",
    "```\n",
    "\n",
    "Imagine we are the computer running the code from top to bottom. \n",
    "* First we run lines `1`, `2`, `3`, and `4`. These define the function `f`. After running these lines the function has been created, but none of the code inside the function is actually *executed* because the function has not been *called*.\n",
    "* On line `5` we create a variable called `var` with the value `10`.\n",
    "* On line `6` we call the function `f` with its parameter `x` set to the value of `var` (which is `10`):\n",
    " * So the *code flow* jumps back to line `1`, **but** we remember that we came from line `6`\n",
    " * Line `2` calculates $10^2=100$ and assigns it to `v1`\n",
    " * Line `3` calculates $2^{10}=1024$ and assigns it to `v2`\n",
    " * Then line `4` returns the maximum value of the two, which is `v2` \n",
    "* Since we hit a return statement we go back to the line we remembered: line `6`. We are not done with this line. We have *evaluated* the *expression* on the right hand side of the *assignment*, but we still need to complete the assignment itself. We create the new variable `y` with the value of `1024`.\n",
    "* Finally, line `7` outputs the value of `y` so we can see it in Jupyter.\n",
    "\n",
    "Keeping track of how the execution *flows* through the code is crucial to being able to understand code.\n",
    "\n",
    "### If Statements\n",
    "In the questions of last section we asked you to write a function which swapped the first and last characters of a string. Hopefully you wrote something like this:"
   ]
  },
  {
   "cell_type": "code",
   "execution_count": 16,
   "metadata": {},
   "outputs": [
    {
     "data": {
      "text/plain": [
       "'oellh'"
      ]
     },
     "execution_count": 16,
     "metadata": {},
     "output_type": "execute_result"
    }
   ],
   "source": [
    "def swap_ends(s):\n",
    "    return s[-1] + s[1:-1] + s[0]\n",
    "\n",
    "swap_ends('hello')"
   ]
  },
  {
   "cell_type": "markdown",
   "metadata": {},
   "source": [
    "One important caveat of that question was that the string would always have a length of 2 or bigger. Do you know why? Well, look at what happens if we call this function with a string of length 1:"
   ]
  },
  {
   "cell_type": "code",
   "execution_count": 17,
   "metadata": {},
   "outputs": [
    {
     "data": {
      "text/plain": [
       "'tt'"
      ]
     },
     "execution_count": 17,
     "metadata": {},
     "output_type": "execute_result"
    }
   ],
   "source": [
    "swap_ends('t')"
   ]
  },
  {
   "cell_type": "markdown",
   "metadata": {},
   "source": [
    "If a string only has one character then that one character is the first and the last character, so the output should be the same as the input: `'t'`.\n",
    "\n",
    "Hopefully you can see why this happens:\n",
    "* `s[-1]` is equal to `'t'`\n",
    "* `s[1:-1]` is empty, it is equal to `''`\n",
    "* `s[0]` is also equal to `'t'`\n",
    "\n",
    "So this isn't ideal. \n",
    "\n",
    "Even worse, what should the result of `swap_ends('')` be? The string is empty, it has no first and last character to swap, but it seems reasonable that the output should just be an empty string as well. But:"
   ]
  },
  {
   "cell_type": "code",
   "execution_count": 18,
   "metadata": {},
   "outputs": [
    {
     "ename": "IndexError",
     "evalue": "string index out of range",
     "output_type": "error",
     "traceback": [
      "\u001b[0;31m---------------------------------------------------------------------------\u001b[0m",
      "\u001b[0;31mIndexError\u001b[0m                                Traceback (most recent call last)",
      "\u001b[0;32m<ipython-input-18-b042881c9f1e>\u001b[0m in \u001b[0;36m<module>\u001b[0;34m\u001b[0m\n\u001b[0;32m----> 1\u001b[0;31m \u001b[0mswap_ends\u001b[0m\u001b[0;34m(\u001b[0m\u001b[0;34m''\u001b[0m\u001b[0;34m)\u001b[0m\u001b[0;34m\u001b[0m\u001b[0m\n\u001b[0m",
      "\u001b[0;32m<ipython-input-16-30ae2965ad9f>\u001b[0m in \u001b[0;36mswap_ends\u001b[0;34m(s)\u001b[0m\n\u001b[1;32m      1\u001b[0m \u001b[0;32mdef\u001b[0m \u001b[0mswap_ends\u001b[0m\u001b[0;34m(\u001b[0m\u001b[0ms\u001b[0m\u001b[0;34m)\u001b[0m\u001b[0;34m:\u001b[0m\u001b[0;34m\u001b[0m\u001b[0m\n\u001b[0;32m----> 2\u001b[0;31m     \u001b[0;32mreturn\u001b[0m \u001b[0ms\u001b[0m\u001b[0;34m[\u001b[0m\u001b[0;34m-\u001b[0m\u001b[0;36m1\u001b[0m\u001b[0;34m]\u001b[0m \u001b[0;34m+\u001b[0m \u001b[0ms\u001b[0m\u001b[0;34m[\u001b[0m\u001b[0;36m1\u001b[0m\u001b[0;34m:\u001b[0m\u001b[0;34m-\u001b[0m\u001b[0;36m1\u001b[0m\u001b[0;34m]\u001b[0m \u001b[0;34m+\u001b[0m \u001b[0ms\u001b[0m\u001b[0;34m[\u001b[0m\u001b[0;36m0\u001b[0m\u001b[0;34m]\u001b[0m\u001b[0;34m\u001b[0m\u001b[0m\n\u001b[0m\u001b[1;32m      3\u001b[0m \u001b[0;34m\u001b[0m\u001b[0m\n\u001b[1;32m      4\u001b[0m \u001b[0mswap_ends\u001b[0m\u001b[0;34m(\u001b[0m\u001b[0;34m'hello'\u001b[0m\u001b[0;34m)\u001b[0m\u001b[0;34m\u001b[0m\u001b[0m\n",
      "\u001b[0;31mIndexError\u001b[0m: string index out of range"
     ]
    }
   ],
   "source": [
    "swap_ends('')"
   ]
  },
  {
   "cell_type": "markdown",
   "metadata": {},
   "source": [
    "We get an error. The code is always trying to access elements so will fail on an empty string. This is a common mistake when dealing with strings.\n",
    "\n",
    "Dealing with unusual inputs is part of writing **robust** code. It is good practice to try to think about what kind of unusual inputs might break your code and account for them explicitly.\n",
    "\n",
    "What we would like to say is this:\n",
    "* if the input string is 0 or 1 characters long, then return it unchanged\n",
    "* otherwise, swap the first and last characters\n",
    "\n",
    "This is implemented with a feature called an **if statement**. An if statement allows the code to *branch* based on some condition. This is an extremely powerful and natural way to structure the logic of our program. Most interesting problems *require* some branching logic that if statements can provide.\n",
    "\n",
    "Here is the syntax for an if statement:\n",
    "```python\n",
    "if condition:\n",
    "    # this code runs if condition evaluates to true\n",
    "else:\n",
    "    # this code runs if condition evaluates to false\n",
    "```\n",
    "\n",
    "The `else` section is optional, and sometimes this larger construction is called an `if-then-else` statement.\n",
    "\n",
    "Here are some really simple examples of if statements."
   ]
  },
  {
   "cell_type": "code",
   "execution_count": 4,
   "metadata": {},
   "outputs": [
    {
     "data": {
      "text/plain": [
       "5"
      ]
     },
     "execution_count": 4,
     "metadata": {},
     "output_type": "execute_result"
    }
   ],
   "source": [
    "x = 10\n",
    "if x > 5:\n",
    "    x = 5\n",
    "\n",
    "x"
   ]
  },
  {
   "cell_type": "code",
   "execution_count": 5,
   "metadata": {},
   "outputs": [
    {
     "data": {
      "text/plain": [
       "True"
      ]
     },
     "execution_count": 5,
     "metadata": {},
     "output_type": "execute_result"
    }
   ],
   "source": [
    "x = 10\n",
    "y = 20\n",
    "if x < y:\n",
    "    x = y\n",
    "else:\n",
    "    y = x\n",
    "\n",
    "x == y  "
   ]
  },
  {
   "cell_type": "markdown",
   "metadata": {},
   "source": [
    "And here's an updated version of `swap_ends` showing how we can actually put an if statement to use:"
   ]
  },
  {
   "cell_type": "code",
   "execution_count": 19,
   "metadata": {},
   "outputs": [
    {
     "data": {
      "text/plain": [
       "'oellh'"
      ]
     },
     "execution_count": 19,
     "metadata": {},
     "output_type": "execute_result"
    }
   ],
   "source": [
    "def better_swap_ends(s):\n",
    "    if len(s) < 2:\n",
    "        return s\n",
    "    else:\n",
    "        return s[-1] + s[1:-1] + s[0]\n",
    "    \n",
    "better_swap_ends('hello')"
   ]
  },
  {
   "cell_type": "code",
   "execution_count": 20,
   "metadata": {},
   "outputs": [
    {
     "data": {
      "text/plain": [
       "'t'"
      ]
     },
     "execution_count": 20,
     "metadata": {},
     "output_type": "execute_result"
    }
   ],
   "source": [
    "better_swap_ends('t')"
   ]
  },
  {
   "cell_type": "code",
   "execution_count": 21,
   "metadata": {},
   "outputs": [
    {
     "data": {
      "text/plain": [
       "''"
      ]
     },
     "execution_count": 21,
     "metadata": {},
     "output_type": "execute_result"
    }
   ],
   "source": [
    "better_swap_ends('')"
   ]
  },
  {
   "cell_type": "markdown",
   "metadata": {},
   "source": [
    "### Examples\n",
    "Here are some more examples of programs with if statements. Remember you can edit any Python cells to experiment – learn by doing!\n",
    "\n",
    "In the example below, you can see an extension of the if statement. `elif` is a contraction of “else if”. It allows us to write a second condition which will only be checked if the first condition returns `False`. "
   ]
  },
  {
   "cell_type": "code",
   "execution_count": 22,
   "metadata": {},
   "outputs": [
    {
     "data": {
      "text/plain": [
       "'hello'"
      ]
     },
     "execution_count": 22,
     "metadata": {},
     "output_type": "execute_result"
    }
   ],
   "source": [
    "def remove_equal_ends(s):\n",
    "    if len(s) < 1:\n",
    "        return s\n",
    "    elif s[0] == s[-1]:\n",
    "        return s[1:-1]\n",
    "    else:\n",
    "        return s\n",
    "    \n",
    "remove_equal_ends(\"hello\")"
   ]
  },
  {
   "cell_type": "code",
   "execution_count": 23,
   "metadata": {},
   "outputs": [
    {
     "data": {
      "text/plain": [
       "'loh'"
      ]
     },
     "execution_count": 23,
     "metadata": {},
     "output_type": "execute_result"
    }
   ],
   "source": [
    "remove_equal_ends(\"aloha\")"
   ]
  },
  {
   "cell_type": "markdown",
   "metadata": {},
   "source": [
    "Any code is allowed within an if statement, including another if statement! We call this *nesting*. The following code includes nested if statements. Pay close attention to the *indentation* of the lines. After all of the if statements is a return statement which is one level indented. It is run in the usual way after all of the if statements, no matter how they evaluated."
   ]
  },
  {
   "cell_type": "code",
   "execution_count": 51,
   "metadata": {},
   "outputs": [
    {
     "data": {
      "text/plain": [
       "20100.0"
      ]
     },
     "execution_count": 51,
     "metadata": {},
     "output_type": "execute_result"
    }
   ],
   "source": [
    "def income_after_tax(income):\n",
    "    tax = 0\n",
    "    if income > 12500:\n",
    "        tax = tax + (income - 12500) * 0.2\n",
    "        if income > 50000:\n",
    "            tax = tax + (income - 50000) * 0.2\n",
    "            if income > 100000:\n",
    "                # personal allowance goes down £1 per £2 over £100k\n",
    "                allowance_lost = min(((income - 100000) // 2), 12500)\n",
    "                tax = tax + allowance_lost * 0.4\n",
    "                if income > 150000:\n",
    "                    tax = tax + (income - 150000) * 0.05\n",
    "                \n",
    "    return income - tax\n",
    "\n",
    "income_after_tax(22000)"
   ]
  },
  {
   "cell_type": "code",
   "execution_count": 54,
   "metadata": {},
   "outputs": [
    {
     "data": {
      "text/plain": [
       "78500.0"
      ]
     },
     "execution_count": 54,
     "metadata": {},
     "output_type": "execute_result"
    }
   ],
   "source": [
    "income_after_tax(115000)"
   ]
  },
  {
   "cell_type": "code",
   "execution_count": 55,
   "metadata": {},
   "outputs": [
    {
     "data": {
      "text/plain": [
       "103000.0"
      ]
     },
     "execution_count": 55,
     "metadata": {},
     "output_type": "execute_result"
    }
   ],
   "source": [
    "income_after_tax(160000)"
   ]
  },
  {
   "cell_type": "markdown",
   "metadata": {},
   "source": [
    "*Note: No guarantees this income tax calculator is correct. Please do not use it to fill out any official paperwork.*\n",
    "\n",
    "Remember that if statements work with any expression which evaluates to a `True` or `False` value. This leads to a natural English-language use of Boolean operations like `and` and `or`. To code the English sentence \"if x is greater than 5 and less than 10\" we can write the code `if x > 5 and x < 10`. Notice we have to repeat the variable name, we are joining two separate Boolean comparisons with an `and`, *not* just converting the English sentence word by word.\n",
    "\n",
    "Here is a more complex example:"
   ]
  },
  {
   "cell_type": "code",
   "execution_count": 6,
   "metadata": {},
   "outputs": [
    {
     "data": {
      "text/plain": [
       "5.6"
      ]
     },
     "execution_count": 6,
     "metadata": {},
     "output_type": "execute_result"
    }
   ],
   "source": [
    "def m6_toll_car_fee(hour, day):\n",
    "    \"\"\"\n",
    "    Returns the fee in £ for a car on the 'mainline' route of the M6 toll\n",
    "    \n",
    "    :param hour: an integer representing the time of day\n",
    "    :param day: a three letter string representing the day of the week: \"Mon\", \"Tue\", etc\n",
    "    \n",
    "    :Example:\n",
    "    \n",
    "    m6_toll_car_fee(7, \"Sat\")\n",
    "    \"\"\"\n",
    "    if hour >= 5 and hour < 23 and (day == \"Sat\" or day == \"Sun\"):\n",
    "        # day weekend rate\n",
    "        return 5.60\n",
    "    elif (hour < 5 or hour == 23) and (day == \"Sat\" or day == \"Sun\"):\n",
    "        # night weekend rate\n",
    "        return 4.20\n",
    "    elif hour >= 7 and hour < 19:\n",
    "        # day weekday rate\n",
    "        return 6.70\n",
    "    elif (hour >= 5 and hour < 7) or (hour >= 19 and hour < 23):\n",
    "        # off-peak weekday rate\n",
    "        return 6.60\n",
    "    else:\n",
    "        # must be between 11pm and 5am on a weekday\n",
    "        # night weekday rate\n",
    "        return 4.20\n",
    "    \n",
    "m6_toll_car_fee(7, \"Sat\")"
   ]
  },
  {
   "cell_type": "markdown",
   "metadata": {},
   "source": [
    "#### More Than One Way To Peel An Orange\n",
    "Whenever a return statement is executed, the function ends. So if we have a return statement inside an if statement, then we know that any code *after* the if statement must have had a `False` condition in the if statement.\n",
    "\n",
    "In other words, instead of writing this:\n",
    "```python\n",
    "def between_5_and_10(x):\n",
    "    if x >= 5:\n",
    "        if x <= 10:\n",
    "            return True\n",
    "        else:\n",
    "            return False\n",
    "    else:\n",
    "        return False\n",
    "```\n",
    "\n",
    "we can write this:\n",
    "```python\n",
    "def between_5_and_10(x):\n",
    "    if x >= 5:\n",
    "        if x <= 10:\n",
    "            return True\n",
    "    return False\n",
    "```\n",
    "there is no need for the `else` statements, because if the if statement condition had been met then the function would have hit a return statement and ended its execution. Writing code after an if statement which contains a return is the same as writing it in an else statement.\n",
    "\n",
    "Nested if statements are equivalent to using an `and` operation. So that previous block of code can be written like this:\n",
    "```python\n",
    "def between_5_and_10(x):\n",
    "    if x >= 5 and x <= 10:\n",
    "        return True\n",
    "    return False\n",
    "```\n",
    "\n",
    "Similarly, sometimes we find ourselves doing the same thing in multiple `elif` statements such as this example:\n",
    "```python\n",
    "def between_5_and_10(x):\n",
    "    if x < 5:\n",
    "        return False\n",
    "    elif x > 10:\n",
    "        return False\n",
    "    return True\n",
    "```\n",
    "\n",
    "And we can simplify that by using an `or` operation:\n",
    "```python\n",
    "def between_5_and_10(x):\n",
    "    if x < 5 or x > 10:\n",
    "        return False\n",
    "    return True\n",
    "```\n",
    "\n",
    "Actually... one of the fun things about Python is how many little shortcut features it has - other languages tend to be a bit more stubborn. In Python, you can write `x >= 5 and x <= 10` using the kind of notation we'd use in maths: `5 <= x <= 10`.\n",
    "```python\n",
    "def between_5_and_10(x):\n",
    "    if 5 <= x <= 10:\n",
    "        return True\n",
    "    return False\n",
    "```\n",
    "\n",
    "***But actually...*** this function is checking a Boolean value in an if statement, and then returning the same Boolean value! The “best” (or at least most *elegant*) way to write this function is without an if statement at all:\n",
    "```python\n",
    "def between_5_and_10(x):\n",
    "    return 5 <= x <= 10\n",
    "```\n",
    "\n",
    "Programmers value a few things in code. It should be efficient (not take too long to run), and it should be readable. But it's also nice when code is elegant – this does not always mean fewer lines, it's hard to define but you know it when you see it. These factors often go hand in hand. \n",
    "\n",
    "But you shouldn't worry *too* much about trying to write “nice” code when you are still learning. Once you have a solution that works, *then* think about whether you could have achieved the goal in a better way. Over time, the more elegant solutions will become the first ones you think of."
   ]
  },
  {
   "cell_type": "markdown",
   "metadata": {},
   "source": [
    "### Questions\n",
    "Run the cell below to do the interactive quiz on if statements, and then complete the individual function exercises that follow."
   ]
  },
  {
   "cell_type": "code",
   "execution_count": null,
   "metadata": {
    "scrolled": false
   },
   "outputs": [],
   "source": [
    "%run ../scripts/interactive_questions ./questions/2.3.1q.txt"
   ]
  },
  {
   "cell_type": "markdown",
   "metadata": {},
   "source": [
    "#### Question 1: Absolute Value\n",
    "Write your own implementation of the absolute value `abs` function, using an if statement. As a reminder, the absolute value should return a positive version of any input number. You may not use the `abs` function, obviously! So `abs(5)` is `5` and `abs(-5)` is also `5`. More examples in the cell below."
   ]
  },
  {
   "cell_type": "code",
   "execution_count": 11,
   "metadata": {},
   "outputs": [
    {
     "name": "stdout",
     "output_type": "stream",
     "text": [
      "Example tests for function absolute\n",
      "\n",
      "Test 1/5: absolute(5) -> 5\n",
      "Test 2/5: absolute(-5) -> 5\n",
      "Test 3/5: absolute(0) -> 0\n",
      "Test 4/5: absolute(-10000000000000) -> 10000000000000\n",
      "Test 5/5: absolute(-0.5) -> 0.5\n"
     ]
    }
   ],
   "source": [
    "%run ../scripts/show_examples.py ./questions/2.3/absolute"
   ]
  },
  {
   "cell_type": "code",
   "execution_count": null,
   "metadata": {},
   "outputs": [],
   "source": [
    "def absolute(val):\n",
    "    pass\n",
    "\n",
    "%run -i ../scripts/function_tester.py ./questions/2.3/absolute"
   ]
  },
  {
   "cell_type": "markdown",
   "metadata": {},
   "source": [
    "#### Question 2: Is Even\n",
    "Write a function that calculates whether an input number is even. A number is even if it can be written as $2n$ where $n$ is an integer. Another way of saying this is that it is even if it divides by 2 with no remainder."
   ]
  },
  {
   "cell_type": "code",
   "execution_count": 12,
   "metadata": {},
   "outputs": [
    {
     "name": "stdout",
     "output_type": "stream",
     "text": [
      "Example tests for function is_even\n",
      "\n",
      "Test 1/5: is_even(2) -> True\n",
      "Test 2/5: is_even(4) -> True\n",
      "Test 3/5: is_even(1) -> False\n",
      "Test 4/5: is_even(3) -> False\n",
      "Test 5/5: is_even(0) -> True\n"
     ]
    }
   ],
   "source": [
    "%run ../scripts/show_examples.py ./questions/2.3/is_even"
   ]
  },
  {
   "cell_type": "code",
   "execution_count": null,
   "metadata": {},
   "outputs": [],
   "source": [
    "def is_even(val):\n",
    "    pass\n",
    "\n",
    "%run -i ../scripts/function_tester.py ./questions/2.3/is_even"
   ]
  },
  {
   "cell_type": "markdown",
   "metadata": {},
   "source": [
    "*Bonus: did you use an if statement? It's possible to write this function without one. Have a go. If you're not sure, reread the [text above](#More-Than-One-Way-To-Peel-An-Orange)...*"
   ]
  },
  {
   "cell_type": "markdown",
   "metadata": {},
   "source": [
    "#### Question 3: Censorship\n",
    "We all know that four letter words are the most likely to be rude, so let's censor them – replace every character with an asterisk `*`. We also don't want any plurals of rude words, so if a five letter word ends in `s` we'll censor that too. But we still want people to know it was a five letter word, where's the fun if people can't guess what the word was? So make sure you use the right number of asterisks."
   ]
  },
  {
   "cell_type": "code",
   "execution_count": 1,
   "metadata": {},
   "outputs": [
    {
     "name": "stdout",
     "output_type": "stream",
     "text": [
      "Example tests for function censor\n",
      "\n",
      "Test 1/5: censor('hello') -> 'hello'\n",
      "Test 2/5: censor('hell') -> '****'\n",
      "Test 3/5: censor('love') -> '****'\n",
      "Test 4/5: censor('trees') -> '*****'\n",
      "Test 5/5: censor('balderdash') -> 'balderdash'\n"
     ]
    }
   ],
   "source": [
    "%run ../scripts/show_examples.py ./questions/2.3/censor"
   ]
  },
  {
   "cell_type": "code",
   "execution_count": null,
   "metadata": {},
   "outputs": [],
   "source": [
    "def censor(word):\n",
    "    pass\n",
    "    \n",
    "%run -i ../scripts/function_tester.py ./questions/2.3/censor"
   ]
  },
  {
   "cell_type": "markdown",
   "metadata": {},
   "source": [
    "Once you are done you should move onto the [next section](2.4.ipynb)."
   ]
  }
 ],
 "metadata": {
  "kernelspec": {
   "display_name": "Python 3",
   "language": "python",
   "name": "python3"
  },
  "language_info": {
   "codemirror_mode": {
    "name": "ipython",
    "version": 3
   },
   "file_extension": ".py",
   "mimetype": "text/x-python",
   "name": "python",
   "nbconvert_exporter": "python",
   "pygments_lexer": "ipython3",
   "version": "3.6.1"
  }
 },
 "nbformat": 4,
 "nbformat_minor": 2
}
