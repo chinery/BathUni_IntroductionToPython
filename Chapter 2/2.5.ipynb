{
 "cells": [
  {
   "cell_type": "markdown",
   "metadata": {},
   "source": [
    "## Section 2.5 – Recursion\n",
    "### Functions of Functions\n",
    "Functions are named blocks of code. You can write any code in a function, including calls to other functions."
   ]
  },
  {
   "cell_type": "code",
   "execution_count": 1,
   "metadata": {},
   "outputs": [
    {
     "data": {
      "text/plain": [
       "30"
      ]
     },
     "execution_count": 1,
     "metadata": {},
     "output_type": "execute_result"
    }
   ],
   "source": [
    "def function_one(x):\n",
    "    if x > 0:\n",
    "        return function_two(x)\n",
    "    else:\n",
    "        return x * 2\n",
    "    \n",
    "def function_two(x):\n",
    "    if x < 0:\n",
    "        return function_one(x)\n",
    "    else:\n",
    "        return x * 3\n",
    "    \n",
    "function_one(10)"
   ]
  },
  {
   "cell_type": "markdown",
   "metadata": {},
   "source": [
    "Of course this should not be news to you. We've been using functions like `len` inside our own functions since we first introduced them.\n",
    "\n",
    "### Recursion\n",
    "But here's a weird thing: functions can also call *themselves*. This is called **recursion**. Here is a really trivial example of a recursive function that implements `abs(x)` (note it is *not* a good way to implement this function, just a demonstration)."
   ]
  },
  {
   "cell_type": "code",
   "execution_count": 2,
   "metadata": {},
   "outputs": [
    {
     "data": {
      "text/plain": [
       "10"
      ]
     },
     "execution_count": 2,
     "metadata": {},
     "output_type": "execute_result"
    }
   ],
   "source": [
    "def recursion(x):\n",
    "    if x < 0:\n",
    "        return recursion(-x)\n",
    "    else:\n",
    "        return x\n",
    "    \n",
    "recursion(-10)"
   ]
  },
  {
   "cell_type": "markdown",
   "metadata": {},
   "source": [
    "Read that code carefully. When the input for `x` is positive it is just returned. When it is negative, we call the function again with the value of `x` multiplied by `-1` (this is what writing `-x` does). Of course, we could have just written `return -x` instead.\n",
    "\n",
    "Here's a slightly more sophisticated example which calculates the *factorial* of a number. The factorial of $n$ is calculated by taking the product (multiplication) of all positive integers from $n$ to $1$. So five factorial, written $5!$ is calculated like this $$5! = 5 \\times 4 \\times 3 \\times 2 \\times 1 = 120$$"
   ]
  },
  {
   "cell_type": "code",
   "execution_count": 3,
   "metadata": {},
   "outputs": [
    {
     "data": {
      "text/plain": [
       "120"
      ]
     },
     "execution_count": 3,
     "metadata": {},
     "output_type": "execute_result"
    }
   ],
   "source": [
    "def factorial(n):\n",
    "    if n == 1:\n",
    "        return 1\n",
    "    else:\n",
    "        return n * factorial(n-1)\n",
    "    \n",
    "factorial(5)"
   ]
  },
  {
   "cell_type": "markdown",
   "metadata": {},
   "source": [
    "What's happening here? Well, when we call `factorial(5)`, we check if `n` is equal to `1`, which it isn't, so we get to the line: `return n * factorial(n-1)`. This is where all that practice evaluating expressions comes in! We can't evaluate the `*` until we have a value for the right hand side. So first, we must evaluate `factorial(n-1)`, i.e. `factorial(4)`. So, we put aside our value of `n`, and go call `factorial(4)`...\n",
    "\n",
    "Inside `factorial(4)` we have the same dilemma. We need to know the value of `factorial(3)`, so we put aside our value of `n` and call `factorial(3)`. But `factorial(3)` requires `factorial(2)`, which requires `factorial(1)`... finally we have a return value! `factorial(1)` returns `1`. So now the code goes back through all of previous function calls:\n",
    "* `factorial(2)` returns `2 * 1`, which is `2`\n",
    "* `factorial(3)` returns `3 * 2`, which is `6`\n",
    "* `factorial(4)` returns `4 * 6`, which is `24`\n",
    "* `factorial(5)` returns `5 * 24`, which is `120`\n",
    "\n",
    "And we are done.\n",
    "\n",
    "Recursion is a lot like iteration. We could have written the factorial function like this:"
   ]
  },
  {
   "cell_type": "code",
   "execution_count": 4,
   "metadata": {},
   "outputs": [
    {
     "data": {
      "text/plain": [
       "120"
      ]
     },
     "execution_count": 4,
     "metadata": {},
     "output_type": "execute_result"
    }
   ],
   "source": [
    "def factorial_itr(n):\n",
    "    total = 1\n",
    "    # remember that range(a, b) goes from a to b-1\n",
    "    for i in range(2, n+1):\n",
    "        total *= i\n",
    "    return total\n",
    "\n",
    "factorial_itr(5)"
   ]
  },
  {
   "cell_type": "markdown",
   "metadata": {},
   "source": [
    "Recursion is an alternative to using a loop. Anything written with recursion can be written with iteration, and vice versa. But some code really lends itself to being written recursively or iteratively. When using Python, you should probably lean towards using a loop as your first option – every time you make a recursive call Python has to remember what line of code to go back to and any local variables, so it is slightly less efficient.\n",
    "\n",
    "Some languages are built around the idea of recursive functions and have limited or no support for loops. These are called *functional* programming languages. We will learn some concepts from functional programming that we can use in Python in a later chapter.\n",
    "\n",
    "### Another Example\n",
    "Another common demonstration of the power of recursion is the *Fibonacci* sequence. This sequence is defined like this:\n",
    "$$\\begin{align} \n",
    "    f(0) &= 0 \\\\\n",
    "    f(1) &= 1 \\\\\n",
    "    f(n) &= f(n-1) + f(n-2) \\text{ for all } n > 1\n",
    "\\end{align}$$\n",
    "\n",
    "Each value after $0$ and $1$ are found by summing the previous two values. So the third value is $0 + 1 = 1$, then $1 + 1 = 2$, then $1 + 2 = 3$, then $2 + 3 = 5$, and so on.\n",
    "\n",
    "The sequence is famous for having lots of interesting properties, you can read more [on Wikipedia](https://en.wikipedia.org/wiki/Fibonacci_number).\n",
    "\n",
    "To write a recursive function, we generally want to follow a pattern that looks something like this:\n",
    "```python\n",
    "def recursive(x):\n",
    "    if <base case>:\n",
    "        return <some actual value>\n",
    "    else:\n",
    "        return ... recursive(<move towards base case>)\n",
    "```\n",
    "\n",
    "This is the pattern we used to write `factorial` above. The base case was that when `n` equals `1`, we know the return value should be `1`. Then whenever we make the recursive call, we move towards the base case – for `factorial` that means making the number one smaller, so we know we will eventually reach `1` for all positive integers.\n",
    "\n",
    "Here's a recursive version of a function which calculates the nth Fibonacci number:"
   ]
  },
  {
   "cell_type": "code",
   "execution_count": 8,
   "metadata": {},
   "outputs": [
    {
     "data": {
      "text/plain": [
       "13"
      ]
     },
     "execution_count": 8,
     "metadata": {},
     "output_type": "execute_result"
    }
   ],
   "source": [
    "def fibonacci_v1(n):\n",
    "    if n == 0:\n",
    "        return 0\n",
    "    elif n == 1:\n",
    "        return 1\n",
    "    else:\n",
    "        return fibonacci_v1(n-1) + fibonacci_v1(n-2)\n",
    "    \n",
    "fibonacci_v1(7)"
   ]
  },
  {
   "cell_type": "markdown",
   "metadata": {},
   "source": [
    "This function has two base cases, one for `0` and one for `1`.\n",
    "\n",
    "The function works, but even reasonable values of `n` cause it to run quite slowly."
   ]
  },
  {
   "cell_type": "code",
   "execution_count": 10,
   "metadata": {},
   "outputs": [
    {
     "data": {
      "text/plain": [
       "832040"
      ]
     },
     "execution_count": 10,
     "metadata": {},
     "output_type": "execute_result"
    }
   ],
   "source": [
    "fibonacci_v1(30)"
   ]
  },
  {
   "cell_type": "markdown",
   "metadata": {},
   "source": [
    "Go much larger than this and the function will cause an error: there is a limit on how many recursive calls a function is allowed to make. \n",
    "\n",
    "The problem is that every time the function is called it makes two function calls. Each of those makes two function calls, and so on. This is very inefficient.\n",
    "```\n",
    "               f(4)\n",
    "              /    \\\n",
    "             /      \\\n",
    "            /        \\\n",
    "         f(3)         f(2)\n",
    "        /    \\       /    \\\n",
    "       /      \\   f(1)    f(0)\n",
    "    f(2)      f(1) |       |\n",
    "   /    \\      |   1       0\n",
    "f(1)    f(0)   1\n",
    " |       |\n",
    " 1       0\n",
    "```\n",
    "Now imagine what the tree for `f(30)` would look like.\n",
    "\n",
    "An iterative version of Fibonacci would not have this problem. But we can code an efficient recursive version too, and it even lets us demonstrate a nice Python feature: we can include **default values** for our function parameters. Have a look:"
   ]
  },
  {
   "cell_type": "code",
   "execution_count": 14,
   "metadata": {},
   "outputs": [
    {
     "data": {
      "text/plain": [
       "832040"
      ]
     },
     "execution_count": 14,
     "metadata": {},
     "output_type": "execute_result"
    }
   ],
   "source": [
    "def fibonacci_v2(n, last_sum=1, sum_so_far=0):\n",
    "    if n == 0:\n",
    "        return sum_so_far\n",
    "    else:\n",
    "        return fibonacci_v2(n-1, sum_so_far, last_sum + sum_so_far)\n",
    "    \n",
    "fibonacci_v2(30)"
   ]
  },
  {
   "cell_type": "markdown",
   "metadata": {},
   "source": [
    "Take a bit of time to read this code. Try writing out some examples on paper to see how it works. It is much more efficient, allowing us to compute far larger Fibonacci numbers relatively quickly:"
   ]
  },
  {
   "cell_type": "code",
   "execution_count": 17,
   "metadata": {},
   "outputs": [
    {
     "data": {
      "text/plain": [
       "43466557686937456435688527675040625802564660517371780402481729089536555417949051890403879840079255169295922593080322634775209689623239873322471161642996440906533187938298969649928516003704476137795166849228875"
      ]
     },
     "execution_count": 17,
     "metadata": {},
     "output_type": "execute_result"
    }
   ],
   "source": [
    "fibonacci_v2(1000)"
   ]
  },
  {
   "cell_type": "markdown",
   "metadata": {},
   "source": [
    "Still, Python is not optimised for recursion the way that many functional languages are. So if you keep increasing the value for `n`, you will eventually hit the maximum recursion depth and get an error."
   ]
  },
  {
   "cell_type": "markdown",
   "metadata": {},
   "source": [
    "### Questions\n",
    "#### Question 1: Reverse String\n",
    "Write a recursive function that reverses an input string. *Hint: follow the general pattern above, and use the length of the string as the basis for the base case.*"
   ]
  },
  {
   "cell_type": "code",
   "execution_count": 3,
   "metadata": {},
   "outputs": [
    {
     "name": "stdout",
     "output_type": "stream",
     "text": [
      "Example tests for function reverse\n",
      "\n",
      "Test 1/5: reverse('hello') -> 'olleh'\n",
      "Test 2/5: reverse('zebra') -> 'arbez'\n",
      "Test 3/5: reverse('fiddledeedee') -> 'eedeedelddif'\n",
      "Test 4/5: reverse('balderdash') -> 'hsadredlab'\n",
      "Test 5/5: reverse('recursion is more fun than looping') -> 'gnipool naht nuf erom si noisrucer'\n"
     ]
    }
   ],
   "source": [
    "%run ../scripts/show_examples.py ./questions/2.5/reverse"
   ]
  },
  {
   "cell_type": "code",
   "execution_count": null,
   "metadata": {},
   "outputs": [],
   "source": [
    "def reverse(text):\n",
    "    pass\n",
    "    \n",
    "%run -i ../scripts/function_tester.py ./questions/2.5/reverse"
   ]
  },
  {
   "cell_type": "markdown",
   "metadata": {},
   "source": [
    "#### Question 2: Recursive Collatz Conjecture\n",
    "Last section we looked at an interesting mathematical sequence which always seems to end up resulting in a $1$, but this has not been proven. Writing it mathematically, the sequence is formed by successive applications of the following function:\n",
    "\n",
    "$$f(n) = \\begin{cases} \n",
    "      3n+1 & n \\text{ is odd} \\\\\n",
    "      \\frac{n}{2} & n \\text{ is even} \n",
    "   \\end{cases}$$\n",
    "   \n",
    "The Collatz conjecture asks: for any positive integer $n$, is $f^i(n)=1$ for some $i$?\n",
    "\n",
    "For this question, write the simulation of the Collatz conjecture using recursion instead of iteration. Return the number of steps required to reach $1$. \n",
    "\n",
    "You may assume that the input `n` is greater than or equal to `1`."
   ]
  },
  {
   "cell_type": "code",
   "execution_count": 3,
   "metadata": {},
   "outputs": [
    {
     "name": "stdout",
     "output_type": "stream",
     "text": [
      "Example tests for function collatz\n",
      "\n",
      "Test 1/5: collatz(2) -> 1\n",
      "Test 2/5: collatz(3) -> 7\n",
      "Test 3/5: collatz(4) -> 2\n",
      "Test 4/5: collatz(5) -> 5\n",
      "Test 5/5: collatz(6) -> 8\n"
     ]
    }
   ],
   "source": [
    "%run ../scripts/show_examples.py ./questions/2.5/collatz"
   ]
  },
  {
   "cell_type": "code",
   "execution_count": null,
   "metadata": {},
   "outputs": [],
   "source": [
    "def collatz(n):\n",
    "    pass\n",
    "    \n",
    "%run -i ../scripts/function_tester.py ./questions/2.5/collatz"
   ]
  },
  {
   "cell_type": "markdown",
   "metadata": {},
   "source": [
    "Think about the benefits and trade-offs of writing the Collatz function recursively. One trade-off is the maximum recursion depth, which isn't a problem with iteration. However, the way you end up writing the recursive version has an elegance to it – it is closer to the way we would write the function mathematically. For some problems a recursive solution is easier to implement for this reason – sometimes greatly so. So, do not discard recursion just because iteration is conceptually easier. It is an important tool to have in your toolbox.\n",
    "\n",
    "Once you have done the questions you can move onto the [next chapter](../Chapter%203/3.1.ipynb)."
   ]
  }
 ],
 "metadata": {
  "kernelspec": {
   "display_name": "Python 3",
   "language": "python",
   "name": "python3"
  },
  "language_info": {
   "codemirror_mode": {
    "name": "ipython",
    "version": 3
   },
   "file_extension": ".py",
   "mimetype": "text/x-python",
   "name": "python",
   "nbconvert_exporter": "python",
   "pygments_lexer": "ipython3",
   "version": "3.7.4"
  }
 },
 "nbformat": 4,
 "nbformat_minor": 2
}
