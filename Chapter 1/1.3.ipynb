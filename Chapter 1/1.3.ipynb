{
 "cells": [
  {
   "cell_type": "markdown",
   "metadata": {},
   "source": [
    "## Section 1.3 – Type\n",
    "### Numbers\n",
    "In the previous two sections we've been using numbers a lot to demonstrate how Python code gets processed. We also used the two Boolean values `True` and `False`. Numbers and Booleans are examples of **types**.\n",
    "\n",
    "When data is stored in a computer, it is stored in *binary* – a sequence of 0s and 1s. Suppose you are given some binary data, such as:\n",
    "```\n",
    "1000011\n",
    "```\n",
    "Question: what does this binary represent?\n",
    "\n",
    "The answer is... no idea! We can certainly *guess* at some sensible options. But the reality is we don't know what  format the data is stored in. This is where *type* comes in. If we know that this binary represents a positive integer, we can work out the number is 67. But there are many other possible valid interpretations. We mentioned before that `False` can  be stored as `0` and `True` can be stored as `1`, so this binary could also represent 7 Boolean values: `True False False False False True True`.\n",
    "\n",
    "We can find the type of a particular value in Python using the following syntax: `type(x)`. In these examples we show the type of the number `10` and the Boolean `True`:"
   ]
  },
  {
   "cell_type": "code",
   "execution_count": 1,
   "metadata": {},
   "outputs": [
    {
     "data": {
      "text/plain": [
       "int"
      ]
     },
     "execution_count": 1,
     "metadata": {},
     "output_type": "execute_result"
    }
   ],
   "source": [
    "type(10)"
   ]
  },
  {
   "cell_type": "markdown",
   "metadata": {},
   "source": [
    "`type(10)` gives `int` – 10 is a type of number called an *integer* (whole number)"
   ]
  },
  {
   "cell_type": "code",
   "execution_count": 2,
   "metadata": {},
   "outputs": [
    {
     "data": {
      "text/plain": [
       "bool"
      ]
     },
     "execution_count": 2,
     "metadata": {},
     "output_type": "execute_result"
    }
   ],
   "source": [
    "type(True)"
   ]
  },
  {
   "cell_type": "markdown",
   "metadata": {},
   "source": [
    "`type(True)` gives `bool` – Python's shorthand for Boolean\n",
    "\n",
    "This is a new format of code from what you've seen before. `type(x)` is called a **function** – any *expression* written in the place of `x` will first be *evaluated*, then the *type* of the result will be output.\n",
    "\n",
    "I have cleared the output field of the following cells. Try to guess what the type will be, then run them and see if you are right:"
   ]
  },
  {
   "cell_type": "code",
   "execution_count": null,
   "metadata": {},
   "outputs": [],
   "source": [
    "type(10 + 20)"
   ]
  },
  {
   "cell_type": "code",
   "execution_count": null,
   "metadata": {},
   "outputs": [],
   "source": [
    "type(True or not False)"
   ]
  },
  {
   "cell_type": "code",
   "execution_count": null,
   "metadata": {},
   "outputs": [],
   "source": [
    "type(10 / 2)"
   ]
  },
  {
   "cell_type": "markdown",
   "metadata": {},
   "source": [
    "No one will blame you if you didn't get the third one right. Obviously the result of 10 ÷ 2 is 5, so why does its type come up as `float` rather than `int`?\n",
    "\n",
    "`float` is short for **floating point**. This is the format that computers use to store fractional (decimal) numbers. We know that 10 ÷ 2 results in an integer, but for other divisions this isn't always true. When you divide two numbers using `/` in Python, the result is *always* a float. Python will indicate this by writing `5.0` instead of `5`, as the following pieces of code show:"
   ]
  },
  {
   "cell_type": "code",
   "execution_count": 7,
   "metadata": {},
   "outputs": [
    {
     "data": {
      "text/plain": [
       "5.0"
      ]
     },
     "execution_count": 7,
     "metadata": {},
     "output_type": "execute_result"
    }
   ],
   "source": [
    "10 / 2"
   ]
  },
  {
   "cell_type": "code",
   "execution_count": 8,
   "metadata": {},
   "outputs": [
    {
     "data": {
      "text/plain": [
       "float"
      ]
     },
     "execution_count": 8,
     "metadata": {},
     "output_type": "execute_result"
    }
   ],
   "source": [
    "type(5.0)"
   ]
  },
  {
   "cell_type": "code",
   "execution_count": 9,
   "metadata": {},
   "outputs": [
    {
     "data": {
      "text/plain": [
       "int"
      ]
     },
     "execution_count": 9,
     "metadata": {},
     "output_type": "execute_result"
    }
   ],
   "source": [
    "type(5)"
   ]
  },
  {
   "cell_type": "markdown",
   "metadata": {},
   "source": [
    "### Variables\n",
    "Python is a *dynamically typed* language. You do not really need to know what that means, except that Python will generally do a good job of keeping track of type for you. We do not need to declare the type of a variable when we create it, which we would have had to in many other languages.\n",
    "\n",
    "Cells in jupyter notebooks run in one big environment, so if we make a variable in one cell we can modify and use it in another cell, as you can see in the examples below. Just make sure you run them in the right order! These demonstrate how Python keeps track of what is assigned to a variable even if you change its type."
   ]
  },
  {
   "cell_type": "code",
   "execution_count": 15,
   "metadata": {},
   "outputs": [
    {
     "data": {
      "text/plain": [
       "int"
      ]
     },
     "execution_count": 15,
     "metadata": {},
     "output_type": "execute_result"
    }
   ],
   "source": [
    "num = 10\n",
    "type(num)"
   ]
  },
  {
   "cell_type": "code",
   "execution_count": 16,
   "metadata": {},
   "outputs": [
    {
     "data": {
      "text/plain": [
       "float"
      ]
     },
     "execution_count": 16,
     "metadata": {},
     "output_type": "execute_result"
    }
   ],
   "source": [
    "num = num / 2\n",
    "type(num)"
   ]
  },
  {
   "cell_type": "markdown",
   "metadata": {},
   "source": [
    "### Useful Operations\n",
    "However, we do occasionally want to have control over the type of our data. Suppose we are doing division where we *want* the answer to be an integer."
   ]
  },
  {
   "cell_type": "code",
   "execution_count": 25,
   "metadata": {},
   "outputs": [
    {
     "data": {
      "text/plain": [
       "66.66666666666667"
      ]
     },
     "execution_count": 25,
     "metadata": {},
     "output_type": "execute_result"
    }
   ],
   "source": [
    "200 / 3"
   ]
  },
  {
   "cell_type": "markdown",
   "metadata": {},
   "source": [
    "There are a few options for this. \n",
    "\n",
    "#### Integer Division\n",
    "If we use `//` instead of `/` this will perform *integer division*:"
   ]
  },
  {
   "cell_type": "code",
   "execution_count": 26,
   "metadata": {},
   "outputs": [
    {
     "data": {
      "text/plain": [
       "66"
      ]
     },
     "execution_count": 26,
     "metadata": {},
     "output_type": "execute_result"
    }
   ],
   "source": [
    "200 // 3"
   ]
  },
  {
   "cell_type": "markdown",
   "metadata": {},
   "source": [
    "The integer division operation has a useful counterpart called *modulo*. This shows the *remainder after integer division* and is written with `%`:"
   ]
  },
  {
   "cell_type": "code",
   "execution_count": 27,
   "metadata": {},
   "outputs": [
    {
     "data": {
      "text/plain": [
       "2"
      ]
     },
     "execution_count": 27,
     "metadata": {},
     "output_type": "execute_result"
    }
   ],
   "source": [
    "200 % 3"
   ]
  },
  {
   "cell_type": "markdown",
   "metadata": {},
   "source": [
    "The two operations `//` and `%` can be used to answer a division question with a remainder. \n",
    "\n",
    "For example: what is 200 divided by 3? It is 66 remainder 2.\n",
    "\n",
    "In general: what is `x` divided by `y`? It is `x // y` remainder `x % y`.\n",
    "\n",
    "#### Type Conversion\n",
    "If we already have a decimal number we can directly convert it to an integer:"
   ]
  },
  {
   "cell_type": "code",
   "execution_count": 1,
   "metadata": {},
   "outputs": [
    {
     "data": {
      "text/plain": [
       "66"
      ]
     },
     "execution_count": 1,
     "metadata": {},
     "output_type": "execute_result"
    }
   ],
   "source": [
    "num = 200 / 3\n",
    "num = int(num)\n",
    "num"
   ]
  },
  {
   "cell_type": "markdown",
   "metadata": {},
   "source": [
    "Here we used the *function* called `int(x)` to convert the number into an integer.\n",
    "\n",
    "#### Rounding\n",
    "Notice that both of the previous techniques simply *truncate* (throw away) the decimal part of the floating point number. If you wish to round to create an integer, you can use the `round(x)` function:"
   ]
  },
  {
   "cell_type": "code",
   "execution_count": 2,
   "metadata": {},
   "outputs": [
    {
     "data": {
      "text/plain": [
       "67"
      ]
     },
     "execution_count": 2,
     "metadata": {},
     "output_type": "execute_result"
    }
   ],
   "source": [
    "num = 200 / 3\n",
    "num = round(num)\n",
    "num"
   ]
  },
  {
   "cell_type": "markdown",
   "metadata": {},
   "source": [
    "Again, we will talk more about functions in the next section.\n",
    "\n",
    "#### Combining Types\n",
    "Type is useful for understanding what sort of operations make sense. We can do\n",
    "```python\n",
    "10 + 20\n",
    "```\n",
    "and\n",
    "```python\n",
    "True and True\n",
    "```\n",
    "but\n",
    "```python\n",
    "True + True\n",
    "```\n",
    "doesn't really make sense. The addition operation is defined for two numbers and the result is a number, and the AND operation is defined for two Booleans and the result is a Boolean.\n",
    "\n",
    "*Advanced Note: actually, remember how I said you can think of `True` as being equal to `1`? It actually **is**. So `True + True` equals `2`. That's just confusing though, so I don't recommend you actually do arithmetic with Booleans in any normal setting*.\n",
    "\n",
    "There are some very common operations that combine both types. Guess what the result of the following cell is before you run it:"
   ]
  },
  {
   "cell_type": "code",
   "execution_count": null,
   "metadata": {},
   "outputs": [],
   "source": [
    "type(10 > 2)"
   ]
  },
  {
   "cell_type": "markdown",
   "metadata": {},
   "source": [
    "... I'll try not to spoil the answer.\n",
    "\n",
    "Had a go yet?\n",
    "\n",
    "Okay, the result is a Boolean. If you recognise the symbol then you will know it means \"greater than\". 10 is greater than 2, so the result is True, a Boolean.\n",
    "\n",
    "You can use all of the following operations to compare two numbers (and other things, as you'll see later)\n",
    "\n",
    "|Operation |  Code   |\n",
    "|:---------|:-------:|\n",
    "|Greater than| `>` |\n",
    "|Less than| `<` |\n",
    "|Greater than or equal| `>=` |\n",
    "|Less than or equal| `<=` |\n",
    "|Equal| `==` |\n",
    "|Not equal| `!=` |"
   ]
  },
  {
   "cell_type": "code",
   "execution_count": 40,
   "metadata": {},
   "outputs": [
    {
     "data": {
      "text/plain": [
       "True"
      ]
     },
     "execution_count": 40,
     "metadata": {},
     "output_type": "execute_result"
    }
   ],
   "source": [
    "10 > 2"
   ]
  },
  {
   "cell_type": "code",
   "execution_count": 41,
   "metadata": {
    "scrolled": true
   },
   "outputs": [
    {
     "data": {
      "text/plain": [
       "False"
      ]
     },
     "execution_count": 41,
     "metadata": {},
     "output_type": "execute_result"
    }
   ],
   "source": [
    "5 == 2"
   ]
  },
  {
   "cell_type": "markdown",
   "metadata": {},
   "source": [
    "Notice here there is a very important difference between `5 == 2` and `5 = 2`! The latter will be interpreted as an assignment. But `5` is not a variable, so this would give an error. This common mistake becomes more subtle with variables, so you really need to be careful:"
   ]
  },
  {
   "cell_type": "code",
   "execution_count": 44,
   "metadata": {},
   "outputs": [
    {
     "data": {
      "text/plain": [
       "False"
      ]
     },
     "execution_count": 44,
     "metadata": {},
     "output_type": "execute_result"
    }
   ],
   "source": [
    "num = 5\n",
    "# The following line is an expression, when evaluated it outputs False\n",
    "num == 2"
   ]
  },
  {
   "cell_type": "code",
   "execution_count": 47,
   "metadata": {},
   "outputs": [
    {
     "data": {
      "text/plain": [
       "2"
      ]
     },
     "execution_count": 47,
     "metadata": {},
     "output_type": "execute_result"
    }
   ],
   "source": [
    "num = 5 \n",
    "# The following line is a statement, when executed it changes the value of num!\n",
    "num = 2\n",
    "num"
   ]
  },
  {
   "cell_type": "markdown",
   "metadata": {},
   "source": [
    "#### Questions\n",
    "As usual have a go at the quiz below to test your understanding so far."
   ]
  },
  {
   "cell_type": "code",
   "execution_count": null,
   "metadata": {},
   "outputs": [],
   "source": [
    "%run ../scripts/interactive_questions ./questions/1.3.1q.txt"
   ]
  },
  {
   "cell_type": "markdown",
   "metadata": {},
   "source": [
    "Once you've done that, you can move onto the [final section](1.4.ipynb) of this chapter."
   ]
  }
 ],
 "metadata": {
  "kernelspec": {
   "display_name": "Python 3",
   "language": "python",
   "name": "python3"
  },
  "language_info": {
   "codemirror_mode": {
    "name": "ipython",
    "version": 3
   },
   "file_extension": ".py",
   "mimetype": "text/x-python",
   "name": "python",
   "nbconvert_exporter": "python",
   "pygments_lexer": "ipython3",
   "version": "3.7.4"
  }
 },
 "nbformat": 4,
 "nbformat_minor": 2
}
