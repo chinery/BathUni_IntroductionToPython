{
 "cells": [
  {
   "cell_type": "markdown",
   "metadata": {},
   "source": [
    "## Section 1.2 – Variables\n",
    "### Long Calculations\n",
    "Last time we looked at expressions, small blocks of code that we can evaluate to produce a value, like `2 + 3` or `True or False`."
   ]
  },
  {
   "cell_type": "code",
   "execution_count": 1,
   "metadata": {},
   "outputs": [
    {
     "data": {
      "text/plain": [
       "5"
      ]
     },
     "execution_count": 1,
     "metadata": {},
     "output_type": "execute_result"
    }
   ],
   "source": [
    "2 + 3"
   ]
  },
  {
   "cell_type": "code",
   "execution_count": 2,
   "metadata": {},
   "outputs": [
    {
     "data": {
      "text/plain": [
       "True"
      ]
     },
     "execution_count": 2,
     "metadata": {},
     "output_type": "execute_result"
    }
   ],
   "source": [
    "True or False"
   ]
  },
  {
   "cell_type": "markdown",
   "metadata": {},
   "source": [
    "Now, suppose we wanted to calculate something a bit more complicated. \n",
    "\n",
    "My dog is massive, and so he eats a lot of food. Here is a picture of him:\n",
    "\n",
    "<img src=\"./resources/1.2.1.jpg\" alt=\"Massive Newfoundland dog\" align=\"left\" width=200 />"
   ]
  },
  {
   "cell_type": "markdown",
   "metadata": {},
   "source": [
    "The guidelines on the side of his current bag of food say that for a dog of his age, he should eat **100g of food per day per 10kg body weight**. Since he is 70kg, that means he should eat 700g of food per day.\n",
    "\n",
    "Sadly, he has been showing some signs of food allergies, so I would like to try him on another source of protein. I know for certain that he is *not* allergic to eggs. Of course, this would not be a balanced diet, but how many eggs would he need to eat per day to meet his daily calorie requirement? *Note: do not feed a dog only eggs! Talk to your vet about nutritional requirements.*\n",
    "\n",
    "I know that his current food provides 3600kcal/kg. A medium egg is about 60kcal. So how many eggs a day would he need to eat?\n",
    "\n",
    "We could work this out in one long arithmetic expression, but it would not be much fun. "
   ]
  },
  {
   "cell_type": "code",
   "execution_count": 5,
   "metadata": {},
   "outputs": [
    {
     "data": {
      "text/plain": [
       "42.0"
      ]
     },
     "execution_count": 5,
     "metadata": {},
     "output_type": "execute_result"
    }
   ],
   "source": [
    "70 / 10 * 100 / 1000 * 3600 / 60"
   ]
  },
  {
   "cell_type": "markdown",
   "metadata": {},
   "source": [
    "The answer I got is 42 eggs. *Note: again – do not feed your dog 42 eggs in one day.*\n",
    "\n",
    "*Can you keep track of what's going on there?*\n",
    "\n",
    "How confident am I that the answer is right, or might I have made a mistake? <br>\n",
    "If I write this down somewhere and come back to it later will I have any idea what is going on?<br>\n",
    "And if I want to change something – calculate this for another dog, or a different sized egg – what do I change? "
   ]
  },
  {
   "cell_type": "markdown",
   "metadata": {},
   "source": [
    "### Variables\n",
    "Thankfully, we can make this situation much better using **variables**. A variable is a named value. You can create variables with almost any name you like, set their values, change them, and use them in other expressions. Variables are an essential part of programming, they:\n",
    "1. Make code easier to read\n",
    "2. Make code easier to change\n",
    "3. Enable code that would be impossible as a single expression\n",
    "\n",
    "Linking back to the introduction of [section 1.1](1.1.ipynb), variables allow us to separate the **data** from the **instructions**."
   ]
  },
  {
   "cell_type": "markdown",
   "metadata": {},
   "source": [
    "To create a new variable in Python called `weight` with a value equal to `70`, we write:\n",
    "```python\n",
    "weight = 70\n",
    "```\n",
    "\n",
    "This is called **assignment**, and is an example of a **statement**. Statements, unlike expressions, do not produce a resulting value. Notice that when we run a cell containing an expression in jupyter, we get a label that says `Out[x]:`"
   ]
  },
  {
   "cell_type": "code",
   "execution_count": 6,
   "metadata": {},
   "outputs": [
    {
     "data": {
      "text/plain": [
       "70"
      ]
     },
     "execution_count": 6,
     "metadata": {},
     "output_type": "execute_result"
    }
   ],
   "source": [
    "70"
   ]
  },
  {
   "cell_type": "markdown",
   "metadata": {},
   "source": [
    "`Out` is short for output. The output of the expression `70` is just `70`. The output of `70 + 1` is `71`.\n",
    "\n",
    "The following cell has no output line:"
   ]
  },
  {
   "cell_type": "code",
   "execution_count": 8,
   "metadata": {},
   "outputs": [],
   "source": [
    "weight = 70"
   ]
  },
  {
   "cell_type": "markdown",
   "metadata": {},
   "source": [
    "Not because it didn't run properly – you can try running it as many times as you like. It just didn't produce an output.\n",
    "* We can **evaluate** an **expression** to get an output\n",
    "* We can **execute** a **statement** to *do something*\n",
    "\n",
    "#### Assignments\n",
    "The left hand side of an assignment is a variable **name**. The right hand side is **any expression**. \n",
    "\n",
    "So the statement \n",
    "```python\n",
    "weight = 70\n",
    "``` \n",
    "*assigns* the value `70` to the name `weight`. If we use `weight` in a later expression, it will act as if we had written the value `70`."
   ]
  },
  {
   "cell_type": "code",
   "execution_count": 9,
   "metadata": {},
   "outputs": [
    {
     "data": {
      "text/plain": [
       "7.0"
      ]
     },
     "execution_count": 9,
     "metadata": {},
     "output_type": "execute_result"
    }
   ],
   "source": [
    "weight = 70\n",
    "weight / 10"
   ]
  },
  {
   "cell_type": "markdown",
   "metadata": {},
   "source": [
    "The output of `weight / 10` is `7.0` — *note: we will explain why this says 7.0 instead of 7 in the next section.*\n",
    "\n",
    "Notice that we can run multiple lines of code in succession by writing them one after another.\n",
    "\n",
    "#### A Better Long Calculation\n",
    "\n",
    "So here is another version of the calculation I made earlier, this time using variables:"
   ]
  },
  {
   "cell_type": "code",
   "execution_count": 19,
   "metadata": {},
   "outputs": [
    {
     "data": {
      "text/plain": [
       "42.0"
      ]
     },
     "execution_count": 19,
     "metadata": {},
     "output_type": "execute_result"
    }
   ],
   "source": [
    "weight = 70\n",
    "daily_food_per_10kg = 100\n",
    "kcal_per_kg_food = 3600\n",
    "kcal_per_egg = 60\n",
    "\n",
    "grams_food_per_day = (weight / 10) * daily_food_per_10kg\n",
    "kg_food_per_day = grams_food_per_day / 1000\n",
    "kcal_per_day = kg_food_per_day * kcal_per_kg_food\n",
    "num_of_eggs = kcal_per_day / kcal_per_egg\n",
    "\n",
    "num_of_eggs"
   ]
  },
  {
   "cell_type": "markdown",
   "metadata": {},
   "source": [
    "The final line of this cell tells jupyter to display the value of the variable `num_of_eggs` in the output of the cell – it is an *expression* containing just the variable `num_of_eggs`. \n",
    "\n",
    "This code is a lot longer than the version we had before! At first glance it might look *more* confusing. But, if you read it carefully, and read the variable names, you should be able to follow what is going on. \n",
    "\n",
    "Now it is incredibly easy to change the calculation. Perhaps we want to try using large eggs, which have about 72 calories each. Or perhaps we'd be curious to know how the final number would change for a dog weighing 10kg. These changes are easy to make by changing the first few lines, and we can re-run the cell to instantly re-use the same logic.\n",
    "\n",
    "#### Comments\n",
    "We can make the code *even easier* to read by adding **comments**. Anything written after a hash symbol `#` will be ignored. We normally write comments on the line *above* the line they refer to, rather than on the same line as other code – this makes it easier for people who use screen readers to read the comments."
   ]
  },
  {
   "cell_type": "code",
   "execution_count": 16,
   "metadata": {},
   "outputs": [
    {
     "data": {
      "text/plain": [
       "42.0"
      ]
     },
     "execution_count": 16,
     "metadata": {},
     "output_type": "execute_result"
    }
   ],
   "source": [
    "# weight in kg\n",
    "weight = 70\n",
    "# the current food daily requirement per 10kg dog weight\n",
    "daily_food_per_10kg = 100\n",
    "# the calories per kg of current food\n",
    "kcal_per_kg_food = 3600\n",
    "# the calories per egg\n",
    "kcal_per_egg = 60\n",
    "\n",
    "# calculate the number of eggs required to meet daily calories\n",
    "grams_food_per_day = (weight / 10) * daily_food_per_10kg\n",
    "kg_food_per_day = grams_food_per_day / 1000\n",
    "kcal_per_day = kg_food_per_day * kcal_per_kg_food\n",
    "num_of_eggs = kcal_per_day / kcal_per_egg\n",
    "\n",
    "# output the number of eggs to jupyter\n",
    "num_of_eggs"
   ]
  },
  {
   "cell_type": "markdown",
   "metadata": {},
   "source": [
    "##### Important Note\n",
    "**Use comments thoughtfully.** If you expect someone else to read your code, then you should use comments to guide them. Even if you do not expect anyone else to read your code, you might want to write comments for *a future version of you*! It is easy to forget what we were trying to do in code we wrote months or years ago. Used well, comments can guide you through tricky code, and save you lots of time trying to figure out *what* something does, and *why*.\n",
    "\n",
    "**However**, the goal is *readable code*, not *lots of comments*. You can assume the reader knows how to read and write normal code. There are many ways to make code readable, and your first priority should always be to **name variables sensibly**. Over-commenting will make code harder to read, so you do not need to comment on lines of code that are obvious to another programmer, and you certainly do not need to comment *every* line of code. "
   ]
  },
  {
   "cell_type": "markdown",
   "metadata": {},
   "source": [
    "#### Variable Variables\n",
    "The reason they are called *variables* is because the value of a particular name can be changed *inside* the code itself. Suppose the number of grams of food per day is supposed to go down by 5% each year as my dog gets older. We can calculate the result after 3 years using the following code:"
   ]
  },
  {
   "cell_type": "code",
   "execution_count": 23,
   "metadata": {},
   "outputs": [
    {
     "data": {
      "text/plain": [
       "600.1625"
      ]
     },
     "execution_count": 23,
     "metadata": {},
     "output_type": "execute_result"
    }
   ],
   "source": [
    "# weight in kg\n",
    "WEIGHT = 70\n",
    "# the current food daily requirement per 10kg dog weight\n",
    "DAILY_FOOD_PER_10KG = 100\n",
    "# the reduction per year in percent\n",
    "REDUCTION_PER_YEAR = 5\n",
    "\n",
    "\n",
    "# amount of food now\n",
    "grams_food_per_day = (WEIGHT / 10) * DAILY_FOOD_PER_10KG\n",
    "\n",
    "modifier = 1 - (REDUCTION_PER_YEAR / 100)\n",
    "\n",
    "# after 1 year\n",
    "grams_food_per_day = grams_food_per_day * modifier\n",
    "\n",
    "# after 2 years\n",
    "grams_food_per_day = grams_food_per_day * modifier\n",
    "\n",
    "# after 3 years\n",
    "grams_food_per_day = grams_food_per_day * modifier\n",
    "\n",
    "grams_food_per_day"
   ]
  },
  {
   "cell_type": "markdown",
   "metadata": {},
   "source": [
    "Notice that the first three variables: `WEIGHT`, `DAILY_FOOD_PER_10KG`, and `REDUCTION_PER_YEAR` were unchanged after they were defined, we are only giving them names because it makes the code easier to read and easier to change. These variables represent options from the user, so in this code it would be strange if the code changed them later. Some languages allow us to specify that a variable's value cannot be changed, and this is called a **constant**. Python does not have a special syntax for constants, but it is common to find variables being used in the same way, and we often write their names in all upper case letters if we wish to denote this.\n",
    "\n",
    "You will see more in the quizes for this section, below."
   ]
  },
  {
   "cell_type": "markdown",
   "metadata": {},
   "source": [
    "#### Questions\n",
    "Speak of the devil! Run the cells below to get some questions about variables. \n",
    "##### Part One\n",
    "In this quiz you will be keeping track of the values of variables. Again, the aim is to test your ability to manually process the code, not test your maths or memory – you can use a calculator and/or keep track of variables on paper if you need to. Also, as these are just examples for demonstration please ignore the meaningless variable names!"
   ]
  },
  {
   "cell_type": "code",
   "execution_count": null,
   "metadata": {
    "scrolled": false
   },
   "outputs": [],
   "source": [
    "%run ../scripts/interactive_questions ./questions/1.2.1q.txt"
   ]
  },
  {
   "cell_type": "markdown",
   "metadata": {},
   "source": [
    "##### Part Two\n",
    "In this quiz we flip it around: the quiz will tell you the result of running some code, but the name of a variable will be missing, and you need to work out what it should be."
   ]
  },
  {
   "cell_type": "code",
   "execution_count": null,
   "metadata": {
    "scrolled": false
   },
   "outputs": [],
   "source": [
    "%run ../scripts/interactive_questions ./questions/1.2.2q.txt"
   ]
  },
  {
   "cell_type": "markdown",
   "metadata": {},
   "source": [
    "Once you have completed both quizzes above you can move onto the [next section](1.3.ipynb)."
   ]
  }
 ],
 "metadata": {
  "kernelspec": {
   "display_name": "Python 3",
   "language": "python",
   "name": "python3"
  },
  "language_info": {
   "codemirror_mode": {
    "name": "ipython",
    "version": 3
   },
   "file_extension": ".py",
   "mimetype": "text/x-python",
   "name": "python",
   "nbconvert_exporter": "python",
   "pygments_lexer": "ipython3",
   "version": "3.6.1"
  }
 },
 "nbformat": 4,
 "nbformat_minor": 2
}
