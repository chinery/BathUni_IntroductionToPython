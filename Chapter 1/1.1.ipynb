{
 "cells": [
  {
   "cell_type": "markdown",
   "metadata": {},
   "source": [
    "# Chapter 1 – The Basics \n",
    "## Introduction\n",
    "\n",
    "Programming, writing code, is the process of writing **instructions** in a structured format so that a computer can understand them and then follow them out (**execute** them). Most code also requires **data** of some kind, which is information that we store in the computer.\n",
    "\n",
    "For example: you might write a program that sends you a reminder a week before your assignment is due. Here are some *instructions* for this program:\n",
    "1. Find the current date (date1)\n",
    "2. Find the date of your assignment (date2)\n",
    "3. Check if the number of days between date1 and date2 is equal to 7...\n",
    " * ...and if so, show you the reminder\n",
    " \n",
    "This program would need to be run every day to work properly, but we are not going to worry about the different ways we *run* code until [Chapter 3](../Chapter%203/3.1.ipynb). For now we will tell Jupyter to run code for us in small blocks.\n",
    "\n",
    "Also, notice that the *instructions* for this program could be tweaked very slightly to solve different problems. We could track different dates (birthdays, holidays...) and we could change the number of days out that the reminder is shown. In other words, we can change the *data* without needing to write new *instructions*."
   ]
  },
  {
   "cell_type": "markdown",
   "metadata": {},
   "source": [
    "## Section 1.1 – Expressions\n",
    "### Arithmetic\n",
    "We begin our journey into programming with the concept of expressions.\n",
    "\n",
    "Have a look at the following example of some Python code:"
   ]
  },
  {
   "cell_type": "code",
   "execution_count": 1,
   "metadata": {},
   "outputs": [
    {
     "data": {
      "text/plain": [
       "7"
      ]
     },
     "execution_count": 1,
     "metadata": {},
     "output_type": "execute_result"
    }
   ],
   "source": [
    "4 + 3"
   ]
  },
  {
   "cell_type": "markdown",
   "metadata": {},
   "source": [
    "Doing some basic maths in programming is very common. Earlier you saw an example where we might want to find the length of time between two dates – a surprisingly tricky task, depending on the dates involved. Solving it requires not just knowledge of programming **syntax** (e.g. Python) but a bunch of logic and a bit of maths as well.\n",
    "\n",
    "Python supports many arthmetic **operations**: addition `+`, subtraction `-`, mutiplication `*`, division `/` and more. \n",
    "\n",
    "This piece of code is called an **expression**. It has a value which we can **evaluate**."
   ]
  },
  {
   "cell_type": "code",
   "execution_count": 6,
   "metadata": {},
   "outputs": [
    {
     "data": {
      "text/plain": [
       "6"
      ]
     },
     "execution_count": 6,
     "metadata": {},
     "output_type": "execute_result"
    }
   ],
   "source": [
    "2 + 4"
   ]
  },
  {
   "cell_type": "markdown",
   "metadata": {},
   "source": [
    "When we *evaluate* `2+4` we get `6`. \n",
    "\n",
    "*Remember: you can change the code inside jupyter cells to see what the results would be with different numbers. Try changing the numbers above and rerunning the cell!*"
   ]
  },
  {
   "cell_type": "markdown",
   "metadata": {},
   "source": [
    "#### Code Structure\n",
    "To be able to *write* code we need to know how the computer will *read* it. A lot of the time a single line of code will do more than one thing. Luckily, it is always possible to work out the order in which everything happens.\n",
    "\n",
    "In maths there is an *order of precedence*, which says that multiplication is always performed before addition (you may have come across BODMAS, BIDMAS, PEMDAS, etc). Arithmetic expressions in Python follow this order as well. So if we write code like this..."
   ]
  },
  {
   "cell_type": "code",
   "execution_count": 13,
   "metadata": {},
   "outputs": [
    {
     "data": {
      "text/plain": [
       "10"
      ]
     },
     "execution_count": 13,
     "metadata": {},
     "output_type": "execute_result"
    }
   ],
   "source": [
    "4 + 3 * 2"
   ]
  },
  {
   "cell_type": "markdown",
   "metadata": {},
   "source": [
    "then sure enough, Python will follow the normal rules. \n",
    "\n",
    "This code\n",
    "```python\n",
    "4 + 3 * 2\n",
    "```\n",
    "evaluates to `10`. We do `3 * 2` first, which is `6`, and then add `4`, to get `10`.\n",
    "\n",
    "As with regular arithmetic, we can use parentheses to change the order:"
   ]
  },
  {
   "cell_type": "code",
   "execution_count": 12,
   "metadata": {},
   "outputs": [
    {
     "data": {
      "text/plain": [
       "14"
      ]
     },
     "execution_count": 12,
     "metadata": {},
     "output_type": "execute_result"
    }
   ],
   "source": [
    "(4 + 3) * 2"
   ]
  },
  {
   "cell_type": "code",
   "execution_count": 1,
   "metadata": {},
   "outputs": [
    {
     "data": {
      "text/plain": [
       "-2"
      ]
     },
     "execution_count": 1,
     "metadata": {},
     "output_type": "execute_result"
    }
   ],
   "source": [
    "1 - (2 + 1)"
   ]
  },
  {
   "cell_type": "markdown",
   "metadata": {},
   "source": [
    "#### Questions\n",
    "Your turn! Run the cell below and see if you can answer the questions. The aim of the exercise is to properly work out in what order Python will **evaluate** the operations.\n",
    "\n",
    "This is not meant to be challenging mathematically – if you are struggling feel free to use a basic calculator, but do the order of operations yourself.\n",
    "\n",
    "The questions within each quiz get harder as you go on, and may even introduce some ideas you haven't seen before. Make sure you complete the initial set of questions in every quiz at least once.\n",
    "\n",
    "*Note 1: you can input decimal or negative numbers exactly as you'd expect!*<br>\n",
    "*Note 2: remember you need to either finish the quiz or stop the execution of the cell before you can run another cell*"
   ]
  },
  {
   "cell_type": "code",
   "execution_count": null,
   "metadata": {
    "scrolled": true
   },
   "outputs": [],
   "source": [
    "%run ../scripts/interactive_questions ./questions/1.1.1q.txt"
   ]
  },
  {
   "cell_type": "markdown",
   "metadata": {},
   "source": [
    "### Booleans\n",
    "We use numbers a lot in programming, but we use other things too. A Boolean (named after [George Boole](https://en.wikipedia.org/wiki/George_Boole)) is a value that is either true or false. There are many ways you could write these:\n",
    "* true, false\n",
    "* T, F\n",
    "* 1, 0\n",
    "\n",
    "In Python, we write `True` and `False` (notice the T and F are upper case)."
   ]
  },
  {
   "cell_type": "code",
   "execution_count": 11,
   "metadata": {},
   "outputs": [
    {
     "data": {
      "text/plain": [
       "True"
      ]
     },
     "execution_count": 11,
     "metadata": {},
     "output_type": "execute_result"
    }
   ],
   "source": [
    "True"
   ]
  },
  {
   "cell_type": "code",
   "execution_count": 12,
   "metadata": {},
   "outputs": [
    {
     "data": {
      "text/plain": [
       "False"
      ]
     },
     "execution_count": 12,
     "metadata": {},
     "output_type": "execute_result"
    }
   ],
   "source": [
    "False"
   ]
  },
  {
   "cell_type": "markdown",
   "metadata": {},
   "source": [
    "#### Boolean Operations\n",
    "Addition is an *arithmetic operation*. It takes two numbers and produces another number.\n",
    "\n",
    "There are three *Boolean operations* you need to know as well:\n",
    "* **AND**\n",
    "* **OR**\n",
    "* **NOT**\n",
    "\n",
    "And here is how they work:\n",
    "* **X AND Y** – is true if X and Y are both true, otherwise the result is false \n",
    "* **X OR Y** – is true if either X or Y are true, otherwise the result is false \n",
    "* **NOT X** – flips the value of X: true becomes false, false becomes true \n",
    "\n",
    "In Python we use `and` to do the AND operation:"
   ]
  },
  {
   "cell_type": "code",
   "execution_count": 10,
   "metadata": {},
   "outputs": [
    {
     "data": {
      "text/plain": [
       "False"
      ]
     },
     "execution_count": 10,
     "metadata": {},
     "output_type": "execute_result"
    }
   ],
   "source": [
    "True and False"
   ]
  },
  {
   "cell_type": "markdown",
   "metadata": {},
   "source": [
    "we use the word `or` to do the OR operation:"
   ]
  },
  {
   "cell_type": "code",
   "execution_count": 13,
   "metadata": {},
   "outputs": [
    {
     "data": {
      "text/plain": [
       "True"
      ]
     },
     "execution_count": 13,
     "metadata": {},
     "output_type": "execute_result"
    }
   ],
   "source": [
    "True or False"
   ]
  },
  {
   "cell_type": "markdown",
   "metadata": {},
   "source": [
    "and, you guessed it, we use the word `not` to do the NOT operation:"
   ]
  },
  {
   "cell_type": "code",
   "execution_count": 14,
   "metadata": {},
   "outputs": [
    {
     "data": {
      "text/plain": [
       "True"
      ]
     },
     "execution_count": 14,
     "metadata": {},
     "output_type": "execute_result"
    }
   ],
   "source": [
    "not False"
   ]
  },
  {
   "cell_type": "markdown",
   "metadata": {},
   "source": [
    "The *order of precendence* goes:\n",
    "1. NOT\n",
    "2. AND\n",
    "3. OR\n",
    "\n",
    "So when we *evaluate*\n",
    "```python\n",
    "not False and not False or False\n",
    "```\n",
    "we get\n",
    "```python\n",
    "True\n",
    "```"
   ]
  },
  {
   "cell_type": "code",
   "execution_count": 20,
   "metadata": {},
   "outputs": [
    {
     "data": {
      "text/plain": [
       "True"
      ]
     },
     "execution_count": 20,
     "metadata": {},
     "output_type": "execute_result"
    }
   ],
   "source": [
    "not False and not False or False"
   ]
  },
  {
   "cell_type": "markdown",
   "metadata": {},
   "source": [
    "Can you see why? Let's write parentheses to show the order.\n",
    "\n",
    "NOT is applied first:\n",
    "```python\n",
    "(not False) and (not False) or False\n",
    "```\n",
    "then AND\n",
    "```python\n",
    "((not False) and (not False)) or False\n",
    "```\n",
    "finally OR\n",
    "```python\n",
    "(((not False) and (not False)) or False)\n",
    "```"
   ]
  },
  {
   "cell_type": "markdown",
   "metadata": {},
   "source": [
    "At some point you will need to write complicated lines of code that do multiple things at once, and to be able to write a line of code like that you need to be able to read them. The single line of code is a sequence of actions – you need to be able to work out what order they will be performed in, and then work out what the result would be.\n",
    "\n",
    "So now that we have worked out the order that the operations are applied, let's actually apply them:\n",
    "```python\n",
    "(((not False) and (not False)) or False)\n",
    "```\n",
    "\n",
    "becomes\n",
    "```python\n",
    "((True and True) or False)\n",
    "```\n",
    "\n",
    "which becomes\n",
    "```python\n",
    "(True or False)\n",
    "```\n",
    "\n",
    "which becomes\n",
    "```python\n",
    "True\n",
    "```\n",
    "\n",
    "#### Questions\n",
    "Now let's try some questions on Boolean operations. Run the cell below, and for each question, try to work out in what order Python will *evaluate* the operations, and then work out the final result."
   ]
  },
  {
   "cell_type": "code",
   "execution_count": null,
   "metadata": {},
   "outputs": [],
   "source": [
    "%run ../scripts/interactive_questions ./questions/1.1.2q.txt"
   ]
  },
  {
   "cell_type": "markdown",
   "metadata": {},
   "source": [
    "Again, make sure you complete the quiz at least once. When you are done, you can move onto the [next section](1.2.ipynb)."
   ]
  }
 ],
 "metadata": {
  "kernelspec": {
   "display_name": "Python 3",
   "language": "python",
   "name": "python3"
  },
  "language_info": {
   "codemirror_mode": {
    "name": "ipython",
    "version": 3
   },
   "file_extension": ".py",
   "mimetype": "text/x-python",
   "name": "python",
   "nbconvert_exporter": "python",
   "pygments_lexer": "ipython3",
   "version": "3.7.4"
  }
 },
 "nbformat": 4,
 "nbformat_minor": 2
}
